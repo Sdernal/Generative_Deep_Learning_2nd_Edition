{
 "cells": [
  {
   "cell_type": "markdown",
   "id": "b076bd1a-b236-4fbc-953d-8295b25122ae",
   "metadata": {},
   "source": [
    "# 🚀 GPT"
   ]
  },
  {
   "cell_type": "markdown",
   "id": "4dca6836-0007-43f3-af65-d12ae1922c02",
   "metadata": {
    "tags": []
   },
   "source": [
    "In this notebook, we'll walk through the steps required to train your own GPT model on the wine review dataset"
   ]
  },
  {
   "cell_type": "markdown",
   "id": "3e6cb7c7-d3d5-4b12-b357-1f6118edffe0",
   "metadata": {},
   "source": [
    "The code is adapted from the excellent [GPT tutorial](https://keras.io/examples/generative/text_generation_with_miniature_gpt/) created by Apoorv Nandan available on the Keras website."
   ]
  },
  {
   "cell_type": "code",
   "execution_count": 1,
   "id": "73350761-bef2-4e96-b3ac-a158eabd2b65",
   "metadata": {
    "tags": []
   },
   "outputs": [],
   "source": [
    "%load_ext autoreload\n",
    "%autoreload 2\n",
    "import numpy as np\n",
    "import json\n",
    "import re\n",
    "import string\n",
    "from IPython.display import display, HTML\n",
    "\n",
    "import tensorflow as tf\n",
    "from tensorflow.keras import layers, models, losses, callbacks"
   ]
  },
  {
   "cell_type": "markdown",
   "id": "339e6268-ebd7-4feb-86db-1fe7abccdbe5",
   "metadata": {},
   "source": [
    "## 0. Parameters <a name=\"parameters\"></a>"
   ]
  },
  {
   "cell_type": "code",
   "execution_count": 2,
   "id": "2d8352af-343e-4c2e-8c91-95f8bac1c8a1",
   "metadata": {},
   "outputs": [],
   "source": [
    "VOCAB_SIZE = 10000\n",
    "MAX_LEN = 80\n",
    "EMBEDDING_DIM = 256\n",
    "KEY_DIM = 256\n",
    "N_HEADS = 2\n",
    "FEED_FORWARD_DIM = 256\n",
    "VALIDATION_SPLIT = 0.2\n",
    "SEED = 42\n",
    "LOAD_MODEL = False\n",
    "BATCH_SIZE = 32\n",
    "EPOCHS = 5"
   ]
  },
  {
   "cell_type": "markdown",
   "id": "b7716fac-0010-49b0-b98e-53be2259edde",
   "metadata": {},
   "source": [
    "## 1. Load the data <a name=\"load\"></a>"
   ]
  },
  {
   "cell_type": "code",
   "execution_count": 3,
   "id": "93cf6b0f-9667-4146-8911-763a8a2925d3",
   "metadata": {
    "tags": []
   },
   "outputs": [],
   "source": [
    "# Load the full dataset\n",
    "with open(\"..\\\\..\\\\..\\\\data\\\\wine-reviews\\\\winemag-data-130k-v2.json\") as json_data:\n",
    "    wine_data = json.load(json_data)"
   ]
  },
  {
   "cell_type": "code",
   "execution_count": 4,
   "id": "2db5c0fc-0d5f-42ab-ade1-57e594c416ec",
   "metadata": {
    "tags": []
   },
   "outputs": [
    {
     "data": {
      "text/plain": [
       "{'points': '87',\n",
       " 'title': 'Kirkland Signature 2011 Mountain Cuvée Cabernet Sauvignon (Napa Valley)',\n",
       " 'description': 'Soft, supple plum envelopes an oaky structure in this Cabernet, supported by 15% Merlot. Coffee and chocolate complete the picture, finishing strong at the end, resulting in a value-priced wine of attractive flavor and immediate accessibility.',\n",
       " 'taster_name': 'Virginie Boone',\n",
       " 'taster_twitter_handle': '@vboone',\n",
       " 'price': 19,\n",
       " 'designation': 'Mountain Cuvée',\n",
       " 'variety': 'Cabernet Sauvignon',\n",
       " 'region_1': 'Napa Valley',\n",
       " 'region_2': 'Napa',\n",
       " 'province': 'California',\n",
       " 'country': 'US',\n",
       " 'winery': 'Kirkland Signature'}"
      ]
     },
     "execution_count": 4,
     "metadata": {},
     "output_type": "execute_result"
    }
   ],
   "source": [
    "wine_data[10]"
   ]
  },
  {
   "cell_type": "code",
   "execution_count": 5,
   "id": "23a74eca-f1b7-4a46-9a1f-b5806a4ed361",
   "metadata": {
    "tags": []
   },
   "outputs": [],
   "source": [
    "# Filter the dataset\n",
    "filtered_data = [\n",
    "    \"wine review : \"\n",
    "    + x[\"country\"]\n",
    "    + \" : \"\n",
    "    + x[\"province\"]\n",
    "    + \" : \"\n",
    "    + x[\"variety\"]\n",
    "    + \" : \"\n",
    "    + x[\"description\"]\n",
    "    for x in wine_data\n",
    "    if x[\"country\"] is not None\n",
    "    and x[\"province\"] is not None\n",
    "    and x[\"variety\"] is not None\n",
    "    and x[\"description\"] is not None\n",
    "]"
   ]
  },
  {
   "cell_type": "code",
   "execution_count": 6,
   "id": "389c20de-0422-4c48-a7b4-6ee12a7bf0e2",
   "metadata": {
    "tags": []
   },
   "outputs": [
    {
     "name": "stdout",
     "output_type": "stream",
     "text": [
      "129907 recipes loaded\n"
     ]
    }
   ],
   "source": [
    "# Count the recipes\n",
    "n_wines = len(filtered_data)\n",
    "print(f\"{n_wines} recipes loaded\")"
   ]
  },
  {
   "cell_type": "code",
   "execution_count": 7,
   "id": "1b2e3cf7-e416-460e-874a-0dd9637bca36",
   "metadata": {},
   "outputs": [
    {
     "name": "stdout",
     "output_type": "stream",
     "text": [
      "wine review : US : California : Pinot Noir : Oak and earth intermingle around robust aromas of wet forest floor in this vineyard-designated Pinot that hails from a high-elevation site. Small in production, it offers intense, full-bodied raspberry and blackberry steeped in smoky spice and smooth texture.\n"
     ]
    }
   ],
   "source": [
    "example = filtered_data[25]\n",
    "print(example)"
   ]
  },
  {
   "cell_type": "markdown",
   "id": "3f871aaf-d873-41c7-8946-e4eef7ac17c1",
   "metadata": {},
   "source": [
    "## 2. Tokenize the data <a name=\"tokenize\"></a>"
   ]
  },
  {
   "cell_type": "code",
   "execution_count": 8,
   "id": "5b2064fb-5dcc-4657-b470-0928d10e2ddc",
   "metadata": {
    "tags": []
   },
   "outputs": [],
   "source": [
    "# Pad the punctuation, to treat them as separate 'words'\n",
    "def pad_punctuation(s):\n",
    "    s = re.sub(f\"([{string.punctuation}, '\\n'])\", r\" \\1 \", s)\n",
    "    s = re.sub(\" +\", \" \", s)\n",
    "    return s\n",
    "\n",
    "\n",
    "text_data = [pad_punctuation(x) for x in filtered_data]"
   ]
  },
  {
   "cell_type": "code",
   "execution_count": 9,
   "id": "b87d7c65-9a46-492a-a5c0-a043b0d252f3",
   "metadata": {},
   "outputs": [
    {
     "data": {
      "text/plain": [
       "'wine review : US : California : Pinot Noir : Oak and earth intermingle around robust aromas of wet forest floor in this vineyard - designated Pinot that hails from a high - elevation site . Small in production , it offers intense , full - bodied raspberry and blackberry steeped in smoky spice and smooth texture . '"
      ]
     },
     "execution_count": 9,
     "metadata": {},
     "output_type": "execute_result"
    }
   ],
   "source": [
    "# Display an example of a recipe\n",
    "example_data = text_data[25]\n",
    "example_data"
   ]
  },
  {
   "cell_type": "code",
   "execution_count": 10,
   "id": "9834f916-b21a-4104-acc9-f28d3bd7a8c1",
   "metadata": {
    "tags": []
   },
   "outputs": [],
   "source": [
    "# Convert to a Tensorflow Dataset\n",
    "text_ds = (\n",
    "    tf.data.Dataset.from_tensor_slices(text_data)\n",
    "    .batch(BATCH_SIZE)\n",
    "    .shuffle(1000)\n",
    ")"
   ]
  },
  {
   "cell_type": "code",
   "execution_count": 11,
   "id": "884c0bcb-0807-45a1-8f7e-a32f2c6fa4de",
   "metadata": {},
   "outputs": [],
   "source": [
    "# Create a vectorisation layer\n",
    "vectorize_layer = layers.TextVectorization(\n",
    "    standardize=\"lower\",\n",
    "    max_tokens=VOCAB_SIZE,\n",
    "    output_mode=\"int\",\n",
    "    output_sequence_length=MAX_LEN + 1,\n",
    ")"
   ]
  },
  {
   "cell_type": "code",
   "execution_count": 12,
   "id": "4d6dd34a-d905-497b-926a-405380ebcf98",
   "metadata": {},
   "outputs": [],
   "source": [
    "# Adapt the layer to the training set\n",
    "vectorize_layer.adapt(text_ds)\n",
    "vocab = vectorize_layer.get_vocabulary()"
   ]
  },
  {
   "cell_type": "code",
   "execution_count": 13,
   "id": "f6c1c7ce-3cf0-40d4-a3dc-ab7090f69f2f",
   "metadata": {},
   "outputs": [
    {
     "name": "stdout",
     "output_type": "stream",
     "text": [
      "0: \n",
      "1: [UNK]\n",
      "2: :\n",
      "3: ,\n",
      "4: .\n",
      "5: and\n",
      "6: the\n",
      "7: wine\n",
      "8: a\n",
      "9: of\n"
     ]
    }
   ],
   "source": [
    "# Display some token:word mappings\n",
    "for i, word in enumerate(vocab[:10]):\n",
    "    print(f\"{i}: {word}\")"
   ]
  },
  {
   "cell_type": "code",
   "execution_count": 14,
   "id": "1cc30186-7ec6-4eb6-b29a-65df6714d321",
   "metadata": {},
   "outputs": [
    {
     "name": "stdout",
     "output_type": "stream",
     "text": [
      "[   7   10    2   20    2   29    2   43   62    2   55    5  243 4145\n",
      "  453  634   26    9  497  499  667   17   12  142   14 2214   43   25\n",
      " 2484   32    8  223   14 2213  948    4  594   17  987    3   15   75\n",
      "  237    3   64   14   82   97    5   74 2633   17  198   49    5  125\n",
      "   77    4    0    0    0    0    0    0    0    0    0    0    0    0\n",
      "    0    0    0    0    0    0    0    0    0    0    0]\n"
     ]
    }
   ],
   "source": [
    "# Display the same example converted to ints\n",
    "example_tokenised = vectorize_layer(example_data)\n",
    "print(example_tokenised.numpy())"
   ]
  },
  {
   "cell_type": "markdown",
   "id": "8c195efb-84c6-4be0-a989-a7542188ad35",
   "metadata": {},
   "source": [
    "## 3. Create the Training Set <a name=\"create\"></a>"
   ]
  },
  {
   "cell_type": "code",
   "execution_count": 15,
   "id": "740294a1-1a6b-4c89-92f2-036d7d1b788b",
   "metadata": {},
   "outputs": [],
   "source": [
    "# Create the training set of recipes and the same text shifted by one word\n",
    "def prepare_inputs(text):\n",
    "    text = tf.expand_dims(text, -1)\n",
    "    tokenized_sentences = vectorize_layer(text)\n",
    "    x = tokenized_sentences[:, :-1]\n",
    "    y = tokenized_sentences[:, 1:]\n",
    "    return x, y\n",
    "\n",
    "\n",
    "train_ds = text_ds.map(prepare_inputs)"
   ]
  },
  {
   "cell_type": "code",
   "execution_count": 16,
   "id": "ac4c8f55-a175-4c84-aee6-ae60011c3368",
   "metadata": {},
   "outputs": [
    {
     "data": {
      "text/plain": [
       "4060"
      ]
     },
     "execution_count": 16,
     "metadata": {},
     "output_type": "execute_result"
    }
   ],
   "source": [
    "len(text_ds)"
   ]
  },
  {
   "cell_type": "code",
   "execution_count": 17,
   "id": "cad80ffb-4298-4249-86b4-9918d62534c5",
   "metadata": {},
   "outputs": [],
   "source": [
    "example_input_output = train_ds.take(1).get_single_element()"
   ]
  },
  {
   "cell_type": "code",
   "execution_count": 18,
   "id": "67ff7263-f62d-44c1-997b-1aa99a393521",
   "metadata": {},
   "outputs": [
    {
     "data": {
      "text/plain": [
       "<tf.Tensor: shape=(80,), dtype=int64, numpy=\n",
       "array([   7,   10,    2,   20,    2,   29,    2,  100,    2,    8,  226,\n",
       "         94,    5,  650,    3,   11,   72,   36,    3,   86,  613,    5,\n",
       "        300,   16, 1112,   11,   73,   30,    4,   35,   66,    4,    0,\n",
       "          0,    0,    0,    0,    0,    0,    0,    0,    0,    0,    0,\n",
       "          0,    0,    0,    0,    0,    0,    0,    0,    0,    0,    0,\n",
       "          0,    0,    0,    0,    0,    0,    0,    0,    0,    0,    0,\n",
       "          0,    0,    0,    0,    0,    0,    0,    0,    0,    0,    0,\n",
       "          0,    0,    0], dtype=int64)>"
      ]
     },
     "execution_count": 18,
     "metadata": {},
     "output_type": "execute_result"
    }
   ],
   "source": [
    "# Example Input\n",
    "example_input_output[0][0]"
   ]
  },
  {
   "cell_type": "code",
   "execution_count": 19,
   "id": "ef2e2cad-414c-4e6d-a2ac-6b9598f9dd01",
   "metadata": {},
   "outputs": [
    {
     "data": {
      "text/plain": [
       "<tf.Tensor: shape=(80,), dtype=int64, numpy=\n",
       "array([  10,    2,   20,    2,   29,    2,  100,    2,    8,  226,   94,\n",
       "          5,  650,    3,   11,   72,   36,    3,   86,  613,    5,  300,\n",
       "         16, 1112,   11,   73,   30,    4,   35,   66,    4,    0,    0,\n",
       "          0,    0,    0,    0,    0,    0,    0,    0,    0,    0,    0,\n",
       "          0,    0,    0,    0,    0,    0,    0,    0,    0,    0,    0,\n",
       "          0,    0,    0,    0,    0,    0,    0,    0,    0,    0,    0,\n",
       "          0,    0,    0,    0,    0,    0,    0,    0,    0,    0,    0,\n",
       "          0,    0,    0], dtype=int64)>"
      ]
     },
     "execution_count": 19,
     "metadata": {},
     "output_type": "execute_result"
    }
   ],
   "source": [
    "# Example Output (shifted by one token)\n",
    "example_input_output[1][0]"
   ]
  },
  {
   "cell_type": "markdown",
   "id": "aff50401-3abe-4c10-bba8-b35bc13ad7d5",
   "metadata": {
    "tags": []
   },
   "source": [
    "## 5. Create the causal attention mask function <a name=\"causal\"></a>"
   ]
  },
  {
   "cell_type": "code",
   "execution_count": 20,
   "id": "554a4184-61c2-4eb7-a063-d965586a8188",
   "metadata": {},
   "outputs": [
    {
     "data": {
      "text/plain": [
       "array([[1, 1, 1, 1, 1, 1, 1, 1, 1, 1],\n",
       "       [0, 1, 1, 1, 1, 1, 1, 1, 1, 1],\n",
       "       [0, 0, 1, 1, 1, 1, 1, 1, 1, 1],\n",
       "       [0, 0, 0, 1, 1, 1, 1, 1, 1, 1],\n",
       "       [0, 0, 0, 0, 1, 1, 1, 1, 1, 1],\n",
       "       [0, 0, 0, 0, 0, 1, 1, 1, 1, 1],\n",
       "       [0, 0, 0, 0, 0, 0, 1, 1, 1, 1],\n",
       "       [0, 0, 0, 0, 0, 0, 0, 1, 1, 1],\n",
       "       [0, 0, 0, 0, 0, 0, 0, 0, 1, 1],\n",
       "       [0, 0, 0, 0, 0, 0, 0, 0, 0, 1]])"
      ]
     },
     "execution_count": 20,
     "metadata": {},
     "output_type": "execute_result"
    }
   ],
   "source": [
    "def causal_attention_mask(batch_size, n_dest, n_src, dtype):\n",
    "    i = tf.range(n_dest)[:, None]\n",
    "    j = tf.range(n_src)\n",
    "    m = i >= j - n_src + n_dest\n",
    "    mask = tf.cast(m, dtype)\n",
    "    mask = tf.reshape(mask, [1, n_dest, n_src])\n",
    "    mult = tf.concat(\n",
    "        [tf.expand_dims(batch_size, -1), tf.constant([1, 1], dtype=tf.int32)], 0\n",
    "    )\n",
    "    return tf.tile(mask, mult)\n",
    "\n",
    "\n",
    "np.transpose(causal_attention_mask(1, 10, 10, dtype=tf.int32)[0])"
   ]
  },
  {
   "cell_type": "code",
   "execution_count": 22,
   "id": "45e857c7-4f98-4a08-8c96-4d180574be81",
   "metadata": {},
   "outputs": [],
   "source": [
    "i = tf.range(10)[:, None]\n",
    "j = tf.range(10)\n",
    "m = i >= j"
   ]
  },
  {
   "cell_type": "code",
   "execution_count": 28,
   "id": "bec46ea8-bf34-444e-89e8-f8f7183d46bc",
   "metadata": {},
   "outputs": [
    {
     "data": {
      "text/plain": [
       "(array([[0],\n",
       "        [1],\n",
       "        [2],\n",
       "        [3],\n",
       "        [4],\n",
       "        [5],\n",
       "        [6],\n",
       "        [7],\n",
       "        [8],\n",
       "        [9]]),\n",
       " array([0, 1, 2, 3, 4, 5, 6, 7, 8, 9]),\n",
       " array([[1, 1, 1, 1, 1, 1, 1, 1, 1, 1],\n",
       "        [0, 1, 1, 1, 1, 1, 1, 1, 1, 1],\n",
       "        [0, 0, 1, 1, 1, 1, 1, 1, 1, 1],\n",
       "        [0, 0, 0, 1, 1, 1, 1, 1, 1, 1],\n",
       "        [0, 0, 0, 0, 1, 1, 1, 1, 1, 1],\n",
       "        [0, 0, 0, 0, 0, 1, 1, 1, 1, 1],\n",
       "        [0, 0, 0, 0, 0, 0, 1, 1, 1, 1],\n",
       "        [0, 0, 0, 0, 0, 0, 0, 1, 1, 1],\n",
       "        [0, 0, 0, 0, 0, 0, 0, 0, 1, 1],\n",
       "        [0, 0, 0, 0, 0, 0, 0, 0, 0, 1]]))"
      ]
     },
     "execution_count": 28,
     "metadata": {},
     "output_type": "execute_result"
    }
   ],
   "source": [
    "i.numpy(), j.numpy(), tf.cast(m, tf.int32).numpy().T"
   ]
  },
  {
   "cell_type": "markdown",
   "id": "3501dbad-0860-40ad-b7d6-47950e37858f",
   "metadata": {},
   "source": [
    "## 6. Create a Transformer Block layer <a name=\"transformer\"></a>"
   ]
  },
  {
   "cell_type": "code",
   "execution_count": 29,
   "id": "5285a1cb-fce1-46b1-b088-b596002fa9ae",
   "metadata": {},
   "outputs": [],
   "source": [
    "class TransformerBlock(layers.Layer):\n",
    "    def __init__(self, num_heads, key_dim, embed_dim, ff_dim, dropout_rate=0.1):\n",
    "        super(TransformerBlock, self).__init__()\n",
    "        self.num_heads = num_heads\n",
    "        self.key_dim = key_dim\n",
    "        self.embed_dim = embed_dim\n",
    "        self.ff_dim = ff_dim\n",
    "        self.dropout_rate = dropout_rate\n",
    "        self.attn = layers.MultiHeadAttention(\n",
    "            num_heads, key_dim, output_shape=embed_dim\n",
    "        )\n",
    "        self.dropout_1 = layers.Dropout(self.dropout_rate)\n",
    "        self.ln_1 = layers.LayerNormalization(epsilon=1e-6)\n",
    "        self.ffn_1 = layers.Dense(self.ff_dim, activation=\"relu\")\n",
    "        self.ffn_2 = layers.Dense(self.embed_dim)\n",
    "        self.dropout_2 = layers.Dropout(self.dropout_rate)\n",
    "        self.ln_2 = layers.LayerNormalization(epsilon=1e-6)\n",
    "\n",
    "    def call(self, inputs):\n",
    "        input_shape = tf.shape(inputs)\n",
    "        batch_size = input_shape[0]\n",
    "        seq_len = input_shape[1]\n",
    "        causal_mask = causal_attention_mask(\n",
    "            batch_size, seq_len, seq_len, tf.bool\n",
    "        )\n",
    "        attention_output, attention_scores = self.attn(\n",
    "            inputs,\n",
    "            inputs,\n",
    "            attention_mask=causal_mask,\n",
    "            return_attention_scores=True,\n",
    "        )\n",
    "        attention_output = self.dropout_1(attention_output)\n",
    "        out1 = self.ln_1(inputs + attention_output)\n",
    "        ffn_1 = self.ffn_1(out1)\n",
    "        ffn_2 = self.ffn_2(ffn_1)\n",
    "        ffn_output = self.dropout_2(ffn_2)\n",
    "        return (self.ln_2(out1 + ffn_output), attention_scores)\n",
    "\n",
    "    def get_config(self):\n",
    "        config = super().get_config()\n",
    "        config.update(\n",
    "            {\n",
    "                \"key_dim\": self.key_dim,\n",
    "                \"embed_dim\": self.embed_dim,\n",
    "                \"num_heads\": self.num_heads,\n",
    "                \"ff_dim\": self.ff_dim,\n",
    "                \"dropout_rate\": self.dropout_rate,\n",
    "            }\n",
    "        )\n",
    "        return config"
   ]
  },
  {
   "cell_type": "markdown",
   "id": "076a6be0-9796-4974-9bcd-6ebbcfe7514e",
   "metadata": {
    "tags": []
   },
   "source": [
    "## 7. Create the Token and Position Embedding <a name=\"embedder\"></a>"
   ]
  },
  {
   "cell_type": "code",
   "execution_count": 30,
   "id": "fdf5cb25-88ae-4026-9e21-c1e6b5094a2c",
   "metadata": {},
   "outputs": [],
   "source": [
    "class TokenAndPositionEmbedding(layers.Layer):\n",
    "    def __init__(self, max_len, vocab_size, embed_dim):\n",
    "        super(TokenAndPositionEmbedding, self).__init__()\n",
    "        self.max_len = max_len\n",
    "        self.vocab_size = vocab_size\n",
    "        self.embed_dim = embed_dim\n",
    "        self.token_emb = layers.Embedding(\n",
    "            input_dim=vocab_size, output_dim=embed_dim\n",
    "        )\n",
    "        self.pos_emb = layers.Embedding(input_dim=max_len, output_dim=embed_dim)\n",
    "\n",
    "    def call(self, x):\n",
    "        maxlen = tf.shape(x)[-1]\n",
    "        positions = tf.range(start=0, limit=maxlen, delta=1)\n",
    "        positions = self.pos_emb(positions)\n",
    "        x = self.token_emb(x)\n",
    "        return x + positions\n",
    "\n",
    "    def get_config(self):\n",
    "        config = super().get_config()\n",
    "        config.update(\n",
    "            {\n",
    "                \"max_len\": self.max_len,\n",
    "                \"vocab_size\": self.vocab_size,\n",
    "                \"embed_dim\": self.embed_dim,\n",
    "            }\n",
    "        )\n",
    "        return config"
   ]
  },
  {
   "cell_type": "markdown",
   "id": "aac2e2d4-5980-47e3-b5b0-6c41c0c2d152",
   "metadata": {},
   "source": [
    "## 8. Build the Transformer model <a name=\"transformer_decoder\"></a>"
   ]
  },
  {
   "cell_type": "code",
   "execution_count": 31,
   "id": "8c57596e-e17d-4959-b6e8-7581b0bace3a",
   "metadata": {},
   "outputs": [],
   "source": [
    "inputs = layers.Input(shape=(None,), dtype=tf.int32)\n",
    "x = TokenAndPositionEmbedding(MAX_LEN, VOCAB_SIZE, EMBEDDING_DIM)(inputs)\n",
    "x, attention_scores = TransformerBlock(\n",
    "    N_HEADS, KEY_DIM, EMBEDDING_DIM, FEED_FORWARD_DIM\n",
    ")(x)\n",
    "outputs = layers.Dense(VOCAB_SIZE, activation=\"softmax\")(x)\n",
    "gpt = models.Model(inputs=inputs, outputs=[outputs, attention_scores])\n",
    "gpt.compile(\"adam\", loss=[losses.SparseCategoricalCrossentropy(), None])"
   ]
  },
  {
   "cell_type": "code",
   "execution_count": 32,
   "id": "1a1c3b0f-3382-444d-bb04-bae143ae5d61",
   "metadata": {},
   "outputs": [
    {
     "name": "stdout",
     "output_type": "stream",
     "text": [
      "Model: \"model\"\n",
      "_________________________________________________________________\n",
      " Layer (type)                Output Shape              Param #   \n",
      "=================================================================\n",
      " input_1 (InputLayer)        [(None, None)]            0         \n",
      "                                                                 \n",
      " token_and_position_embeddin  (None, None, 256)        2580480   \n",
      " g (TokenAndPositionEmbeddin                                     \n",
      " g)                                                              \n",
      "                                                                 \n",
      " transformer_block (Transfor  ((None, None, 256),      658688    \n",
      " merBlock)                    (None, 2, None, None))             \n",
      "                                                                 \n",
      " dense_2 (Dense)             (None, None, 10000)       2570000   \n",
      "                                                                 \n",
      "=================================================================\n",
      "Total params: 5,809,168\n",
      "Trainable params: 5,809,168\n",
      "Non-trainable params: 0\n",
      "_________________________________________________________________\n"
     ]
    }
   ],
   "source": [
    "gpt.summary()"
   ]
  },
  {
   "cell_type": "code",
   "execution_count": 33,
   "id": "800a3c6e-fb11-4792-b6bc-9a43a7c977ad",
   "metadata": {
    "tags": []
   },
   "outputs": [],
   "source": [
    "if LOAD_MODEL:\n",
    "    # model.load_weights('./models/model')\n",
    "    gpt = models.load_model(\"./models/gpt\", compile=True)"
   ]
  },
  {
   "cell_type": "markdown",
   "id": "35b14665-4359-447b-be58-3fd58ba69084",
   "metadata": {},
   "source": [
    "## 9. Train the Transformer <a name=\"train\"></a>"
   ]
  },
  {
   "cell_type": "code",
   "execution_count": 34,
   "id": "3ddcff5f-829d-4449-99d2-9a3cb68f7d72",
   "metadata": {},
   "outputs": [],
   "source": [
    "# Create a TextGenerator checkpoint\n",
    "class TextGenerator(callbacks.Callback):\n",
    "    def __init__(self, index_to_word, top_k=10):\n",
    "        self.index_to_word = index_to_word\n",
    "        self.word_to_index = {\n",
    "            word: index for index, word in enumerate(index_to_word)\n",
    "        }\n",
    "\n",
    "    def sample_from(self, probs, temperature):\n",
    "        probs = probs ** (1 / temperature)\n",
    "        probs = probs / np.sum(probs)\n",
    "        return np.random.choice(len(probs), p=probs), probs\n",
    "\n",
    "    def generate(self, start_prompt, max_tokens, temperature):\n",
    "        start_tokens = [\n",
    "            self.word_to_index.get(x, 1) for x in start_prompt.split()\n",
    "        ]\n",
    "        sample_token = None\n",
    "        info = []\n",
    "        while len(start_tokens) < max_tokens and sample_token != 0:\n",
    "            x = np.array([start_tokens])\n",
    "            y, att = self.model.predict(x, verbose=0)\n",
    "            sample_token, probs = self.sample_from(y[0][-1], temperature)\n",
    "            info.append(\n",
    "                {\n",
    "                    \"prompt\": start_prompt,\n",
    "                    \"word_probs\": probs,\n",
    "                    \"atts\": att[0, :, -1, :],\n",
    "                }\n",
    "            )\n",
    "            start_tokens.append(sample_token)\n",
    "            start_prompt = start_prompt + \" \" + self.index_to_word[sample_token]\n",
    "        print(f\"\\ngenerated text:\\n{start_prompt}\\n\")\n",
    "        return info\n",
    "\n",
    "    def on_epoch_end(self, epoch, logs=None):\n",
    "        self.generate(\"wine review\", max_tokens=80, temperature=1.0)"
   ]
  },
  {
   "cell_type": "code",
   "execution_count": 35,
   "id": "349865fe-ffbe-450e-97be-043ae1740e78",
   "metadata": {},
   "outputs": [],
   "source": [
    "# Create a model save checkpoint\n",
    "model_checkpoint_callback = callbacks.ModelCheckpoint(\n",
    "    filepath=\"./checkpoint/checkpoint.ckpt\",\n",
    "    save_weights_only=True,\n",
    "    save_freq=\"epoch\",\n",
    "    verbose=0,\n",
    ")\n",
    "\n",
    "tensorboard_callback = callbacks.TensorBoard(log_dir=\"./logs\")\n",
    "\n",
    "# Tokenize starting prompt\n",
    "text_generator = TextGenerator(vocab)"
   ]
  },
  {
   "cell_type": "code",
   "execution_count": 36,
   "id": "461c2b3e-b5ae-4def-8bd9-e7bab8c63d8e",
   "metadata": {
    "tags": []
   },
   "outputs": [
    {
     "name": "stdout",
     "output_type": "stream",
     "text": [
      "Epoch 1/5\n",
      "4055/4060 [============================>.] - ETA: 0s - loss: 2.2508 - dense_2_loss: 2.2508\n",
      "generated text:\n",
      "wine review : us : california : chardonnay : a bit too angular for drinking now with sweet fruit and lots of spicy toast , mango and vanilla flavors . has punchy flavors recommend . \n",
      "\n",
      "4060/4060 [==============================] - 30s 7ms/step - loss: 2.2504 - dense_2_loss: 2.2504\n",
      "Epoch 2/5\n",
      "4058/4060 [============================>.] - ETA: 0s - loss: 1.9590 - dense_2_loss: 1.9590\n",
      "generated text:\n",
      "wine review : france : france other : tannat : acidity gives a rich edge of berry - flavored tannins this single - vineyard wine . this is finely textured and ripe while certainly contrasts with the ripe red fruits . with its dry core , the wine is ready to drink . \n",
      "\n",
      "4060/4060 [==============================] - 28s 7ms/step - loss: 1.9592 - dense_2_loss: 1.9592\n",
      "Epoch 3/5\n",
      "4060/4060 [==============================] - ETA: 0s - loss: 1.8895 - dense_2_loss: 1.8895\n",
      "generated text:\n",
      "wine review : us : california : red blend : this is a lovely , delicious and approachable wine from the producer ' s [UNK] [UNK] is one of the best to date . raspberry , herb and cinnamon spice consume over the next three years or longer in flavor . \n",
      "\n",
      "4060/4060 [==============================] - 28s 7ms/step - loss: 1.8895 - dense_2_loss: 1.8895\n",
      "Epoch 4/5\n",
      "4058/4060 [============================>.] - ETA: 0s - loss: 1.8473 - dense_2_loss: 1.8473\n",
      "generated text:\n",
      "wine review : us : california : chardonnay : this marsanne is super lush , sweet the mouth all that is dry and clean , lingering . not showing all the hallmarks of a chardonnay that gives it a nice sunburst of pineapples , orange , buttercream and vanilla . \n",
      "\n",
      "4060/4060 [==============================] - 28s 7ms/step - loss: 1.8473 - dense_2_loss: 1.8473\n",
      "Epoch 5/5\n",
      "4054/4060 [============================>.] - ETA: 0s - loss: 1.8169 - dense_2_loss: 1.8169\n",
      "generated text:\n",
      "wine review : germany : mosel - saar - ruwer : riesling : this seems to be a bit austere auslese , with a touch of orange pekoe , honey and soft hints of talcum powder and dried pineapple . the balance is sugar and purity of ease , fans of dried apricot jam ' s [UNK] its beast ever auslese . it ' s exquisitely balanced , remaining full and moderately long . \n",
      "\n",
      "4060/4060 [==============================] - 29s 7ms/step - loss: 1.8171 - dense_2_loss: 1.8171\n"
     ]
    },
    {
     "data": {
      "text/plain": [
       "<keras.callbacks.History at 0x21d0ec44e50>"
      ]
     },
     "execution_count": 36,
     "metadata": {},
     "output_type": "execute_result"
    }
   ],
   "source": [
    "gpt.fit(\n",
    "    train_ds,\n",
    "    epochs=EPOCHS,\n",
    "    callbacks=[model_checkpoint_callback, tensorboard_callback, text_generator],\n",
    ")"
   ]
  },
  {
   "cell_type": "code",
   "execution_count": 37,
   "id": "369bde44-2e39-4bc6-8549-a3a27ecce55c",
   "metadata": {
    "tags": []
   },
   "outputs": [
    {
     "name": "stderr",
     "output_type": "stream",
     "text": [
      "WARNING:absl:Found untraced functions such as embedding_layer_call_fn, embedding_layer_call_and_return_conditional_losses, embedding_1_layer_call_fn, embedding_1_layer_call_and_return_conditional_losses, multi_head_attention_layer_call_fn while saving (showing 5 of 30). These functions will not be directly callable after loading.\n"
     ]
    },
    {
     "name": "stdout",
     "output_type": "stream",
     "text": [
      "INFO:tensorflow:Assets written to: ./models/gpt\\assets\n"
     ]
    },
    {
     "name": "stderr",
     "output_type": "stream",
     "text": [
      "INFO:tensorflow:Assets written to: ./models/gpt\\assets\n"
     ]
    }
   ],
   "source": [
    "# Save the final model\n",
    "gpt.save(\"./models/gpt\")"
   ]
  },
  {
   "cell_type": "markdown",
   "id": "d64e02d2-84dc-40c8-8446-40c09adf1e20",
   "metadata": {},
   "source": [
    "# 3. Generate text using the Transformer"
   ]
  },
  {
   "cell_type": "code",
   "execution_count": 38,
   "id": "4ad23adb-3ec9-4e9a-9a59-b9f9bafca649",
   "metadata": {},
   "outputs": [],
   "source": [
    "def print_probs(info, vocab, top_k=5):\n",
    "    for i in info:\n",
    "        highlighted_text = []\n",
    "        for word, att_score in zip(\n",
    "            i[\"prompt\"].split(), np.mean(i[\"atts\"], axis=0)\n",
    "        ):\n",
    "            highlighted_text.append(\n",
    "                '<span style=\"background-color:rgba(135,206,250,'\n",
    "                + str(att_score / max(np.mean(i[\"atts\"], axis=0)))\n",
    "                + ');\">'\n",
    "                + word\n",
    "                + \"</span>\"\n",
    "            )\n",
    "        highlighted_text = \" \".join(highlighted_text)\n",
    "        display(HTML(highlighted_text))\n",
    "\n",
    "        word_probs = i[\"word_probs\"]\n",
    "        p_sorted = np.sort(word_probs)[::-1][:top_k]\n",
    "        i_sorted = np.argsort(word_probs)[::-1][:top_k]\n",
    "        for p, i in zip(p_sorted, i_sorted):\n",
    "            print(f\"{vocab[i]}:   \\t{np.round(100*p,2)}%\")\n",
    "        print(\"--------\\n\")"
   ]
  },
  {
   "cell_type": "code",
   "execution_count": 39,
   "id": "3cf25578-d47c-4b26-8252-fcdf2316a4ac",
   "metadata": {},
   "outputs": [
    {
     "name": "stdout",
     "output_type": "stream",
     "text": [
      "\n",
      "generated text:\n",
      "wine review : us : california : pinot gris : an immaculate structure surrounds mouthwatering and the wine , [UNK] past years , with deliciously ripe candied flavors which have a creamy texture . oaky , it has honeyed richness that soothes the palate all given the vineyard sites in this virginia roussanne . it delivers a lovely wood element . \n",
      "\n"
     ]
    }
   ],
   "source": [
    "info = text_generator.generate(\n",
    "    \"wine review : us\", max_tokens=80, temperature=1.0\n",
    ")"
   ]
  },
  {
   "cell_type": "code",
   "execution_count": 40,
   "id": "4ae2da8e-9b7c-4b71-b37b-021115b3d7ea",
   "metadata": {},
   "outputs": [
    {
     "name": "stdout",
     "output_type": "stream",
     "text": [
      "\n",
      "generated text:\n",
      "wine review : italy : veneto : glera : made with organically cultivated garganega , this opens with a fragrance of yellow flower , hay and a whiff of exotic spice . the palate has a soft , creamy mouthfeel , creamy and soft acidity . \n",
      "\n"
     ]
    }
   ],
   "source": [
    "info = text_generator.generate(\n",
    "    \"wine review : italy\", max_tokens=80, temperature=0.5\n",
    ")"
   ]
  },
  {
   "cell_type": "code",
   "execution_count": 41,
   "id": "5cae6d5d-263d-4455-b96c-f315cbe284ee",
   "metadata": {},
   "outputs": [
    {
     "name": "stdout",
     "output_type": "stream",
     "text": [
      "\n",
      "generated text:\n",
      "wine review : germany : mosel : riesling : a light , delicate style of riesling , with a shower of lemon - lime acidity , mineral , dried herb and mineral tones . it ' s a bit lean , but the finish is brisk , with sour lemon acidity . \n",
      "\n"
     ]
    },
    {
     "data": {
      "text/html": [
       "<span style=\"background-color:rgba(135,206,250,1.0);\">wine</span> <span style=\"background-color:rgba(135,206,250,0.93148005);\">review</span> <span style=\"background-color:rgba(135,206,250,0.71012235);\">:</span> <span style=\"background-color:rgba(135,206,250,0.2674306);\">germany</span>"
      ],
      "text/plain": [
       "<IPython.core.display.HTML object>"
      ]
     },
     "metadata": {},
     "output_type": "display_data"
    },
    {
     "name": "stdout",
     "output_type": "stream",
     "text": [
      "::   \t100.0%\n",
      "grosso:   \t0.0%\n",
      "-:   \t0.0%\n",
      "zealand:   \t0.0%\n",
      ".:   \t0.0%\n",
      "--------\n",
      "\n"
     ]
    },
    {
     "data": {
      "text/html": [
       "<span style=\"background-color:rgba(135,206,250,0.398808);\">wine</span> <span style=\"background-color:rgba(135,206,250,0.33513182);\">review</span> <span style=\"background-color:rgba(135,206,250,0.44894326);\">:</span> <span style=\"background-color:rgba(135,206,250,1.0);\">germany</span> <span style=\"background-color:rgba(135,206,250,0.5372624);\">:</span>"
      ],
      "text/plain": [
       "<IPython.core.display.HTML object>"
      ]
     },
     "metadata": {},
     "output_type": "display_data"
    },
    {
     "name": "stdout",
     "output_type": "stream",
     "text": [
      "mosel:   \t96.09%\n",
      "pfalz:   \t1.97%\n",
      "rheingau:   \t1.28%\n",
      "rheinhessen:   \t0.49%\n",
      "nahe:   \t0.11%\n",
      "--------\n",
      "\n"
     ]
    },
    {
     "data": {
      "text/html": [
       "<span style=\"background-color:rgba(135,206,250,1.0);\">wine</span> <span style=\"background-color:rgba(135,206,250,0.9107349);\">review</span> <span style=\"background-color:rgba(135,206,250,0.6556836);\">:</span> <span style=\"background-color:rgba(135,206,250,0.31594998);\">germany</span> <span style=\"background-color:rgba(135,206,250,0.6293169);\">:</span> <span style=\"background-color:rgba(135,206,250,0.30022416);\">mosel</span>"
      ],
      "text/plain": [
       "<IPython.core.display.HTML object>"
      ]
     },
     "metadata": {},
     "output_type": "display_data"
    },
    {
     "name": "stdout",
     "output_type": "stream",
     "text": [
      "::   \t98.34%\n",
      "-:   \t1.66%\n",
      "valley:   \t0.0%\n",
      "blanc:   \t0.0%\n",
      "du:   \t0.0%\n",
      "--------\n",
      "\n"
     ]
    },
    {
     "data": {
      "text/html": [
       "<span style=\"background-color:rgba(135,206,250,0.2788118);\">wine</span> <span style=\"background-color:rgba(135,206,250,0.22894603);\">review</span> <span style=\"background-color:rgba(135,206,250,0.2277347);\">:</span> <span style=\"background-color:rgba(135,206,250,0.3639395);\">germany</span> <span style=\"background-color:rgba(135,206,250,0.13118918);\">:</span> <span style=\"background-color:rgba(135,206,250,1.0);\">mosel</span> <span style=\"background-color:rgba(135,206,250,0.21063961);\">:</span>"
      ],
      "text/plain": [
       "<IPython.core.display.HTML object>"
      ]
     },
     "metadata": {},
     "output_type": "display_data"
    },
    {
     "name": "stdout",
     "output_type": "stream",
     "text": [
      "riesling:   \t100.0%\n",
      "pinot:   \t0.0%\n",
      "sparkling:   \t0.0%\n",
      "white:   \t0.0%\n",
      "spätburgunder:   \t0.0%\n",
      "--------\n",
      "\n"
     ]
    },
    {
     "data": {
      "text/html": [
       "<span style=\"background-color:rgba(135,206,250,0.906854);\">wine</span> <span style=\"background-color:rgba(135,206,250,1.0);\">review</span> <span style=\"background-color:rgba(135,206,250,0.50455326);\">:</span> <span style=\"background-color:rgba(135,206,250,0.21607137);\">germany</span> <span style=\"background-color:rgba(135,206,250,0.4111334);\">:</span> <span style=\"background-color:rgba(135,206,250,0.5979765);\">mosel</span> <span style=\"background-color:rgba(135,206,250,0.49155593);\">:</span> <span style=\"background-color:rgba(135,206,250,0.18347418);\">riesling</span>"
      ],
      "text/plain": [
       "<IPython.core.display.HTML object>"
      ]
     },
     "metadata": {},
     "output_type": "display_data"
    },
    {
     "name": "stdout",
     "output_type": "stream",
     "text": [
      "::   \t100.0%\n",
      "-:   \t0.0%\n",
      "grosso:   \t0.0%\n",
      "blanc:   \t0.0%\n",
      "du:   \t0.0%\n",
      "--------\n",
      "\n"
     ]
    },
    {
     "data": {
      "text/html": [
       "<span style=\"background-color:rgba(135,206,250,0.611717);\">wine</span> <span style=\"background-color:rgba(135,206,250,0.5637803);\">review</span> <span style=\"background-color:rgba(135,206,250,0.50896543);\">:</span> <span style=\"background-color:rgba(135,206,250,0.6781179);\">germany</span> <span style=\"background-color:rgba(135,206,250,0.36444807);\">:</span> <span style=\"background-color:rgba(135,206,250,1.0);\">mosel</span> <span style=\"background-color:rgba(135,206,250,0.5402581);\">:</span> <span style=\"background-color:rgba(135,206,250,0.6361591);\">riesling</span> <span style=\"background-color:rgba(135,206,250,0.57671034);\">:</span>"
      ],
      "text/plain": [
       "<IPython.core.display.HTML object>"
      ]
     },
     "metadata": {},
     "output_type": "display_data"
    },
    {
     "name": "stdout",
     "output_type": "stream",
     "text": [
      "whiffs:   \t39.53%\n",
      "a:   \t13.85%\n",
      "while:   \t8.85%\n",
      "this:   \t5.56%\n",
      "zesty:   \t3.17%\n",
      "--------\n",
      "\n"
     ]
    },
    {
     "data": {
      "text/html": [
       "<span style=\"background-color:rgba(135,206,250,1.0);\">wine</span> <span style=\"background-color:rgba(135,206,250,0.8263808);\">review</span> <span style=\"background-color:rgba(135,206,250,0.5058073);\">:</span> <span style=\"background-color:rgba(135,206,250,0.73155373);\">germany</span> <span style=\"background-color:rgba(135,206,250,0.40616894);\">:</span> <span style=\"background-color:rgba(135,206,250,0.5045019);\">mosel</span> <span style=\"background-color:rgba(135,206,250,0.32299313);\">:</span> <span style=\"background-color:rgba(135,206,250,0.56474584);\">riesling</span> <span style=\"background-color:rgba(135,206,250,0.68707615);\">:</span> <span style=\"background-color:rgba(135,206,250,0.2953906);\">a</span>"
      ],
      "text/plain": [
       "<IPython.core.display.HTML object>"
      ]
     },
     "metadata": {},
     "output_type": "display_data"
    },
    {
     "name": "stdout",
     "output_type": "stream",
     "text": [
      "whiff:   \t35.88%\n",
      "touch:   \t11.96%\n",
      "crush:   \t8.81%\n",
      "delicate:   \t4.39%\n",
      "savory:   \t4.26%\n",
      "--------\n",
      "\n"
     ]
    },
    {
     "data": {
      "text/html": [
       "<span style=\"background-color:rgba(135,206,250,1.0);\">wine</span> <span style=\"background-color:rgba(135,206,250,0.89625543);\">review</span> <span style=\"background-color:rgba(135,206,250,0.5038666);\">:</span> <span style=\"background-color:rgba(135,206,250,0.39733818);\">germany</span> <span style=\"background-color:rgba(135,206,250,0.3600067);\">:</span> <span style=\"background-color:rgba(135,206,250,0.33577144);\">mosel</span> <span style=\"background-color:rgba(135,206,250,0.3258676);\">:</span> <span style=\"background-color:rgba(135,206,250,0.5231752);\">riesling</span> <span style=\"background-color:rgba(135,206,250,0.46280816);\">:</span> <span style=\"background-color:rgba(135,206,250,0.79852724);\">a</span> <span style=\"background-color:rgba(135,206,250,0.35662338);\">light</span>"
      ],
      "text/plain": [
       "<IPython.core.display.HTML object>"
      ]
     },
     "metadata": {},
     "output_type": "display_data"
    },
    {
     "name": "stdout",
     "output_type": "stream",
     "text": [
      ",:   \t74.21%\n",
      "-:   \t9.77%\n",
      "touch:   \t9.08%\n",
      "mineral:   \t2.92%\n",
      "whiff:   \t0.87%\n",
      "--------\n",
      "\n"
     ]
    },
    {
     "data": {
      "text/html": [
       "<span style=\"background-color:rgba(135,206,250,0.4608395);\">wine</span> <span style=\"background-color:rgba(135,206,250,0.5083574);\">review</span> <span style=\"background-color:rgba(135,206,250,0.2913918);\">:</span> <span style=\"background-color:rgba(135,206,250,0.32393387);\">germany</span> <span style=\"background-color:rgba(135,206,250,0.1962887);\">:</span> <span style=\"background-color:rgba(135,206,250,0.24922654);\">mosel</span> <span style=\"background-color:rgba(135,206,250,0.1636434);\">:</span> <span style=\"background-color:rgba(135,206,250,0.34074956);\">riesling</span> <span style=\"background-color:rgba(135,206,250,0.28995898);\">:</span> <span style=\"background-color:rgba(135,206,250,0.49477178);\">a</span> <span style=\"background-color:rgba(135,206,250,1.0);\">light</span> <span style=\"background-color:rgba(135,206,250,0.3330501);\">,</span>"
      ],
      "text/plain": [
       "<IPython.core.display.HTML object>"
      ]
     },
     "metadata": {},
     "output_type": "display_data"
    },
    {
     "name": "stdout",
     "output_type": "stream",
     "text": [
      "delicate:   \t59.66%\n",
      "lacy:   \t5.89%\n",
      "elegant:   \t5.58%\n",
      "fruity:   \t3.65%\n",
      "bright:   \t3.24%\n",
      "--------\n",
      "\n"
     ]
    },
    {
     "data": {
      "text/html": [
       "<span style=\"background-color:rgba(135,206,250,1.0);\">wine</span> <span style=\"background-color:rgba(135,206,250,0.9714683);\">review</span> <span style=\"background-color:rgba(135,206,250,0.5326369);\">:</span> <span style=\"background-color:rgba(135,206,250,0.57707137);\">germany</span> <span style=\"background-color:rgba(135,206,250,0.43922472);\">:</span> <span style=\"background-color:rgba(135,206,250,0.46828306);\">mosel</span> <span style=\"background-color:rgba(135,206,250,0.37706548);\">:</span> <span style=\"background-color:rgba(135,206,250,0.64488333);\">riesling</span> <span style=\"background-color:rgba(135,206,250,0.51686335);\">:</span> <span style=\"background-color:rgba(135,206,250,0.82151496);\">a</span> <span style=\"background-color:rgba(135,206,250,0.45139855);\">light</span> <span style=\"background-color:rgba(135,206,250,0.7476327);\">,</span> <span style=\"background-color:rgba(135,206,250,0.5585092);\">delicate</span>"
      ],
      "text/plain": [
       "<IPython.core.display.HTML object>"
      ]
     },
     "metadata": {},
     "output_type": "display_data"
    },
    {
     "name": "stdout",
     "output_type": "stream",
     "text": [
      "riesling:   \t42.72%\n",
      "perfume:   \t16.57%\n",
      "wine:   \t7.04%\n",
      "style:   \t6.19%\n",
      ",:   \t5.37%\n",
      "--------\n",
      "\n"
     ]
    },
    {
     "data": {
      "text/html": [
       "<span style=\"background-color:rgba(135,206,250,0.7053875);\">wine</span> <span style=\"background-color:rgba(135,206,250,1.0);\">review</span> <span style=\"background-color:rgba(135,206,250,0.5185209);\">:</span> <span style=\"background-color:rgba(135,206,250,0.30954257);\">germany</span> <span style=\"background-color:rgba(135,206,250,0.30563396);\">:</span> <span style=\"background-color:rgba(135,206,250,0.25800616);\">mosel</span> <span style=\"background-color:rgba(135,206,250,0.2750937);\">:</span> <span style=\"background-color:rgba(135,206,250,0.29427162);\">riesling</span> <span style=\"background-color:rgba(135,206,250,0.45453247);\">:</span> <span style=\"background-color:rgba(135,206,250,0.44012347);\">a</span> <span style=\"background-color:rgba(135,206,250,0.35218722);\">light</span> <span style=\"background-color:rgba(135,206,250,0.47875646);\">,</span> <span style=\"background-color:rgba(135,206,250,0.46650022);\">delicate</span> <span style=\"background-color:rgba(135,206,250,0.2327459);\">style</span>"
      ],
      "text/plain": [
       "<IPython.core.display.HTML object>"
      ]
     },
     "metadata": {},
     "output_type": "display_data"
    },
    {
     "name": "stdout",
     "output_type": "stream",
     "text": [
      "of:   \t98.05%\n",
      ",:   \t1.55%\n",
      "riesling:   \t0.32%\n",
      "and:   \t0.02%\n",
      "that:   \t0.02%\n",
      "--------\n",
      "\n"
     ]
    },
    {
     "data": {
      "text/html": [
       "<span style=\"background-color:rgba(135,206,250,0.2486763);\">wine</span> <span style=\"background-color:rgba(135,206,250,0.2752812);\">review</span> <span style=\"background-color:rgba(135,206,250,0.24704477);\">:</span> <span style=\"background-color:rgba(135,206,250,0.24556144);\">germany</span> <span style=\"background-color:rgba(135,206,250,0.12924166);\">:</span> <span style=\"background-color:rgba(135,206,250,0.26101333);\">mosel</span> <span style=\"background-color:rgba(135,206,250,0.14112817);\">:</span> <span style=\"background-color:rgba(135,206,250,0.36273926);\">riesling</span> <span style=\"background-color:rgba(135,206,250,0.19594257);\">:</span> <span style=\"background-color:rgba(135,206,250,0.20477755);\">a</span> <span style=\"background-color:rgba(135,206,250,0.26097393);\">light</span> <span style=\"background-color:rgba(135,206,250,0.2568303);\">,</span> <span style=\"background-color:rgba(135,206,250,0.5756412);\">delicate</span> <span style=\"background-color:rgba(135,206,250,1.0);\">style</span> <span style=\"background-color:rgba(135,206,250,0.19363213);\">of</span>"
      ],
      "text/plain": [
       "<IPython.core.display.HTML object>"
      ]
     },
     "metadata": {},
     "output_type": "display_data"
    },
    {
     "name": "stdout",
     "output_type": "stream",
     "text": [
      "riesling:   \t99.68%\n",
      "white:   \t0.11%\n",
      "wine:   \t0.06%\n",
      "kabinett:   \t0.05%\n",
      "sweet:   \t0.01%\n",
      "--------\n",
      "\n"
     ]
    },
    {
     "data": {
      "text/html": [
       "<span style=\"background-color:rgba(135,206,250,0.57991856);\">wine</span> <span style=\"background-color:rgba(135,206,250,0.9358562);\">review</span> <span style=\"background-color:rgba(135,206,250,0.46980307);\">:</span> <span style=\"background-color:rgba(135,206,250,0.28346565);\">germany</span> <span style=\"background-color:rgba(135,206,250,0.3036539);\">:</span> <span style=\"background-color:rgba(135,206,250,0.18849078);\">mosel</span> <span style=\"background-color:rgba(135,206,250,0.25685486);\">:</span> <span style=\"background-color:rgba(135,206,250,0.1472438);\">riesling</span> <span style=\"background-color:rgba(135,206,250,0.3753523);\">:</span> <span style=\"background-color:rgba(135,206,250,0.68349016);\">a</span> <span style=\"background-color:rgba(135,206,250,0.21708032);\">light</span> <span style=\"background-color:rgba(135,206,250,0.4142072);\">,</span> <span style=\"background-color:rgba(135,206,250,0.3136025);\">delicate</span> <span style=\"background-color:rgba(135,206,250,0.4429534);\">style</span> <span style=\"background-color:rgba(135,206,250,1.0);\">of</span> <span style=\"background-color:rgba(135,206,250,0.5103383);\">riesling</span>"
      ],
      "text/plain": [
       "<IPython.core.display.HTML object>"
      ]
     },
     "metadata": {},
     "output_type": "display_data"
    },
    {
     "name": "stdout",
     "output_type": "stream",
     "text": [
      ",:   \t98.43%\n",
      "and:   \t1.07%\n",
      "that:   \t0.31%\n",
      "with:   \t0.05%\n",
      ".:   \t0.04%\n",
      "--------\n",
      "\n"
     ]
    },
    {
     "data": {
      "text/html": [
       "<span style=\"background-color:rgba(135,206,250,0.2636879);\">wine</span> <span style=\"background-color:rgba(135,206,250,0.38674408);\">review</span> <span style=\"background-color:rgba(135,206,250,0.27885523);\">:</span> <span style=\"background-color:rgba(135,206,250,0.37283304);\">germany</span> <span style=\"background-color:rgba(135,206,250,0.20273636);\">:</span> <span style=\"background-color:rgba(135,206,250,0.2119998);\">mosel</span> <span style=\"background-color:rgba(135,206,250,0.1401389);\">:</span> <span style=\"background-color:rgba(135,206,250,0.37306866);\">riesling</span> <span style=\"background-color:rgba(135,206,250,0.21539551);\">:</span> <span style=\"background-color:rgba(135,206,250,0.21342665);\">a</span> <span style=\"background-color:rgba(135,206,250,0.2962928);\">light</span> <span style=\"background-color:rgba(135,206,250,0.1413636);\">,</span> <span style=\"background-color:rgba(135,206,250,0.39116293);\">delicate</span> <span style=\"background-color:rgba(135,206,250,0.41333005);\">style</span> <span style=\"background-color:rgba(135,206,250,0.44279894);\">of</span> <span style=\"background-color:rgba(135,206,250,1.0);\">riesling</span> <span style=\"background-color:rgba(135,206,250,0.40393677);\">,</span>"
      ],
      "text/plain": [
       "<IPython.core.display.HTML object>"
      ]
     },
     "metadata": {},
     "output_type": "display_data"
    },
    {
     "name": "stdout",
     "output_type": "stream",
     "text": [
      "with:   \t54.77%\n",
      "this:   \t37.12%\n",
      "but:   \t2.96%\n",
      "yet:   \t1.48%\n",
      "it:   \t0.9%\n",
      "--------\n",
      "\n"
     ]
    },
    {
     "data": {
      "text/html": [
       "<span style=\"background-color:rgba(135,206,250,0.41234004);\">wine</span> <span style=\"background-color:rgba(135,206,250,0.5647167);\">review</span> <span style=\"background-color:rgba(135,206,250,0.45970973);\">:</span> <span style=\"background-color:rgba(135,206,250,0.5442672);\">germany</span> <span style=\"background-color:rgba(135,206,250,0.28677586);\">:</span> <span style=\"background-color:rgba(135,206,250,0.33990926);\">mosel</span> <span style=\"background-color:rgba(135,206,250,0.23345597);\">:</span> <span style=\"background-color:rgba(135,206,250,0.5063725);\">riesling</span> <span style=\"background-color:rgba(135,206,250,0.30359143);\">:</span> <span style=\"background-color:rgba(135,206,250,0.26782563);\">a</span> <span style=\"background-color:rgba(135,206,250,0.37337705);\">light</span> <span style=\"background-color:rgba(135,206,250,0.33343762);\">,</span> <span style=\"background-color:rgba(135,206,250,0.41842824);\">delicate</span> <span style=\"background-color:rgba(135,206,250,0.30677754);\">style</span> <span style=\"background-color:rgba(135,206,250,0.29412714);\">of</span> <span style=\"background-color:rgba(135,206,250,0.7111572);\">riesling</span> <span style=\"background-color:rgba(135,206,250,1.0);\">,</span> <span style=\"background-color:rgba(135,206,250,0.5654824);\">with</span>"
      ],
      "text/plain": [
       "<IPython.core.display.HTML object>"
      ]
     },
     "metadata": {},
     "output_type": "display_data"
    },
    {
     "name": "stdout",
     "output_type": "stream",
     "text": [
      "a:   \t74.17%\n",
      "delicate:   \t8.16%\n",
      "hints:   \t1.82%\n",
      "notes:   \t1.67%\n",
      "an:   \t1.23%\n",
      "--------\n",
      "\n"
     ]
    },
    {
     "data": {
      "text/html": [
       "<span style=\"background-color:rgba(135,206,250,0.26478696);\">wine</span> <span style=\"background-color:rgba(135,206,250,0.32408035);\">review</span> <span style=\"background-color:rgba(135,206,250,0.24209942);\">:</span> <span style=\"background-color:rgba(135,206,250,0.41209537);\">germany</span> <span style=\"background-color:rgba(135,206,250,0.18759933);\">:</span> <span style=\"background-color:rgba(135,206,250,0.25468552);\">mosel</span> <span style=\"background-color:rgba(135,206,250,0.11622355);\">:</span> <span style=\"background-color:rgba(135,206,250,0.35389832);\">riesling</span> <span style=\"background-color:rgba(135,206,250,0.1942146);\">:</span> <span style=\"background-color:rgba(135,206,250,0.077909574);\">a</span> <span style=\"background-color:rgba(135,206,250,0.3068065);\">light</span> <span style=\"background-color:rgba(135,206,250,0.17463508);\">,</span> <span style=\"background-color:rgba(135,206,250,0.3309054);\">delicate</span> <span style=\"background-color:rgba(135,206,250,0.18793702);\">style</span> <span style=\"background-color:rgba(135,206,250,0.3020461);\">of</span> <span style=\"background-color:rgba(135,206,250,0.48042706);\">riesling</span> <span style=\"background-color:rgba(135,206,250,0.57473755);\">,</span> <span style=\"background-color:rgba(135,206,250,1.0);\">with</span> <span style=\"background-color:rgba(135,206,250,0.25574636);\">a</span>"
      ],
      "text/plain": [
       "<IPython.core.display.HTML object>"
      ]
     },
     "metadata": {},
     "output_type": "display_data"
    },
    {
     "name": "stdout",
     "output_type": "stream",
     "text": [
      "delicate:   \t35.14%\n",
      "touch:   \t17.2%\n",
      "hint:   \t14.19%\n",
      "whiff:   \t11.19%\n",
      "mineral:   \t4.2%\n",
      "--------\n",
      "\n"
     ]
    },
    {
     "data": {
      "text/html": [
       "<span style=\"background-color:rgba(135,206,250,0.34849694);\">wine</span> <span style=\"background-color:rgba(135,206,250,0.8369046);\">review</span> <span style=\"background-color:rgba(135,206,250,0.46993837);\">:</span> <span style=\"background-color:rgba(135,206,250,0.2415362);\">germany</span> <span style=\"background-color:rgba(135,206,250,0.27999255);\">:</span> <span style=\"background-color:rgba(135,206,250,0.1302229);\">mosel</span> <span style=\"background-color:rgba(135,206,250,0.2163124);\">:</span> <span style=\"background-color:rgba(135,206,250,0.1925852);\">riesling</span> <span style=\"background-color:rgba(135,206,250,0.25283575);\">:</span> <span style=\"background-color:rgba(135,206,250,0.2046047);\">a</span> <span style=\"background-color:rgba(135,206,250,0.06093759);\">light</span> <span style=\"background-color:rgba(135,206,250,0.1644696);\">,</span> <span style=\"background-color:rgba(135,206,250,0.075819455);\">delicate</span> <span style=\"background-color:rgba(135,206,250,0.104733296);\">style</span> <span style=\"background-color:rgba(135,206,250,0.2704562);\">of</span> <span style=\"background-color:rgba(135,206,250,0.31115133);\">riesling</span> <span style=\"background-color:rgba(135,206,250,0.31391412);\">,</span> <span style=\"background-color:rgba(135,206,250,1.0);\">with</span> <span style=\"background-color:rgba(135,206,250,0.5287415);\">a</span> <span style=\"background-color:rgba(135,206,250,0.27960917);\">shower</span>"
      ],
      "text/plain": [
       "<IPython.core.display.HTML object>"
      ]
     },
     "metadata": {},
     "output_type": "display_data"
    },
    {
     "name": "stdout",
     "output_type": "stream",
     "text": [
      "of:   \t100.0%\n",
      "that:   \t0.0%\n",
      "like:   \t0.0%\n",
      "and:   \t0.0%\n",
      "-:   \t0.0%\n",
      "--------\n",
      "\n"
     ]
    },
    {
     "data": {
      "text/html": [
       "<span style=\"background-color:rgba(135,206,250,0.11837947);\">wine</span> <span style=\"background-color:rgba(135,206,250,0.16588522);\">review</span> <span style=\"background-color:rgba(135,206,250,0.19094959);\">:</span> <span style=\"background-color:rgba(135,206,250,0.21842375);\">germany</span> <span style=\"background-color:rgba(135,206,250,0.110550165);\">:</span> <span style=\"background-color:rgba(135,206,250,0.17075154);\">mosel</span> <span style=\"background-color:rgba(135,206,250,0.092127636);\">:</span> <span style=\"background-color:rgba(135,206,250,0.31339407);\">riesling</span> <span style=\"background-color:rgba(135,206,250,0.1207262);\">:</span> <span style=\"background-color:rgba(135,206,250,0.08130247);\">a</span> <span style=\"background-color:rgba(135,206,250,0.0798074);\">light</span> <span style=\"background-color:rgba(135,206,250,0.081820205);\">,</span> <span style=\"background-color:rgba(135,206,250,0.13600186);\">delicate</span> <span style=\"background-color:rgba(135,206,250,0.14880325);\">style</span> <span style=\"background-color:rgba(135,206,250,0.05130667);\">of</span> <span style=\"background-color:rgba(135,206,250,0.18792905);\">riesling</span> <span style=\"background-color:rgba(135,206,250,0.1728967);\">,</span> <span style=\"background-color:rgba(135,206,250,0.24882738);\">with</span> <span style=\"background-color:rgba(135,206,250,0.27606425);\">a</span> <span style=\"background-color:rgba(135,206,250,1.0);\">shower</span> <span style=\"background-color:rgba(135,206,250,0.18320252);\">of</span>"
      ],
      "text/plain": [
       "<IPython.core.display.HTML object>"
      ]
     },
     "metadata": {},
     "output_type": "display_data"
    },
    {
     "name": "stdout",
     "output_type": "stream",
     "text": [
      "lemon:   \t34.81%\n",
      "citrus:   \t14.11%\n",
      "fresh:   \t7.74%\n",
      "slate:   \t6.86%\n",
      "lime:   \t6.46%\n",
      "--------\n",
      "\n"
     ]
    },
    {
     "data": {
      "text/html": [
       "<span style=\"background-color:rgba(135,206,250,0.24105357);\">wine</span> <span style=\"background-color:rgba(135,206,250,0.29954892);\">review</span> <span style=\"background-color:rgba(135,206,250,0.24566457);\">:</span> <span style=\"background-color:rgba(135,206,250,0.4032686);\">germany</span> <span style=\"background-color:rgba(135,206,250,0.26948187);\">:</span> <span style=\"background-color:rgba(135,206,250,0.14749874);\">mosel</span> <span style=\"background-color:rgba(135,206,250,0.1739116);\">:</span> <span style=\"background-color:rgba(135,206,250,0.1665103);\">riesling</span> <span style=\"background-color:rgba(135,206,250,0.170318);\">:</span> <span style=\"background-color:rgba(135,206,250,0.12429818);\">a</span> <span style=\"background-color:rgba(135,206,250,0.110057764);\">light</span> <span style=\"background-color:rgba(135,206,250,0.12126453);\">,</span> <span style=\"background-color:rgba(135,206,250,0.14216435);\">delicate</span> <span style=\"background-color:rgba(135,206,250,0.13065527);\">style</span> <span style=\"background-color:rgba(135,206,250,0.17088254);\">of</span> <span style=\"background-color:rgba(135,206,250,0.1719521);\">riesling</span> <span style=\"background-color:rgba(135,206,250,0.22575486);\">,</span> <span style=\"background-color:rgba(135,206,250,0.45824906);\">with</span> <span style=\"background-color:rgba(135,206,250,0.5213625);\">a</span> <span style=\"background-color:rgba(135,206,250,1.0);\">shower</span> <span style=\"background-color:rgba(135,206,250,0.57096785);\">of</span> <span style=\"background-color:rgba(135,206,250,0.27194256);\">lemon</span>"
      ],
      "text/plain": [
       "<IPython.core.display.HTML object>"
      ]
     },
     "metadata": {},
     "output_type": "display_data"
    },
    {
     "name": "stdout",
     "output_type": "stream",
     "text": [
      "-:   \t43.06%\n",
      "and:   \t31.71%\n",
      ",:   \t22.06%\n",
      "zest:   \t0.98%\n",
      "blossoms:   \t0.74%\n",
      "--------\n",
      "\n"
     ]
    },
    {
     "data": {
      "text/html": [
       "<span style=\"background-color:rgba(135,206,250,0.088118136);\">wine</span> <span style=\"background-color:rgba(135,206,250,0.11470747);\">review</span> <span style=\"background-color:rgba(135,206,250,0.16004701);\">:</span> <span style=\"background-color:rgba(135,206,250,0.15451413);\">germany</span> <span style=\"background-color:rgba(135,206,250,0.09792342);\">:</span> <span style=\"background-color:rgba(135,206,250,0.087887004);\">mosel</span> <span style=\"background-color:rgba(135,206,250,0.063294604);\">:</span> <span style=\"background-color:rgba(135,206,250,0.16081834);\">riesling</span> <span style=\"background-color:rgba(135,206,250,0.085582204);\">:</span> <span style=\"background-color:rgba(135,206,250,0.07092169);\">a</span> <span style=\"background-color:rgba(135,206,250,0.035495047);\">light</span> <span style=\"background-color:rgba(135,206,250,0.049285486);\">,</span> <span style=\"background-color:rgba(135,206,250,0.04120872);\">delicate</span> <span style=\"background-color:rgba(135,206,250,0.05359108);\">style</span> <span style=\"background-color:rgba(135,206,250,0.05314591);\">of</span> <span style=\"background-color:rgba(135,206,250,0.0924107);\">riesling</span> <span style=\"background-color:rgba(135,206,250,0.068426);\">,</span> <span style=\"background-color:rgba(135,206,250,0.10843342);\">with</span> <span style=\"background-color:rgba(135,206,250,0.10542985);\">a</span> <span style=\"background-color:rgba(135,206,250,0.31460056);\">shower</span> <span style=\"background-color:rgba(135,206,250,0.22686608);\">of</span> <span style=\"background-color:rgba(135,206,250,1.0);\">lemon</span> <span style=\"background-color:rgba(135,206,250,0.06586759);\">-</span>"
      ],
      "text/plain": [
       "<IPython.core.display.HTML object>"
      ]
     },
     "metadata": {},
     "output_type": "display_data"
    },
    {
     "name": "stdout",
     "output_type": "stream",
     "text": [
      "lime:   \t99.95%\n",
      "honey:   \t0.02%\n",
      "blossom:   \t0.01%\n",
      "grapefruit:   \t0.0%\n",
      "marmalade:   \t0.0%\n",
      "--------\n",
      "\n"
     ]
    },
    {
     "data": {
      "text/html": [
       "<span style=\"background-color:rgba(135,206,250,0.21387601);\">wine</span> <span style=\"background-color:rgba(135,206,250,0.31812975);\">review</span> <span style=\"background-color:rgba(135,206,250,0.24825871);\">:</span> <span style=\"background-color:rgba(135,206,250,0.5239807);\">germany</span> <span style=\"background-color:rgba(135,206,250,0.31200963);\">:</span> <span style=\"background-color:rgba(135,206,250,0.15656932);\">mosel</span> <span style=\"background-color:rgba(135,206,250,0.17043328);\">:</span> <span style=\"background-color:rgba(135,206,250,0.14488713);\">riesling</span> <span style=\"background-color:rgba(135,206,250,0.18012166);\">:</span> <span style=\"background-color:rgba(135,206,250,0.13211666);\">a</span> <span style=\"background-color:rgba(135,206,250,0.102814905);\">light</span> <span style=\"background-color:rgba(135,206,250,0.105057366);\">,</span> <span style=\"background-color:rgba(135,206,250,0.10920802);\">delicate</span> <span style=\"background-color:rgba(135,206,250,0.09729912);\">style</span> <span style=\"background-color:rgba(135,206,250,0.15179735);\">of</span> <span style=\"background-color:rgba(135,206,250,0.13537364);\">riesling</span> <span style=\"background-color:rgba(135,206,250,0.1849848);\">,</span> <span style=\"background-color:rgba(135,206,250,0.4301818);\">with</span> <span style=\"background-color:rgba(135,206,250,0.47527954);\">a</span> <span style=\"background-color:rgba(135,206,250,1.0);\">shower</span> <span style=\"background-color:rgba(135,206,250,0.55675656);\">of</span> <span style=\"background-color:rgba(135,206,250,0.23842981);\">lemon</span> <span style=\"background-color:rgba(135,206,250,0.65987825);\">-</span> <span style=\"background-color:rgba(135,206,250,0.3083711);\">lime</span>"
      ],
      "text/plain": [
       "<IPython.core.display.HTML object>"
      ]
     },
     "metadata": {},
     "output_type": "display_data"
    },
    {
     "name": "stdout",
     "output_type": "stream",
     "text": [
      "acidity:   \t95.27%\n",
      "and:   \t3.18%\n",
      ",:   \t0.61%\n",
      "zest:   \t0.42%\n",
      "flavor:   \t0.11%\n",
      "--------\n",
      "\n"
     ]
    },
    {
     "data": {
      "text/html": [
       "<span style=\"background-color:rgba(135,206,250,0.43998906);\">wine</span> <span style=\"background-color:rgba(135,206,250,0.7744634);\">review</span> <span style=\"background-color:rgba(135,206,250,0.7203975);\">:</span> <span style=\"background-color:rgba(135,206,250,0.6965419);\">germany</span> <span style=\"background-color:rgba(135,206,250,0.6857241);\">:</span> <span style=\"background-color:rgba(135,206,250,0.22875743);\">mosel</span> <span style=\"background-color:rgba(135,206,250,0.28980672);\">:</span> <span style=\"background-color:rgba(135,206,250,0.35316816);\">riesling</span> <span style=\"background-color:rgba(135,206,250,0.33883983);\">:</span> <span style=\"background-color:rgba(135,206,250,0.17404851);\">a</span> <span style=\"background-color:rgba(135,206,250,0.11493531);\">light</span> <span style=\"background-color:rgba(135,206,250,0.1920082);\">,</span> <span style=\"background-color:rgba(135,206,250,0.14617725);\">delicate</span> <span style=\"background-color:rgba(135,206,250,0.11513476);\">style</span> <span style=\"background-color:rgba(135,206,250,0.20549423);\">of</span> <span style=\"background-color:rgba(135,206,250,0.3008875);\">riesling</span> <span style=\"background-color:rgba(135,206,250,0.3354053);\">,</span> <span style=\"background-color:rgba(135,206,250,1.0);\">with</span> <span style=\"background-color:rgba(135,206,250,0.49107656);\">a</span> <span style=\"background-color:rgba(135,206,250,0.859209);\">shower</span> <span style=\"background-color:rgba(135,206,250,0.57545966);\">of</span> <span style=\"background-color:rgba(135,206,250,0.46216765);\">lemon</span> <span style=\"background-color:rgba(135,206,250,0.73004);\">-</span> <span style=\"background-color:rgba(135,206,250,0.75923735);\">lime</span> <span style=\"background-color:rgba(135,206,250,0.9278682);\">acidity</span>"
      ],
      "text/plain": [
       "<IPython.core.display.HTML object>"
      ]
     },
     "metadata": {},
     "output_type": "display_data"
    },
    {
     "name": "stdout",
     "output_type": "stream",
     "text": [
      "and:   \t64.53%\n",
      ",:   \t32.14%\n",
      "that:   \t1.34%\n",
      ".:   \t1.16%\n",
      "on:   \t0.34%\n",
      "--------\n",
      "\n"
     ]
    },
    {
     "data": {
      "text/html": [
       "<span style=\"background-color:rgba(135,206,250,0.10211903);\">wine</span> <span style=\"background-color:rgba(135,206,250,0.21101415);\">review</span> <span style=\"background-color:rgba(135,206,250,0.19047417);\">:</span> <span style=\"background-color:rgba(135,206,250,0.35869023);\">germany</span> <span style=\"background-color:rgba(135,206,250,0.17622872);\">:</span> <span style=\"background-color:rgba(135,206,250,0.15254049);\">mosel</span> <span style=\"background-color:rgba(135,206,250,0.084085725);\">:</span> <span style=\"background-color:rgba(135,206,250,0.30855897);\">riesling</span> <span style=\"background-color:rgba(135,206,250,0.13488151);\">:</span> <span style=\"background-color:rgba(135,206,250,0.061746124);\">a</span> <span style=\"background-color:rgba(135,206,250,0.11299774);\">light</span> <span style=\"background-color:rgba(135,206,250,0.06341713);\">,</span> <span style=\"background-color:rgba(135,206,250,0.11300493);\">delicate</span> <span style=\"background-color:rgba(135,206,250,0.056419507);\">style</span> <span style=\"background-color:rgba(135,206,250,0.064477354);\">of</span> <span style=\"background-color:rgba(135,206,250,0.13425747);\">riesling</span> <span style=\"background-color:rgba(135,206,250,0.06417083);\">,</span> <span style=\"background-color:rgba(135,206,250,0.21377605);\">with</span> <span style=\"background-color:rgba(135,206,250,0.10864133);\">a</span> <span style=\"background-color:rgba(135,206,250,0.30694753);\">shower</span> <span style=\"background-color:rgba(135,206,250,0.15620956);\">of</span> <span style=\"background-color:rgba(135,206,250,0.34217322);\">lemon</span> <span style=\"background-color:rgba(135,206,250,0.20555286);\">-</span> <span style=\"background-color:rgba(135,206,250,0.99835926);\">lime</span> <span style=\"background-color:rgba(135,206,250,1.0);\">acidity</span> <span style=\"background-color:rgba(135,206,250,0.39971885);\">,</span>"
      ],
      "text/plain": [
       "<IPython.core.display.HTML object>"
      ]
     },
     "metadata": {},
     "output_type": "display_data"
    },
    {
     "name": "stdout",
     "output_type": "stream",
     "text": [
      "green:   \t21.93%\n",
      "honey:   \t14.29%\n",
      "tangerine:   \t11.9%\n",
      "lime:   \t7.76%\n",
      "grapefruit:   \t7.09%\n",
      "--------\n",
      "\n"
     ]
    },
    {
     "data": {
      "text/html": [
       "<span style=\"background-color:rgba(135,206,250,0.23455173);\">wine</span> <span style=\"background-color:rgba(135,206,250,0.30398545);\">review</span> <span style=\"background-color:rgba(135,206,250,0.35482544);\">:</span> <span style=\"background-color:rgba(135,206,250,0.3982525);\">germany</span> <span style=\"background-color:rgba(135,206,250,0.3353074);\">:</span> <span style=\"background-color:rgba(135,206,250,0.15241131);\">mosel</span> <span style=\"background-color:rgba(135,206,250,0.20197067);\">:</span> <span style=\"background-color:rgba(135,206,250,0.26540694);\">riesling</span> <span style=\"background-color:rgba(135,206,250,0.2141225);\">:</span> <span style=\"background-color:rgba(135,206,250,0.13067794);\">a</span> <span style=\"background-color:rgba(135,206,250,0.07087095);\">light</span> <span style=\"background-color:rgba(135,206,250,0.11600777);\">,</span> <span style=\"background-color:rgba(135,206,250,0.07744462);\">delicate</span> <span style=\"background-color:rgba(135,206,250,0.11118469);\">style</span> <span style=\"background-color:rgba(135,206,250,0.17938676);\">of</span> <span style=\"background-color:rgba(135,206,250,0.1733765);\">riesling</span> <span style=\"background-color:rgba(135,206,250,0.12976126);\">,</span> <span style=\"background-color:rgba(135,206,250,0.2997786);\">with</span> <span style=\"background-color:rgba(135,206,250,0.24332048);\">a</span> <span style=\"background-color:rgba(135,206,250,0.498708);\">shower</span> <span style=\"background-color:rgba(135,206,250,0.39210984);\">of</span> <span style=\"background-color:rgba(135,206,250,0.2648602);\">lemon</span> <span style=\"background-color:rgba(135,206,250,0.24960274);\">-</span> <span style=\"background-color:rgba(135,206,250,0.43898365);\">lime</span> <span style=\"background-color:rgba(135,206,250,1.0);\">acidity</span> <span style=\"background-color:rgba(135,206,250,0.9031393);\">,</span> <span style=\"background-color:rgba(135,206,250,0.34265688);\">mineral</span>"
      ],
      "text/plain": [
       "<IPython.core.display.HTML object>"
      ]
     },
     "metadata": {},
     "output_type": "display_data"
    },
    {
     "name": "stdout",
     "output_type": "stream",
     "text": [
      "and:   \t69.55%\n",
      ",:   \t30.43%\n",
      "-:   \t0.01%\n",
      "oil:   \t0.0%\n",
      "tones:   \t0.0%\n",
      "--------\n",
      "\n"
     ]
    },
    {
     "data": {
      "text/html": [
       "<span style=\"background-color:rgba(135,206,250,0.110705435);\">wine</span> <span style=\"background-color:rgba(135,206,250,0.2421206);\">review</span> <span style=\"background-color:rgba(135,206,250,0.23159844);\">:</span> <span style=\"background-color:rgba(135,206,250,0.47924015);\">germany</span> <span style=\"background-color:rgba(135,206,250,0.27114373);\">:</span> <span style=\"background-color:rgba(135,206,250,0.1928266);\">mosel</span> <span style=\"background-color:rgba(135,206,250,0.09830247);\">:</span> <span style=\"background-color:rgba(135,206,250,0.39323962);\">riesling</span> <span style=\"background-color:rgba(135,206,250,0.15729035);\">:</span> <span style=\"background-color:rgba(135,206,250,0.06521029);\">a</span> <span style=\"background-color:rgba(135,206,250,0.12879185);\">light</span> <span style=\"background-color:rgba(135,206,250,0.06849755);\">,</span> <span style=\"background-color:rgba(135,206,250,0.12290018);\">delicate</span> <span style=\"background-color:rgba(135,206,250,0.057713557);\">style</span> <span style=\"background-color:rgba(135,206,250,0.06307408);\">of</span> <span style=\"background-color:rgba(135,206,250,0.1447114);\">riesling</span> <span style=\"background-color:rgba(135,206,250,0.066672355);\">,</span> <span style=\"background-color:rgba(135,206,250,0.20466301);\">with</span> <span style=\"background-color:rgba(135,206,250,0.09271771);\">a</span> <span style=\"background-color:rgba(135,206,250,0.3204812);\">shower</span> <span style=\"background-color:rgba(135,206,250,0.13075651);\">of</span> <span style=\"background-color:rgba(135,206,250,0.27927205);\">lemon</span> <span style=\"background-color:rgba(135,206,250,0.16284373);\">-</span> <span style=\"background-color:rgba(135,206,250,0.7172488);\">lime</span> <span style=\"background-color:rgba(135,206,250,0.81039464);\">acidity</span> <span style=\"background-color:rgba(135,206,250,0.33330265);\">,</span> <span style=\"background-color:rgba(135,206,250,1.0);\">mineral</span> <span style=\"background-color:rgba(135,206,250,0.72258854);\">,</span>"
      ],
      "text/plain": [
       "<IPython.core.display.HTML object>"
      ]
     },
     "metadata": {},
     "output_type": "display_data"
    },
    {
     "name": "stdout",
     "output_type": "stream",
     "text": [
      "slate:   \t84.63%\n",
      "honey:   \t3.79%\n",
      "mineral:   \t2.72%\n",
      "lime:   \t1.89%\n",
      "wet:   \t1.25%\n",
      "--------\n",
      "\n"
     ]
    },
    {
     "data": {
      "text/html": [
       "<span style=\"background-color:rgba(135,206,250,0.1472984);\">wine</span> <span style=\"background-color:rgba(135,206,250,0.25856543);\">review</span> <span style=\"background-color:rgba(135,206,250,0.41835284);\">:</span> <span style=\"background-color:rgba(135,206,250,0.58060646);\">germany</span> <span style=\"background-color:rgba(135,206,250,0.54130954);\">:</span> <span style=\"background-color:rgba(135,206,250,0.20004943);\">mosel</span> <span style=\"background-color:rgba(135,206,250,0.15874088);\">:</span> <span style=\"background-color:rgba(135,206,250,0.4559967);\">riesling</span> <span style=\"background-color:rgba(135,206,250,0.17586705);\">:</span> <span style=\"background-color:rgba(135,206,250,0.09212941);\">a</span> <span style=\"background-color:rgba(135,206,250,0.08403933);\">light</span> <span style=\"background-color:rgba(135,206,250,0.09083924);\">,</span> <span style=\"background-color:rgba(135,206,250,0.08408114);\">delicate</span> <span style=\"background-color:rgba(135,206,250,0.092723794);\">style</span> <span style=\"background-color:rgba(135,206,250,0.06275286);\">of</span> <span style=\"background-color:rgba(135,206,250,0.18910113);\">riesling</span> <span style=\"background-color:rgba(135,206,250,0.107276306);\">,</span> <span style=\"background-color:rgba(135,206,250,0.09371591);\">with</span> <span style=\"background-color:rgba(135,206,250,0.11817524);\">a</span> <span style=\"background-color:rgba(135,206,250,0.2614699);\">shower</span> <span style=\"background-color:rgba(135,206,250,0.10777751);\">of</span> <span style=\"background-color:rgba(135,206,250,0.25344867);\">lemon</span> <span style=\"background-color:rgba(135,206,250,0.16166873);\">-</span> <span style=\"background-color:rgba(135,206,250,0.5045394);\">lime</span> <span style=\"background-color:rgba(135,206,250,0.7922359);\">acidity</span> <span style=\"background-color:rgba(135,206,250,0.38849723);\">,</span> <span style=\"background-color:rgba(135,206,250,1.0);\">mineral</span> <span style=\"background-color:rgba(135,206,250,0.6784089);\">,</span> <span style=\"background-color:rgba(135,206,250,0.29677868);\">dried</span>"
      ],
      "text/plain": [
       "<IPython.core.display.HTML object>"
      ]
     },
     "metadata": {},
     "output_type": "display_data"
    },
    {
     "name": "stdout",
     "output_type": "stream",
     "text": [
      "herb:   \t87.81%\n",
      "herbs:   \t5.88%\n",
      "apple:   \t2.08%\n",
      "-:   \t1.41%\n",
      "stone:   \t0.45%\n",
      "--------\n",
      "\n"
     ]
    },
    {
     "data": {
      "text/html": [
       "<span style=\"background-color:rgba(135,206,250,0.1478987);\">wine</span> <span style=\"background-color:rgba(135,206,250,0.2359986);\">review</span> <span style=\"background-color:rgba(135,206,250,0.23076926);\">:</span> <span style=\"background-color:rgba(135,206,250,0.43211386);\">germany</span> <span style=\"background-color:rgba(135,206,250,0.3798078);\">:</span> <span style=\"background-color:rgba(135,206,250,0.09756674);\">mosel</span> <span style=\"background-color:rgba(135,206,250,0.14533673);\">:</span> <span style=\"background-color:rgba(135,206,250,0.13018467);\">riesling</span> <span style=\"background-color:rgba(135,206,250,0.1361323);\">:</span> <span style=\"background-color:rgba(135,206,250,0.07840965);\">a</span> <span style=\"background-color:rgba(135,206,250,0.052888);\">light</span> <span style=\"background-color:rgba(135,206,250,0.06993394);\">,</span> <span style=\"background-color:rgba(135,206,250,0.056372877);\">delicate</span> <span style=\"background-color:rgba(135,206,250,0.051264897);\">style</span> <span style=\"background-color:rgba(135,206,250,0.121993214);\">of</span> <span style=\"background-color:rgba(135,206,250,0.0938334);\">riesling</span> <span style=\"background-color:rgba(135,206,250,0.07616279);\">,</span> <span style=\"background-color:rgba(135,206,250,0.23610044);\">with</span> <span style=\"background-color:rgba(135,206,250,0.13342844);\">a</span> <span style=\"background-color:rgba(135,206,250,0.3248821);\">shower</span> <span style=\"background-color:rgba(135,206,250,0.1905419);\">of</span> <span style=\"background-color:rgba(135,206,250,0.09636198);\">lemon</span> <span style=\"background-color:rgba(135,206,250,0.13401158);\">-</span> <span style=\"background-color:rgba(135,206,250,0.12448674);\">lime</span> <span style=\"background-color:rgba(135,206,250,0.46544287);\">acidity</span> <span style=\"background-color:rgba(135,206,250,0.51176673);\">,</span> <span style=\"background-color:rgba(135,206,250,0.17843467);\">mineral</span> <span style=\"background-color:rgba(135,206,250,1.0);\">,</span> <span style=\"background-color:rgba(135,206,250,0.43007928);\">dried</span> <span style=\"background-color:rgba(135,206,250,0.43277094);\">herb</span>"
      ],
      "text/plain": [
       "<IPython.core.display.HTML object>"
      ]
     },
     "metadata": {},
     "output_type": "display_data"
    },
    {
     "name": "stdout",
     "output_type": "stream",
     "text": [
      "and:   \t89.71%\n",
      ",:   \t10.29%\n",
      "-:   \t0.0%\n",
      "tea:   \t0.0%\n",
      "pollen:   \t0.0%\n",
      "--------\n",
      "\n"
     ]
    },
    {
     "data": {
      "text/html": [
       "<span style=\"background-color:rgba(135,206,250,0.06868149);\">wine</span> <span style=\"background-color:rgba(135,206,250,0.11085532);\">review</span> <span style=\"background-color:rgba(135,206,250,0.12951049);\">:</span> <span style=\"background-color:rgba(135,206,250,0.28310287);\">germany</span> <span style=\"background-color:rgba(135,206,250,0.10409241);\">:</span> <span style=\"background-color:rgba(135,206,250,0.1446158);\">mosel</span> <span style=\"background-color:rgba(135,206,250,0.05795508);\">:</span> <span style=\"background-color:rgba(135,206,250,0.231218);\">riesling</span> <span style=\"background-color:rgba(135,206,250,0.09098644);\">:</span> <span style=\"background-color:rgba(135,206,250,0.036647577);\">a</span> <span style=\"background-color:rgba(135,206,250,0.077863);\">light</span> <span style=\"background-color:rgba(135,206,250,0.045548473);\">,</span> <span style=\"background-color:rgba(135,206,250,0.07193514);\">delicate</span> <span style=\"background-color:rgba(135,206,250,0.03548793);\">style</span> <span style=\"background-color:rgba(135,206,250,0.02749995);\">of</span> <span style=\"background-color:rgba(135,206,250,0.07799934);\">riesling</span> <span style=\"background-color:rgba(135,206,250,0.043580104);\">,</span> <span style=\"background-color:rgba(135,206,250,0.04236965);\">with</span> <span style=\"background-color:rgba(135,206,250,0.031317756);\">a</span> <span style=\"background-color:rgba(135,206,250,0.14455666);\">shower</span> <span style=\"background-color:rgba(135,206,250,0.03623901);\">of</span> <span style=\"background-color:rgba(135,206,250,0.078102246);\">lemon</span> <span style=\"background-color:rgba(135,206,250,0.045635264);\">-</span> <span style=\"background-color:rgba(135,206,250,0.1324027);\">lime</span> <span style=\"background-color:rgba(135,206,250,0.17612696);\">acidity</span> <span style=\"background-color:rgba(135,206,250,0.19559242);\">,</span> <span style=\"background-color:rgba(135,206,250,0.25496736);\">mineral</span> <span style=\"background-color:rgba(135,206,250,0.4673082);\">,</span> <span style=\"background-color:rgba(135,206,250,0.4929214);\">dried</span> <span style=\"background-color:rgba(135,206,250,1.0);\">herb</span> <span style=\"background-color:rgba(135,206,250,0.19515464);\">and</span>"
      ],
      "text/plain": [
       "<IPython.core.display.HTML object>"
      ]
     },
     "metadata": {},
     "output_type": "display_data"
    },
    {
     "name": "stdout",
     "output_type": "stream",
     "text": [
      "mineral:   \t34.66%\n",
      "slate:   \t22.83%\n",
      "spice:   \t16.29%\n",
      "honey:   \t6.82%\n",
      "lime:   \t3.91%\n",
      "--------\n",
      "\n"
     ]
    },
    {
     "data": {
      "text/html": [
       "<span style=\"background-color:rgba(135,206,250,0.13175863);\">wine</span> <span style=\"background-color:rgba(135,206,250,0.18818282);\">review</span> <span style=\"background-color:rgba(135,206,250,0.25558236);\">:</span> <span style=\"background-color:rgba(135,206,250,0.3370348);\">germany</span> <span style=\"background-color:rgba(135,206,250,0.31056976);\">:</span> <span style=\"background-color:rgba(135,206,250,0.10708326);\">mosel</span> <span style=\"background-color:rgba(135,206,250,0.14329927);\">:</span> <span style=\"background-color:rgba(135,206,250,0.19294734);\">riesling</span> <span style=\"background-color:rgba(135,206,250,0.143276);\">:</span> <span style=\"background-color:rgba(135,206,250,0.07321225);\">a</span> <span style=\"background-color:rgba(135,206,250,0.042922836);\">light</span> <span style=\"background-color:rgba(135,206,250,0.06783186);\">,</span> <span style=\"background-color:rgba(135,206,250,0.042490307);\">delicate</span> <span style=\"background-color:rgba(135,206,250,0.054778934);\">style</span> <span style=\"background-color:rgba(135,206,250,0.08954107);\">of</span> <span style=\"background-color:rgba(135,206,250,0.090858355);\">riesling</span> <span style=\"background-color:rgba(135,206,250,0.06406198);\">,</span> <span style=\"background-color:rgba(135,206,250,0.122310296);\">with</span> <span style=\"background-color:rgba(135,206,250,0.08085039);\">a</span> <span style=\"background-color:rgba(135,206,250,0.22415622);\">shower</span> <span style=\"background-color:rgba(135,206,250,0.121868216);\">of</span> <span style=\"background-color:rgba(135,206,250,0.07819638);\">lemon</span> <span style=\"background-color:rgba(135,206,250,0.060994055);\">-</span> <span style=\"background-color:rgba(135,206,250,0.10968967);\">lime</span> <span style=\"background-color:rgba(135,206,250,0.26810765);\">acidity</span> <span style=\"background-color:rgba(135,206,250,0.22141819);\">,</span> <span style=\"background-color:rgba(135,206,250,0.093160406);\">mineral</span> <span style=\"background-color:rgba(135,206,250,0.39319977);\">,</span> <span style=\"background-color:rgba(135,206,250,0.3387148);\">dried</span> <span style=\"background-color:rgba(135,206,250,0.369591);\">herb</span> <span style=\"background-color:rgba(135,206,250,1.0);\">and</span> <span style=\"background-color:rgba(135,206,250,0.31962055);\">mineral</span>"
      ],
      "text/plain": [
       "<IPython.core.display.HTML object>"
      ]
     },
     "metadata": {},
     "output_type": "display_data"
    },
    {
     "name": "stdout",
     "output_type": "stream",
     "text": [
      "tones:   \t38.0%\n",
      "flavors:   \t31.16%\n",
      "notes:   \t23.09%\n",
      ",:   \t2.41%\n",
      ".:   \t1.57%\n",
      "--------\n",
      "\n"
     ]
    },
    {
     "data": {
      "text/html": [
       "<span style=\"background-color:rgba(135,206,250,0.11029253);\">wine</span> <span style=\"background-color:rgba(135,206,250,0.28580758);\">review</span> <span style=\"background-color:rgba(135,206,250,0.29545295);\">:</span> <span style=\"background-color:rgba(135,206,250,0.47406307);\">germany</span> <span style=\"background-color:rgba(135,206,250,0.6204675);\">:</span> <span style=\"background-color:rgba(135,206,250,0.118705235);\">mosel</span> <span style=\"background-color:rgba(135,206,250,0.10133931);\">:</span> <span style=\"background-color:rgba(135,206,250,0.10263879);\">riesling</span> <span style=\"background-color:rgba(135,206,250,0.12235512);\">:</span> <span style=\"background-color:rgba(135,206,250,0.034163613);\">a</span> <span style=\"background-color:rgba(135,206,250,0.052131183);\">light</span> <span style=\"background-color:rgba(135,206,250,0.056478303);\">,</span> <span style=\"background-color:rgba(135,206,250,0.044372935);\">delicate</span> <span style=\"background-color:rgba(135,206,250,0.03226678);\">style</span> <span style=\"background-color:rgba(135,206,250,0.0575984);\">of</span> <span style=\"background-color:rgba(135,206,250,0.061564665);\">riesling</span> <span style=\"background-color:rgba(135,206,250,0.05483902);\">,</span> <span style=\"background-color:rgba(135,206,250,0.21396902);\">with</span> <span style=\"background-color:rgba(135,206,250,0.041575238);\">a</span> <span style=\"background-color:rgba(135,206,250,0.19869299);\">shower</span> <span style=\"background-color:rgba(135,206,250,0.08404537);\">of</span> <span style=\"background-color:rgba(135,206,250,0.08061514);\">lemon</span> <span style=\"background-color:rgba(135,206,250,0.060088485);\">-</span> <span style=\"background-color:rgba(135,206,250,0.11011091);\">lime</span> <span style=\"background-color:rgba(135,206,250,0.18177807);\">acidity</span> <span style=\"background-color:rgba(135,206,250,0.19617495);\">,</span> <span style=\"background-color:rgba(135,206,250,0.19161703);\">mineral</span> <span style=\"background-color:rgba(135,206,250,0.3372692);\">,</span> <span style=\"background-color:rgba(135,206,250,0.22855012);\">dried</span> <span style=\"background-color:rgba(135,206,250,0.58689785);\">herb</span> <span style=\"background-color:rgba(135,206,250,0.76158106);\">and</span> <span style=\"background-color:rgba(135,206,250,1.0);\">mineral</span> <span style=\"background-color:rgba(135,206,250,0.7068075);\">tones</span>"
      ],
      "text/plain": [
       "<IPython.core.display.HTML object>"
      ]
     },
     "metadata": {},
     "output_type": "display_data"
    },
    {
     "name": "stdout",
     "output_type": "stream",
     "text": [
      ".:   \t23.23%\n",
      "on:   \t20.36%\n",
      "extend:   \t19.5%\n",
      ",:   \t18.77%\n",
      "are:   \t3.25%\n",
      "--------\n",
      "\n"
     ]
    },
    {
     "data": {
      "text/html": [
       "<span style=\"background-color:rgba(135,206,250,0.10969801);\">wine</span> <span style=\"background-color:rgba(135,206,250,0.46891734);\">review</span> <span style=\"background-color:rgba(135,206,250,0.61557156);\">:</span> <span style=\"background-color:rgba(135,206,250,1.0);\">germany</span> <span style=\"background-color:rgba(135,206,250,0.7370695);\">:</span> <span style=\"background-color:rgba(135,206,250,0.26570082);\">mosel</span> <span style=\"background-color:rgba(135,206,250,0.34948277);\">:</span> <span style=\"background-color:rgba(135,206,250,0.43744177);\">riesling</span> <span style=\"background-color:rgba(135,206,250,0.19743343);\">:</span> <span style=\"background-color:rgba(135,206,250,0.06768387);\">a</span> <span style=\"background-color:rgba(135,206,250,0.103990875);\">light</span> <span style=\"background-color:rgba(135,206,250,0.07887237);\">,</span> <span style=\"background-color:rgba(135,206,250,0.0827864);\">delicate</span> <span style=\"background-color:rgba(135,206,250,0.04622928);\">style</span> <span style=\"background-color:rgba(135,206,250,0.046399865);\">of</span> <span style=\"background-color:rgba(135,206,250,0.12768374);\">riesling</span> <span style=\"background-color:rgba(135,206,250,0.06725581);\">,</span> <span style=\"background-color:rgba(135,206,250,0.1059929);\">with</span> <span style=\"background-color:rgba(135,206,250,0.053638086);\">a</span> <span style=\"background-color:rgba(135,206,250,0.24356285);\">shower</span> <span style=\"background-color:rgba(135,206,250,0.05449808);\">of</span> <span style=\"background-color:rgba(135,206,250,0.1128661);\">lemon</span> <span style=\"background-color:rgba(135,206,250,0.05832275);\">-</span> <span style=\"background-color:rgba(135,206,250,0.1378865);\">lime</span> <span style=\"background-color:rgba(135,206,250,0.18446435);\">acidity</span> <span style=\"background-color:rgba(135,206,250,0.119147174);\">,</span> <span style=\"background-color:rgba(135,206,250,0.13709976);\">mineral</span> <span style=\"background-color:rgba(135,206,250,0.15766105);\">,</span> <span style=\"background-color:rgba(135,206,250,0.13512221);\">dried</span> <span style=\"background-color:rgba(135,206,250,0.17441617);\">herb</span> <span style=\"background-color:rgba(135,206,250,0.17486145);\">and</span> <span style=\"background-color:rgba(135,206,250,0.21663894);\">mineral</span> <span style=\"background-color:rgba(135,206,250,0.51493645);\">tones</span> <span style=\"background-color:rgba(135,206,250,0.5548345);\">.</span>"
      ],
      "text/plain": [
       "<IPython.core.display.HTML object>"
      ]
     },
     "metadata": {},
     "output_type": "display_data"
    },
    {
     "name": "stdout",
     "output_type": "stream",
     "text": [
      "it:   \t86.99%\n",
      "the:   \t6.86%\n",
      "a:   \t2.4%\n",
      "this:   \t1.23%\n",
      ":   \t0.59%\n",
      "--------\n",
      "\n"
     ]
    },
    {
     "data": {
      "text/html": [
       "<span style=\"background-color:rgba(135,206,250,0.048267223);\">wine</span> <span style=\"background-color:rgba(135,206,250,0.08296826);\">review</span> <span style=\"background-color:rgba(135,206,250,0.08313177);\">:</span> <span style=\"background-color:rgba(135,206,250,0.21627262);\">germany</span> <span style=\"background-color:rgba(135,206,250,0.20327489);\">:</span> <span style=\"background-color:rgba(135,206,250,0.07412735);\">mosel</span> <span style=\"background-color:rgba(135,206,250,0.043637637);\">:</span> <span style=\"background-color:rgba(135,206,250,0.07319949);\">riesling</span> <span style=\"background-color:rgba(135,206,250,0.054531053);\">:</span> <span style=\"background-color:rgba(135,206,250,0.024449175);\">a</span> <span style=\"background-color:rgba(135,206,250,0.051125135);\">light</span> <span style=\"background-color:rgba(135,206,250,0.024057135);\">,</span> <span style=\"background-color:rgba(135,206,250,0.034463923);\">delicate</span> <span style=\"background-color:rgba(135,206,250,0.01944981);\">style</span> <span style=\"background-color:rgba(135,206,250,0.017778806);\">of</span> <span style=\"background-color:rgba(135,206,250,0.03175827);\">riesling</span> <span style=\"background-color:rgba(135,206,250,0.022218015);\">,</span> <span style=\"background-color:rgba(135,206,250,0.034096967);\">with</span> <span style=\"background-color:rgba(135,206,250,0.022141013);\">a</span> <span style=\"background-color:rgba(135,206,250,0.096132);\">shower</span> <span style=\"background-color:rgba(135,206,250,0.021389691);\">of</span> <span style=\"background-color:rgba(135,206,250,0.03085811);\">lemon</span> <span style=\"background-color:rgba(135,206,250,0.015206171);\">-</span> <span style=\"background-color:rgba(135,206,250,0.043240614);\">lime</span> <span style=\"background-color:rgba(135,206,250,0.073300436);\">acidity</span> <span style=\"background-color:rgba(135,206,250,0.04702819);\">,</span> <span style=\"background-color:rgba(135,206,250,0.055791885);\">mineral</span> <span style=\"background-color:rgba(135,206,250,0.073990606);\">,</span> <span style=\"background-color:rgba(135,206,250,0.050689813);\">dried</span> <span style=\"background-color:rgba(135,206,250,0.0805658);\">herb</span> <span style=\"background-color:rgba(135,206,250,0.0982183);\">and</span> <span style=\"background-color:rgba(135,206,250,0.13998564);\">mineral</span> <span style=\"background-color:rgba(135,206,250,0.34158137);\">tones</span> <span style=\"background-color:rgba(135,206,250,1.0);\">.</span> <span style=\"background-color:rgba(135,206,250,0.24064499);\">it</span>"
      ],
      "text/plain": [
       "<IPython.core.display.HTML object>"
      ]
     },
     "metadata": {},
     "output_type": "display_data"
    },
    {
     "name": "stdout",
     "output_type": "stream",
     "text": [
      "':   \t99.99%\n",
      "finishes:   \t0.01%\n",
      "is:   \t0.0%\n",
      "drinks:   \t0.0%\n",
      "has:   \t0.0%\n",
      "--------\n",
      "\n"
     ]
    },
    {
     "data": {
      "text/html": [
       "<span style=\"background-color:rgba(135,206,250,0.0768092);\">wine</span> <span style=\"background-color:rgba(135,206,250,0.09414429);\">review</span> <span style=\"background-color:rgba(135,206,250,0.14594595);\">:</span> <span style=\"background-color:rgba(135,206,250,0.13077621);\">germany</span> <span style=\"background-color:rgba(135,206,250,0.08701924);\">:</span> <span style=\"background-color:rgba(135,206,250,0.10819579);\">mosel</span> <span style=\"background-color:rgba(135,206,250,0.060154386);\">:</span> <span style=\"background-color:rgba(135,206,250,0.15901864);\">riesling</span> <span style=\"background-color:rgba(135,206,250,0.0748942);\">:</span> <span style=\"background-color:rgba(135,206,250,0.036991894);\">a</span> <span style=\"background-color:rgba(135,206,250,0.034320705);\">light</span> <span style=\"background-color:rgba(135,206,250,0.038189325);\">,</span> <span style=\"background-color:rgba(135,206,250,0.03941664);\">delicate</span> <span style=\"background-color:rgba(135,206,250,0.034689512);\">style</span> <span style=\"background-color:rgba(135,206,250,0.033566747);\">of</span> <span style=\"background-color:rgba(135,206,250,0.05555767);\">riesling</span> <span style=\"background-color:rgba(135,206,250,0.03676775);\">,</span> <span style=\"background-color:rgba(135,206,250,0.03883869);\">with</span> <span style=\"background-color:rgba(135,206,250,0.029338796);\">a</span> <span style=\"background-color:rgba(135,206,250,0.06445061);\">shower</span> <span style=\"background-color:rgba(135,206,250,0.036277976);\">of</span> <span style=\"background-color:rgba(135,206,250,0.03157144);\">lemon</span> <span style=\"background-color:rgba(135,206,250,0.021268157);\">-</span> <span style=\"background-color:rgba(135,206,250,0.03151028);\">lime</span> <span style=\"background-color:rgba(135,206,250,0.05909367);\">acidity</span> <span style=\"background-color:rgba(135,206,250,0.053244714);\">,</span> <span style=\"background-color:rgba(135,206,250,0.046921596);\">mineral</span> <span style=\"background-color:rgba(135,206,250,0.06740882);\">,</span> <span style=\"background-color:rgba(135,206,250,0.073417656);\">dried</span> <span style=\"background-color:rgba(135,206,250,0.070334546);\">herb</span> <span style=\"background-color:rgba(135,206,250,0.13133696);\">and</span> <span style=\"background-color:rgba(135,206,250,0.119341);\">mineral</span> <span style=\"background-color:rgba(135,206,250,0.30060357);\">tones</span> <span style=\"background-color:rgba(135,206,250,0.70394284);\">.</span> <span style=\"background-color:rgba(135,206,250,1.0);\">it</span> <span style=\"background-color:rgba(135,206,250,0.07458825);\">'</span>"
      ],
      "text/plain": [
       "<IPython.core.display.HTML object>"
      ]
     },
     "metadata": {},
     "output_type": "display_data"
    },
    {
     "name": "stdout",
     "output_type": "stream",
     "text": [
      "s:   \t100.0%\n",
      "ll:   \t0.0%\n",
      "[UNK]:   \t0.0%\n",
      "riesling:   \t0.0%\n",
      "off:   \t0.0%\n",
      "--------\n",
      "\n"
     ]
    },
    {
     "data": {
      "text/html": [
       "<span style=\"background-color:rgba(135,206,250,0.08168968);\">wine</span> <span style=\"background-color:rgba(135,206,250,0.13411477);\">review</span> <span style=\"background-color:rgba(135,206,250,0.1322123);\">:</span> <span style=\"background-color:rgba(135,206,250,0.33585358);\">germany</span> <span style=\"background-color:rgba(135,206,250,0.22922331);\">:</span> <span style=\"background-color:rgba(135,206,250,0.14846282);\">mosel</span> <span style=\"background-color:rgba(135,206,250,0.06270068);\">:</span> <span style=\"background-color:rgba(135,206,250,0.21766543);\">riesling</span> <span style=\"background-color:rgba(135,206,250,0.09683893);\">:</span> <span style=\"background-color:rgba(135,206,250,0.027327621);\">a</span> <span style=\"background-color:rgba(135,206,250,0.10272274);\">light</span> <span style=\"background-color:rgba(135,206,250,0.037403863);\">,</span> <span style=\"background-color:rgba(135,206,250,0.066595);\">delicate</span> <span style=\"background-color:rgba(135,206,250,0.025818644);\">style</span> <span style=\"background-color:rgba(135,206,250,0.02286502);\">of</span> <span style=\"background-color:rgba(135,206,250,0.06341851);\">riesling</span> <span style=\"background-color:rgba(135,206,250,0.032806873);\">,</span> <span style=\"background-color:rgba(135,206,250,0.04146256);\">with</span> <span style=\"background-color:rgba(135,206,250,0.020144485);\">a</span> <span style=\"background-color:rgba(135,206,250,0.13445874);\">shower</span> <span style=\"background-color:rgba(135,206,250,0.02840645);\">of</span> <span style=\"background-color:rgba(135,206,250,0.05047021);\">lemon</span> <span style=\"background-color:rgba(135,206,250,0.022220774);\">-</span> <span style=\"background-color:rgba(135,206,250,0.061553147);\">lime</span> <span style=\"background-color:rgba(135,206,250,0.11794334);\">acidity</span> <span style=\"background-color:rgba(135,206,250,0.07460698);\">,</span> <span style=\"background-color:rgba(135,206,250,0.096307404);\">mineral</span> <span style=\"background-color:rgba(135,206,250,0.10594008);\">,</span> <span style=\"background-color:rgba(135,206,250,0.092516474);\">dried</span> <span style=\"background-color:rgba(135,206,250,0.10849954);\">herb</span> <span style=\"background-color:rgba(135,206,250,0.14143384);\">and</span> <span style=\"background-color:rgba(135,206,250,0.17285952);\">mineral</span> <span style=\"background-color:rgba(135,206,250,0.2858012);\">tones</span> <span style=\"background-color:rgba(135,206,250,1.0);\">.</span> <span style=\"background-color:rgba(135,206,250,0.9143198);\">it</span> <span style=\"background-color:rgba(135,206,250,0.10675548);\">'</span> <span style=\"background-color:rgba(135,206,250,0.24610884);\">s</span>"
      ],
      "text/plain": [
       "<IPython.core.display.HTML object>"
      ]
     },
     "metadata": {},
     "output_type": "display_data"
    },
    {
     "name": "stdout",
     "output_type": "stream",
     "text": [
      "a:   \t51.44%\n",
      "dry:   \t18.42%\n",
      "brisk:   \t4.22%\n",
      "delicate:   \t3.26%\n",
      "delicately:   \t1.74%\n",
      "--------\n",
      "\n"
     ]
    },
    {
     "data": {
      "text/html": [
       "<span style=\"background-color:rgba(135,206,250,0.07328784);\">wine</span> <span style=\"background-color:rgba(135,206,250,0.11258727);\">review</span> <span style=\"background-color:rgba(135,206,250,0.113097355);\">:</span> <span style=\"background-color:rgba(135,206,250,0.37228724);\">germany</span> <span style=\"background-color:rgba(135,206,250,0.20139465);\">:</span> <span style=\"background-color:rgba(135,206,250,0.19044402);\">mosel</span> <span style=\"background-color:rgba(135,206,250,0.059334926);\">:</span> <span style=\"background-color:rgba(135,206,250,0.25150087);\">riesling</span> <span style=\"background-color:rgba(135,206,250,0.088647746);\">:</span> <span style=\"background-color:rgba(135,206,250,0.022999633);\">a</span> <span style=\"background-color:rgba(135,206,250,0.11555977);\">light</span> <span style=\"background-color:rgba(135,206,250,0.042038485);\">,</span> <span style=\"background-color:rgba(135,206,250,0.08977708);\">delicate</span> <span style=\"background-color:rgba(135,206,250,0.035610527);\">style</span> <span style=\"background-color:rgba(135,206,250,0.025196215);\">of</span> <span style=\"background-color:rgba(135,206,250,0.08330167);\">riesling</span> <span style=\"background-color:rgba(135,206,250,0.036013506);\">,</span> <span style=\"background-color:rgba(135,206,250,0.038037013);\">with</span> <span style=\"background-color:rgba(135,206,250,0.018532423);\">a</span> <span style=\"background-color:rgba(135,206,250,0.183495);\">shower</span> <span style=\"background-color:rgba(135,206,250,0.028397039);\">of</span> <span style=\"background-color:rgba(135,206,250,0.06592333);\">lemon</span> <span style=\"background-color:rgba(135,206,250,0.026991041);\">-</span> <span style=\"background-color:rgba(135,206,250,0.08345602);\">lime</span> <span style=\"background-color:rgba(135,206,250,0.12884536);\">acidity</span> <span style=\"background-color:rgba(135,206,250,0.05837014);\">,</span> <span style=\"background-color:rgba(135,206,250,0.12401801);\">mineral</span> <span style=\"background-color:rgba(135,206,250,0.07760871);\">,</span> <span style=\"background-color:rgba(135,206,250,0.101992615);\">dried</span> <span style=\"background-color:rgba(135,206,250,0.14553514);\">herb</span> <span style=\"background-color:rgba(135,206,250,0.12058708);\">and</span> <span style=\"background-color:rgba(135,206,250,0.20076169);\">mineral</span> <span style=\"background-color:rgba(135,206,250,0.33144993);\">tones</span> <span style=\"background-color:rgba(135,206,250,1.0);\">.</span> <span style=\"background-color:rgba(135,206,250,0.54817665);\">it</span> <span style=\"background-color:rgba(135,206,250,0.11069429);\">'</span> <span style=\"background-color:rgba(135,206,250,0.8317537);\">s</span> <span style=\"background-color:rgba(135,206,250,0.38464957);\">a</span>"
      ],
      "text/plain": [
       "<IPython.core.display.HTML object>"
      ]
     },
     "metadata": {},
     "output_type": "display_data"
    },
    {
     "name": "stdout",
     "output_type": "stream",
     "text": [
      "bit:   \t50.14%\n",
      "straightforward:   \t13.13%\n",
      "deeply:   \t5.13%\n",
      "delightfully:   \t4.74%\n",
      "very:   \t3.09%\n",
      "--------\n",
      "\n"
     ]
    },
    {
     "data": {
      "text/html": [
       "<span style=\"background-color:rgba(135,206,250,0.06480436);\">wine</span> <span style=\"background-color:rgba(135,206,250,0.12948751);\">review</span> <span style=\"background-color:rgba(135,206,250,0.18998794);\">:</span> <span style=\"background-color:rgba(135,206,250,0.34380955);\">germany</span> <span style=\"background-color:rgba(135,206,250,0.18323798);\">:</span> <span style=\"background-color:rgba(135,206,250,0.1864443);\">mosel</span> <span style=\"background-color:rgba(135,206,250,0.07020924);\">:</span> <span style=\"background-color:rgba(135,206,250,0.17565896);\">riesling</span> <span style=\"background-color:rgba(135,206,250,0.11232445);\">:</span> <span style=\"background-color:rgba(135,206,250,0.032681584);\">a</span> <span style=\"background-color:rgba(135,206,250,0.110945806);\">light</span> <span style=\"background-color:rgba(135,206,250,0.049027465);\">,</span> <span style=\"background-color:rgba(135,206,250,0.081765436);\">delicate</span> <span style=\"background-color:rgba(135,206,250,0.025020335);\">style</span> <span style=\"background-color:rgba(135,206,250,0.026656244);\">of</span> <span style=\"background-color:rgba(135,206,250,0.05340918);\">riesling</span> <span style=\"background-color:rgba(135,206,250,0.04530727);\">,</span> <span style=\"background-color:rgba(135,206,250,0.045590114);\">with</span> <span style=\"background-color:rgba(135,206,250,0.022773378);\">a</span> <span style=\"background-color:rgba(135,206,250,0.11363422);\">shower</span> <span style=\"background-color:rgba(135,206,250,0.03575627);\">of</span> <span style=\"background-color:rgba(135,206,250,0.0499371);\">lemon</span> <span style=\"background-color:rgba(135,206,250,0.027541775);\">-</span> <span style=\"background-color:rgba(135,206,250,0.06109913);\">lime</span> <span style=\"background-color:rgba(135,206,250,0.09411746);\">acidity</span> <span style=\"background-color:rgba(135,206,250,0.08439762);\">,</span> <span style=\"background-color:rgba(135,206,250,0.14859368);\">mineral</span> <span style=\"background-color:rgba(135,206,250,0.11154248);\">,</span> <span style=\"background-color:rgba(135,206,250,0.106103554);\">dried</span> <span style=\"background-color:rgba(135,206,250,0.1567507);\">herb</span> <span style=\"background-color:rgba(135,206,250,0.14801157);\">and</span> <span style=\"background-color:rgba(135,206,250,0.30257723);\">mineral</span> <span style=\"background-color:rgba(135,206,250,0.221916);\">tones</span> <span style=\"background-color:rgba(135,206,250,1.0);\">.</span> <span style=\"background-color:rgba(135,206,250,0.49721184);\">it</span> <span style=\"background-color:rgba(135,206,250,0.14127964);\">'</span> <span style=\"background-color:rgba(135,206,250,0.59759235);\">s</span> <span style=\"background-color:rgba(135,206,250,0.50690967);\">a</span> <span style=\"background-color:rgba(135,206,250,0.2746494);\">bit</span>"
      ],
      "text/plain": [
       "<IPython.core.display.HTML object>"
      ]
     },
     "metadata": {},
     "output_type": "display_data"
    },
    {
     "name": "stdout",
     "output_type": "stream",
     "text": [
      "lean:   \t61.17%\n",
      "austere:   \t27.28%\n",
      "demure:   \t1.55%\n",
      "on:   \t0.72%\n",
      "softer:   \t0.61%\n",
      "--------\n",
      "\n"
     ]
    },
    {
     "data": {
      "text/html": [
       "<span style=\"background-color:rgba(135,206,250,0.08802323);\">wine</span> <span style=\"background-color:rgba(135,206,250,0.15164371);\">review</span> <span style=\"background-color:rgba(135,206,250,0.18870746);\">:</span> <span style=\"background-color:rgba(135,206,250,0.35691026);\">germany</span> <span style=\"background-color:rgba(135,206,250,0.22953139);\">:</span> <span style=\"background-color:rgba(135,206,250,0.12312635);\">mosel</span> <span style=\"background-color:rgba(135,206,250,0.10069479);\">:</span> <span style=\"background-color:rgba(135,206,250,0.31391177);\">riesling</span> <span style=\"background-color:rgba(135,206,250,0.115620464);\">:</span> <span style=\"background-color:rgba(135,206,250,0.03654954);\">a</span> <span style=\"background-color:rgba(135,206,250,0.023358652);\">light</span> <span style=\"background-color:rgba(135,206,250,0.03924952);\">,</span> <span style=\"background-color:rgba(135,206,250,0.017210318);\">delicate</span> <span style=\"background-color:rgba(135,206,250,0.023823492);\">style</span> <span style=\"background-color:rgba(135,206,250,0.026109887);\">of</span> <span style=\"background-color:rgba(135,206,250,0.06767254);\">riesling</span> <span style=\"background-color:rgba(135,206,250,0.03180116);\">,</span> <span style=\"background-color:rgba(135,206,250,0.03074441);\">with</span> <span style=\"background-color:rgba(135,206,250,0.022062141);\">a</span> <span style=\"background-color:rgba(135,206,250,0.10858418);\">shower</span> <span style=\"background-color:rgba(135,206,250,0.028768882);\">of</span> <span style=\"background-color:rgba(135,206,250,0.043822505);\">lemon</span> <span style=\"background-color:rgba(135,206,250,0.013542562);\">-</span> <span style=\"background-color:rgba(135,206,250,0.051050477);\">lime</span> <span style=\"background-color:rgba(135,206,250,0.14151123);\">acidity</span> <span style=\"background-color:rgba(135,206,250,0.0545144);\">,</span> <span style=\"background-color:rgba(135,206,250,0.04422452);\">mineral</span> <span style=\"background-color:rgba(135,206,250,0.06340037);\">,</span> <span style=\"background-color:rgba(135,206,250,0.04961567);\">dried</span> <span style=\"background-color:rgba(135,206,250,0.06953385);\">herb</span> <span style=\"background-color:rgba(135,206,250,0.08532187);\">and</span> <span style=\"background-color:rgba(135,206,250,0.07174939);\">mineral</span> <span style=\"background-color:rgba(135,206,250,0.30715078);\">tones</span> <span style=\"background-color:rgba(135,206,250,0.49310035);\">.</span> <span style=\"background-color:rgba(135,206,250,0.31614605);\">it</span> <span style=\"background-color:rgba(135,206,250,0.07221548);\">'</span> <span style=\"background-color:rgba(135,206,250,0.47601467);\">s</span> <span style=\"background-color:rgba(135,206,250,0.75373286);\">a</span> <span style=\"background-color:rgba(135,206,250,1.0);\">bit</span> <span style=\"background-color:rgba(135,206,250,0.29026592);\">lean</span>"
      ],
      "text/plain": [
       "<IPython.core.display.HTML object>"
      ]
     },
     "metadata": {},
     "output_type": "display_data"
    },
    {
     "name": "stdout",
     "output_type": "stream",
     "text": [
      ",:   \t48.4%\n",
      "in:   \t40.01%\n",
      "and:   \t5.63%\n",
      "on:   \t5.37%\n",
      "but:   \t0.45%\n",
      "--------\n",
      "\n"
     ]
    },
    {
     "data": {
      "text/html": [
       "<span style=\"background-color:rgba(135,206,250,0.045454327);\">wine</span> <span style=\"background-color:rgba(135,206,250,0.108422935);\">review</span> <span style=\"background-color:rgba(135,206,250,0.09227836);\">:</span> <span style=\"background-color:rgba(135,206,250,0.32412213);\">germany</span> <span style=\"background-color:rgba(135,206,250,0.11091486);\">:</span> <span style=\"background-color:rgba(135,206,250,0.13488656);\">mosel</span> <span style=\"background-color:rgba(135,206,250,0.051608652);\">:</span> <span style=\"background-color:rgba(135,206,250,0.2333936);\">riesling</span> <span style=\"background-color:rgba(135,206,250,0.073611006);\">:</span> <span style=\"background-color:rgba(135,206,250,0.027238453);\">a</span> <span style=\"background-color:rgba(135,206,250,0.0670713);\">light</span> <span style=\"background-color:rgba(135,206,250,0.03107723);\">,</span> <span style=\"background-color:rgba(135,206,250,0.048404004);\">delicate</span> <span style=\"background-color:rgba(135,206,250,0.019865762);\">style</span> <span style=\"background-color:rgba(135,206,250,0.020357948);\">of</span> <span style=\"background-color:rgba(135,206,250,0.06630097);\">riesling</span> <span style=\"background-color:rgba(135,206,250,0.027030515);\">,</span> <span style=\"background-color:rgba(135,206,250,0.062358074);\">with</span> <span style=\"background-color:rgba(135,206,250,0.02037729);\">a</span> <span style=\"background-color:rgba(135,206,250,0.117913);\">shower</span> <span style=\"background-color:rgba(135,206,250,0.023522608);\">of</span> <span style=\"background-color:rgba(135,206,250,0.056740828);\">lemon</span> <span style=\"background-color:rgba(135,206,250,0.018292012);\">-</span> <span style=\"background-color:rgba(135,206,250,0.07258506);\">lime</span> <span style=\"background-color:rgba(135,206,250,0.096141934);\">acidity</span> <span style=\"background-color:rgba(135,206,250,0.038926776);\">,</span> <span style=\"background-color:rgba(135,206,250,0.06569919);\">mineral</span> <span style=\"background-color:rgba(135,206,250,0.045714345);\">,</span> <span style=\"background-color:rgba(135,206,250,0.06535086);\">dried</span> <span style=\"background-color:rgba(135,206,250,0.09320741);\">herb</span> <span style=\"background-color:rgba(135,206,250,0.085147426);\">and</span> <span style=\"background-color:rgba(135,206,250,0.10661098);\">mineral</span> <span style=\"background-color:rgba(135,206,250,0.21816592);\">tones</span> <span style=\"background-color:rgba(135,206,250,0.45792222);\">.</span> <span style=\"background-color:rgba(135,206,250,0.24077216);\">it</span> <span style=\"background-color:rgba(135,206,250,0.04163232);\">'</span> <span style=\"background-color:rgba(135,206,250,0.46494868);\">s</span> <span style=\"background-color:rgba(135,206,250,0.57639337);\">a</span> <span style=\"background-color:rgba(135,206,250,0.760552);\">bit</span> <span style=\"background-color:rgba(135,206,250,1.0);\">lean</span> <span style=\"background-color:rgba(135,206,250,0.5575376);\">,</span>"
      ],
      "text/plain": [
       "<IPython.core.display.HTML object>"
      ]
     },
     "metadata": {},
     "output_type": "display_data"
    },
    {
     "name": "stdout",
     "output_type": "stream",
     "text": [
      "but:   \t88.78%\n",
      "with:   \t6.42%\n",
      "yet:   \t3.93%\n",
      "offering:   \t0.25%\n",
      "finishing:   \t0.05%\n",
      "--------\n",
      "\n"
     ]
    },
    {
     "data": {
      "text/html": [
       "<span style=\"background-color:rgba(135,206,250,0.0744231);\">wine</span> <span style=\"background-color:rgba(135,206,250,0.15809564);\">review</span> <span style=\"background-color:rgba(135,206,250,0.17885843);\">:</span> <span style=\"background-color:rgba(135,206,250,0.4863355);\">germany</span> <span style=\"background-color:rgba(135,206,250,0.30029136);\">:</span> <span style=\"background-color:rgba(135,206,250,0.2014562);\">mosel</span> <span style=\"background-color:rgba(135,206,250,0.09416114);\">:</span> <span style=\"background-color:rgba(135,206,250,0.19441879);\">riesling</span> <span style=\"background-color:rgba(135,206,250,0.10287152);\">:</span> <span style=\"background-color:rgba(135,206,250,0.05553379);\">a</span> <span style=\"background-color:rgba(135,206,250,0.03482317);\">light</span> <span style=\"background-color:rgba(135,206,250,0.053322375);\">,</span> <span style=\"background-color:rgba(135,206,250,0.03358613);\">delicate</span> <span style=\"background-color:rgba(135,206,250,0.026287433);\">style</span> <span style=\"background-color:rgba(135,206,250,0.04255789);\">of</span> <span style=\"background-color:rgba(135,206,250,0.07808616);\">riesling</span> <span style=\"background-color:rgba(135,206,250,0.045199554);\">,</span> <span style=\"background-color:rgba(135,206,250,0.0816628);\">with</span> <span style=\"background-color:rgba(135,206,250,0.046105355);\">a</span> <span style=\"background-color:rgba(135,206,250,0.085999765);\">shower</span> <span style=\"background-color:rgba(135,206,250,0.03811496);\">of</span> <span style=\"background-color:rgba(135,206,250,0.051590085);\">lemon</span> <span style=\"background-color:rgba(135,206,250,0.025747418);\">-</span> <span style=\"background-color:rgba(135,206,250,0.05080734);\">lime</span> <span style=\"background-color:rgba(135,206,250,0.11182936);\">acidity</span> <span style=\"background-color:rgba(135,206,250,0.061561614);\">,</span> <span style=\"background-color:rgba(135,206,250,0.055885267);\">mineral</span> <span style=\"background-color:rgba(135,206,250,0.0725898);\">,</span> <span style=\"background-color:rgba(135,206,250,0.05131028);\">dried</span> <span style=\"background-color:rgba(135,206,250,0.0870076);\">herb</span> <span style=\"background-color:rgba(135,206,250,0.08156099);\">and</span> <span style=\"background-color:rgba(135,206,250,0.09180621);\">mineral</span> <span style=\"background-color:rgba(135,206,250,0.27271166);\">tones</span> <span style=\"background-color:rgba(135,206,250,0.42074165);\">.</span> <span style=\"background-color:rgba(135,206,250,0.20584299);\">it</span> <span style=\"background-color:rgba(135,206,250,0.071113266);\">'</span> <span style=\"background-color:rgba(135,206,250,0.27542427);\">s</span> <span style=\"background-color:rgba(135,206,250,0.37132725);\">a</span> <span style=\"background-color:rgba(135,206,250,0.40757227);\">bit</span> <span style=\"background-color:rgba(135,206,250,0.58505017);\">lean</span> <span style=\"background-color:rgba(135,206,250,1.0);\">,</span> <span style=\"background-color:rgba(135,206,250,0.42351207);\">but</span>"
      ],
      "text/plain": [
       "<IPython.core.display.HTML object>"
      ]
     },
     "metadata": {},
     "output_type": "display_data"
    },
    {
     "name": "stdout",
     "output_type": "stream",
     "text": [
      "the:   \t37.33%\n",
      "it:   \t13.45%\n",
      "a:   \t9.49%\n",
      "not:   \t7.79%\n",
      "still:   \t3.82%\n",
      "--------\n",
      "\n"
     ]
    },
    {
     "data": {
      "text/html": [
       "<span style=\"background-color:rgba(135,206,250,0.044907432);\">wine</span> <span style=\"background-color:rgba(135,206,250,0.06290251);\">review</span> <span style=\"background-color:rgba(135,206,250,0.07096944);\">:</span> <span style=\"background-color:rgba(135,206,250,0.25871408);\">germany</span> <span style=\"background-color:rgba(135,206,250,0.09934294);\">:</span> <span style=\"background-color:rgba(135,206,250,0.13129412);\">mosel</span> <span style=\"background-color:rgba(135,206,250,0.040699374);\">:</span> <span style=\"background-color:rgba(135,206,250,0.22287999);\">riesling</span> <span style=\"background-color:rgba(135,206,250,0.054634985);\">:</span> <span style=\"background-color:rgba(135,206,250,0.01797721);\">a</span> <span style=\"background-color:rgba(135,206,250,0.05252002);\">light</span> <span style=\"background-color:rgba(135,206,250,0.026353367);\">,</span> <span style=\"background-color:rgba(135,206,250,0.038034167);\">delicate</span> <span style=\"background-color:rgba(135,206,250,0.021217732);\">style</span> <span style=\"background-color:rgba(135,206,250,0.0130203925);\">of</span> <span style=\"background-color:rgba(135,206,250,0.057114735);\">riesling</span> <span style=\"background-color:rgba(135,206,250,0.021290759);\">,</span> <span style=\"background-color:rgba(135,206,250,0.018243685);\">with</span> <span style=\"background-color:rgba(135,206,250,0.01313514);\">a</span> <span style=\"background-color:rgba(135,206,250,0.1122094);\">shower</span> <span style=\"background-color:rgba(135,206,250,0.013997283);\">of</span> <span style=\"background-color:rgba(135,206,250,0.037370916);\">lemon</span> <span style=\"background-color:rgba(135,206,250,0.012253617);\">-</span> <span style=\"background-color:rgba(135,206,250,0.04811413);\">lime</span> <span style=\"background-color:rgba(135,206,250,0.10036173);\">acidity</span> <span style=\"background-color:rgba(135,206,250,0.030954055);\">,</span> <span style=\"background-color:rgba(135,206,250,0.054266598);\">mineral</span> <span style=\"background-color:rgba(135,206,250,0.034479182);\">,</span> <span style=\"background-color:rgba(135,206,250,0.043337937);\">dried</span> <span style=\"background-color:rgba(135,206,250,0.06046037);\">herb</span> <span style=\"background-color:rgba(135,206,250,0.037049744);\">and</span> <span style=\"background-color:rgba(135,206,250,0.07286451);\">mineral</span> <span style=\"background-color:rgba(135,206,250,0.14725639);\">tones</span> <span style=\"background-color:rgba(135,206,250,0.15880696);\">.</span> <span style=\"background-color:rgba(135,206,250,0.09041483);\">it</span> <span style=\"background-color:rgba(135,206,250,0.017237397);\">'</span> <span style=\"background-color:rgba(135,206,250,0.1225547);\">s</span> <span style=\"background-color:rgba(135,206,250,0.09833299);\">a</span> <span style=\"background-color:rgba(135,206,250,0.1649438);\">bit</span> <span style=\"background-color:rgba(135,206,250,0.28513554);\">lean</span> <span style=\"background-color:rgba(135,206,250,0.68212426);\">,</span> <span style=\"background-color:rgba(135,206,250,1.0);\">but</span> <span style=\"background-color:rgba(135,206,250,0.19891639);\">the</span>"
      ],
      "text/plain": [
       "<IPython.core.display.HTML object>"
      ]
     },
     "metadata": {},
     "output_type": "display_data"
    },
    {
     "name": "stdout",
     "output_type": "stream",
     "text": [
      "finish:   \t69.42%\n",
      "palate:   \t19.58%\n",
      "wine:   \t6.49%\n",
      "overall:   \t1.13%\n",
      "flavors:   \t0.93%\n",
      "--------\n",
      "\n"
     ]
    },
    {
     "data": {
      "text/html": [
       "<span style=\"background-color:rgba(135,206,250,0.0597894);\">wine</span> <span style=\"background-color:rgba(135,206,250,0.19375975);\">review</span> <span style=\"background-color:rgba(135,206,250,0.18617791);\">:</span> <span style=\"background-color:rgba(135,206,250,0.32802573);\">germany</span> <span style=\"background-color:rgba(135,206,250,0.3382163);\">:</span> <span style=\"background-color:rgba(135,206,250,0.14026955);\">mosel</span> <span style=\"background-color:rgba(135,206,250,0.08266685);\">:</span> <span style=\"background-color:rgba(135,206,250,0.10698449);\">riesling</span> <span style=\"background-color:rgba(135,206,250,0.08472092);\">:</span> <span style=\"background-color:rgba(135,206,250,0.040360205);\">a</span> <span style=\"background-color:rgba(135,206,250,0.05223396);\">light</span> <span style=\"background-color:rgba(135,206,250,0.030799229);\">,</span> <span style=\"background-color:rgba(135,206,250,0.036618493);\">delicate</span> <span style=\"background-color:rgba(135,206,250,0.015344396);\">style</span> <span style=\"background-color:rgba(135,206,250,0.021031003);\">of</span> <span style=\"background-color:rgba(135,206,250,0.031641707);\">riesling</span> <span style=\"background-color:rgba(135,206,250,0.026711829);\">,</span> <span style=\"background-color:rgba(135,206,250,0.062492277);\">with</span> <span style=\"background-color:rgba(135,206,250,0.026299099);\">a</span> <span style=\"background-color:rgba(135,206,250,0.07280979);\">shower</span> <span style=\"background-color:rgba(135,206,250,0.02428088);\">of</span> <span style=\"background-color:rgba(135,206,250,0.028580362);\">lemon</span> <span style=\"background-color:rgba(135,206,250,0.01777017);\">-</span> <span style=\"background-color:rgba(135,206,250,0.033620138);\">lime</span> <span style=\"background-color:rgba(135,206,250,0.07780017);\">acidity</span> <span style=\"background-color:rgba(135,206,250,0.04227137);\">,</span> <span style=\"background-color:rgba(135,206,250,0.046918407);\">mineral</span> <span style=\"background-color:rgba(135,206,250,0.051497463);\">,</span> <span style=\"background-color:rgba(135,206,250,0.05233425);\">dried</span> <span style=\"background-color:rgba(135,206,250,0.06583815);\">herb</span> <span style=\"background-color:rgba(135,206,250,0.06632277);\">and</span> <span style=\"background-color:rgba(135,206,250,0.072219566);\">mineral</span> <span style=\"background-color:rgba(135,206,250,0.17542653);\">tones</span> <span style=\"background-color:rgba(135,206,250,0.41654202);\">.</span> <span style=\"background-color:rgba(135,206,250,0.1527903);\">it</span> <span style=\"background-color:rgba(135,206,250,0.0639208);\">'</span> <span style=\"background-color:rgba(135,206,250,0.24267173);\">s</span> <span style=\"background-color:rgba(135,206,250,0.3435133);\">a</span> <span style=\"background-color:rgba(135,206,250,0.29789174);\">bit</span> <span style=\"background-color:rgba(135,206,250,0.37144038);\">lean</span> <span style=\"background-color:rgba(135,206,250,0.61009777);\">,</span> <span style=\"background-color:rgba(135,206,250,0.945454);\">but</span> <span style=\"background-color:rgba(135,206,250,1.0);\">the</span> <span style=\"background-color:rgba(135,206,250,0.5490885);\">finish</span>"
      ],
      "text/plain": [
       "<IPython.core.display.HTML object>"
      ]
     },
     "metadata": {},
     "output_type": "display_data"
    },
    {
     "name": "stdout",
     "output_type": "stream",
     "text": [
      "is:   \t97.55%\n",
      "lingers:   \t1.09%\n",
      "shows:   \t0.37%\n",
      "has:   \t0.35%\n",
      "does:   \t0.13%\n",
      "--------\n",
      "\n"
     ]
    },
    {
     "data": {
      "text/html": [
       "<span style=\"background-color:rgba(135,206,250,0.040967133);\">wine</span> <span style=\"background-color:rgba(135,206,250,0.07204079);\">review</span> <span style=\"background-color:rgba(135,206,250,0.07078781);\">:</span> <span style=\"background-color:rgba(135,206,250,0.24052769);\">germany</span> <span style=\"background-color:rgba(135,206,250,0.097013734);\">:</span> <span style=\"background-color:rgba(135,206,250,0.14690064);\">mosel</span> <span style=\"background-color:rgba(135,206,250,0.04118747);\">:</span> <span style=\"background-color:rgba(135,206,250,0.12042805);\">riesling</span> <span style=\"background-color:rgba(135,206,250,0.061274778);\">:</span> <span style=\"background-color:rgba(135,206,250,0.021665087);\">a</span> <span style=\"background-color:rgba(135,206,250,0.08272177);\">light</span> <span style=\"background-color:rgba(135,206,250,0.025794288);\">,</span> <span style=\"background-color:rgba(135,206,250,0.04674373);\">delicate</span> <span style=\"background-color:rgba(135,206,250,0.018153006);\">style</span> <span style=\"background-color:rgba(135,206,250,0.013838171);\">of</span> <span style=\"background-color:rgba(135,206,250,0.03607199);\">riesling</span> <span style=\"background-color:rgba(135,206,250,0.021276474);\">,</span> <span style=\"background-color:rgba(135,206,250,0.022186993);\">with</span> <span style=\"background-color:rgba(135,206,250,0.014611731);\">a</span> <span style=\"background-color:rgba(135,206,250,0.073878124);\">shower</span> <span style=\"background-color:rgba(135,206,250,0.01337942);\">of</span> <span style=\"background-color:rgba(135,206,250,0.02871298);\">lemon</span> <span style=\"background-color:rgba(135,206,250,0.011685887);\">-</span> <span style=\"background-color:rgba(135,206,250,0.032717705);\">lime</span> <span style=\"background-color:rgba(135,206,250,0.059543986);\">acidity</span> <span style=\"background-color:rgba(135,206,250,0.02354352);\">,</span> <span style=\"background-color:rgba(135,206,250,0.047577392);\">mineral</span> <span style=\"background-color:rgba(135,206,250,0.02505964);\">,</span> <span style=\"background-color:rgba(135,206,250,0.034073822);\">dried</span> <span style=\"background-color:rgba(135,206,250,0.038401812);\">herb</span> <span style=\"background-color:rgba(135,206,250,0.03448445);\">and</span> <span style=\"background-color:rgba(135,206,250,0.058536567);\">mineral</span> <span style=\"background-color:rgba(135,206,250,0.06157378);\">tones</span> <span style=\"background-color:rgba(135,206,250,0.08609511);\">.</span> <span style=\"background-color:rgba(135,206,250,0.034937076);\">it</span> <span style=\"background-color:rgba(135,206,250,0.015597317);\">'</span> <span style=\"background-color:rgba(135,206,250,0.040010612);\">s</span> <span style=\"background-color:rgba(135,206,250,0.04452722);\">a</span> <span style=\"background-color:rgba(135,206,250,0.06977821);\">bit</span> <span style=\"background-color:rgba(135,206,250,0.14493184);\">lean</span> <span style=\"background-color:rgba(135,206,250,0.1985857);\">,</span> <span style=\"background-color:rgba(135,206,250,0.57035387);\">but</span> <span style=\"background-color:rgba(135,206,250,0.29688436);\">the</span> <span style=\"background-color:rgba(135,206,250,1.0);\">finish</span> <span style=\"background-color:rgba(135,206,250,0.17172842);\">is</span>"
      ],
      "text/plain": [
       "<IPython.core.display.HTML object>"
      ]
     },
     "metadata": {},
     "output_type": "display_data"
    },
    {
     "name": "stdout",
     "output_type": "stream",
     "text": [
      "dry:   \t31.34%\n",
      "brisk:   \t29.67%\n",
      "long:   \t15.23%\n",
      "marked:   \t4.21%\n",
      "lean:   \t2.58%\n",
      "--------\n",
      "\n"
     ]
    },
    {
     "data": {
      "text/html": [
       "<span style=\"background-color:rgba(135,206,250,0.035745423);\">wine</span> <span style=\"background-color:rgba(135,206,250,0.05955215);\">review</span> <span style=\"background-color:rgba(135,206,250,0.07983998);\">:</span> <span style=\"background-color:rgba(135,206,250,0.22007929);\">germany</span> <span style=\"background-color:rgba(135,206,250,0.07509062);\">:</span> <span style=\"background-color:rgba(135,206,250,0.10893144);\">mosel</span> <span style=\"background-color:rgba(135,206,250,0.047635794);\">:</span> <span style=\"background-color:rgba(135,206,250,0.19243705);\">riesling</span> <span style=\"background-color:rgba(135,206,250,0.048987947);\">:</span> <span style=\"background-color:rgba(135,206,250,0.015388043);\">a</span> <span style=\"background-color:rgba(135,206,250,0.017332798);\">light</span> <span style=\"background-color:rgba(135,206,250,0.023716582);\">,</span> <span style=\"background-color:rgba(135,206,250,0.0110824015);\">delicate</span> <span style=\"background-color:rgba(135,206,250,0.013247209);\">style</span> <span style=\"background-color:rgba(135,206,250,0.013293264);\">of</span> <span style=\"background-color:rgba(135,206,250,0.044558525);\">riesling</span> <span style=\"background-color:rgba(135,206,250,0.020213155);\">,</span> <span style=\"background-color:rgba(135,206,250,0.013004454);\">with</span> <span style=\"background-color:rgba(135,206,250,0.010118934);\">a</span> <span style=\"background-color:rgba(135,206,250,0.05882507);\">shower</span> <span style=\"background-color:rgba(135,206,250,0.012792307);\">of</span> <span style=\"background-color:rgba(135,206,250,0.03459432);\">lemon</span> <span style=\"background-color:rgba(135,206,250,0.00578138);\">-</span> <span style=\"background-color:rgba(135,206,250,0.034501694);\">lime</span> <span style=\"background-color:rgba(135,206,250,0.1337635);\">acidity</span> <span style=\"background-color:rgba(135,206,250,0.02649322);\">,</span> <span style=\"background-color:rgba(135,206,250,0.025798922);\">mineral</span> <span style=\"background-color:rgba(135,206,250,0.027463207);\">,</span> <span style=\"background-color:rgba(135,206,250,0.03033718);\">dried</span> <span style=\"background-color:rgba(135,206,250,0.037965152);\">herb</span> <span style=\"background-color:rgba(135,206,250,0.03428851);\">and</span> <span style=\"background-color:rgba(135,206,250,0.034524746);\">mineral</span> <span style=\"background-color:rgba(135,206,250,0.090283014);\">tones</span> <span style=\"background-color:rgba(135,206,250,0.10407144);\">.</span> <span style=\"background-color:rgba(135,206,250,0.048849966);\">it</span> <span style=\"background-color:rgba(135,206,250,0.015004666);\">'</span> <span style=\"background-color:rgba(135,206,250,0.07100662);\">s</span> <span style=\"background-color:rgba(135,206,250,0.07527879);\">a</span> <span style=\"background-color:rgba(135,206,250,0.11092494);\">bit</span> <span style=\"background-color:rgba(135,206,250,0.064958766);\">lean</span> <span style=\"background-color:rgba(135,206,250,0.14288689);\">,</span> <span style=\"background-color:rgba(135,206,250,0.20411488);\">but</span> <span style=\"background-color:rgba(135,206,250,0.32946604);\">the</span> <span style=\"background-color:rgba(135,206,250,1.0);\">finish</span> <span style=\"background-color:rgba(135,206,250,0.8040725);\">is</span> <span style=\"background-color:rgba(135,206,250,0.14345083);\">brisk</span>"
      ],
      "text/plain": [
       "<IPython.core.display.HTML object>"
      ]
     },
     "metadata": {},
     "output_type": "display_data"
    },
    {
     "name": "stdout",
     "output_type": "stream",
     "text": [
      "and:   \t85.38%\n",
      ",:   \t7.81%\n",
      ".:   \t6.08%\n",
      "with:   \t0.62%\n",
      "in:   \t0.07%\n",
      "--------\n",
      "\n"
     ]
    },
    {
     "data": {
      "text/html": [
       "<span style=\"background-color:rgba(135,206,250,0.041946046);\">wine</span> <span style=\"background-color:rgba(135,206,250,0.09862351);\">review</span> <span style=\"background-color:rgba(135,206,250,0.08307251);\">:</span> <span style=\"background-color:rgba(135,206,250,0.33721814);\">germany</span> <span style=\"background-color:rgba(135,206,250,0.087806396);\">:</span> <span style=\"background-color:rgba(135,206,250,0.15715949);\">mosel</span> <span style=\"background-color:rgba(135,206,250,0.051289942);\">:</span> <span style=\"background-color:rgba(135,206,250,0.24270114);\">riesling</span> <span style=\"background-color:rgba(135,206,250,0.07267674);\">:</span> <span style=\"background-color:rgba(135,206,250,0.026891662);\">a</span> <span style=\"background-color:rgba(135,206,250,0.07164747);\">light</span> <span style=\"background-color:rgba(135,206,250,0.030581512);\">,</span> <span style=\"background-color:rgba(135,206,250,0.046742097);\">delicate</span> <span style=\"background-color:rgba(135,206,250,0.017240597);\">style</span> <span style=\"background-color:rgba(135,206,250,0.01812207);\">of</span> <span style=\"background-color:rgba(135,206,250,0.0638733);\">riesling</span> <span style=\"background-color:rgba(135,206,250,0.024916416);\">,</span> <span style=\"background-color:rgba(135,206,250,0.057058826);\">with</span> <span style=\"background-color:rgba(135,206,250,0.017895088);\">a</span> <span style=\"background-color:rgba(135,206,250,0.10399491);\">shower</span> <span style=\"background-color:rgba(135,206,250,0.019023007);\">of</span> <span style=\"background-color:rgba(135,206,250,0.047476705);\">lemon</span> <span style=\"background-color:rgba(135,206,250,0.014793178);\">-</span> <span style=\"background-color:rgba(135,206,250,0.05924871);\">lime</span> <span style=\"background-color:rgba(135,206,250,0.08185053);\">acidity</span> <span style=\"background-color:rgba(135,206,250,0.032672316);\">,</span> <span style=\"background-color:rgba(135,206,250,0.051250566);\">mineral</span> <span style=\"background-color:rgba(135,206,250,0.036855318);\">,</span> <span style=\"background-color:rgba(135,206,250,0.05579823);\">dried</span> <span style=\"background-color:rgba(135,206,250,0.06718472);\">herb</span> <span style=\"background-color:rgba(135,206,250,0.050601665);\">and</span> <span style=\"background-color:rgba(135,206,250,0.06820729);\">mineral</span> <span style=\"background-color:rgba(135,206,250,0.12783885);\">tones</span> <span style=\"background-color:rgba(135,206,250,0.2160725);\">.</span> <span style=\"background-color:rgba(135,206,250,0.13480902);\">it</span> <span style=\"background-color:rgba(135,206,250,0.02197463);\">'</span> <span style=\"background-color:rgba(135,206,250,0.15592207);\">s</span> <span style=\"background-color:rgba(135,206,250,0.10064473);\">a</span> <span style=\"background-color:rgba(135,206,250,0.16394508);\">bit</span> <span style=\"background-color:rgba(135,206,250,0.2682338);\">lean</span> <span style=\"background-color:rgba(135,206,250,0.12118941);\">,</span> <span style=\"background-color:rgba(135,206,250,0.5001796);\">but</span> <span style=\"background-color:rgba(135,206,250,0.2872918);\">the</span> <span style=\"background-color:rgba(135,206,250,0.87267005);\">finish</span> <span style=\"background-color:rgba(135,206,250,0.9762389);\">is</span> <span style=\"background-color:rgba(135,206,250,1.0);\">brisk</span> <span style=\"background-color:rgba(135,206,250,0.59182805);\">,</span>"
      ],
      "text/plain": [
       "<IPython.core.display.HTML object>"
      ]
     },
     "metadata": {},
     "output_type": "display_data"
    },
    {
     "name": "stdout",
     "output_type": "stream",
     "text": [
      "with:   \t78.45%\n",
      "but:   \t6.89%\n",
      "clean:   \t5.47%\n",
      "and:   \t2.75%\n",
      "suggesting:   \t1.22%\n",
      "--------\n",
      "\n"
     ]
    },
    {
     "data": {
      "text/html": [
       "<span style=\"background-color:rgba(135,206,250,0.055704605);\">wine</span> <span style=\"background-color:rgba(135,206,250,0.10101517);\">review</span> <span style=\"background-color:rgba(135,206,250,0.14566244);\">:</span> <span style=\"background-color:rgba(135,206,250,0.4067348);\">germany</span> <span style=\"background-color:rgba(135,206,250,0.4598651);\">:</span> <span style=\"background-color:rgba(135,206,250,0.20335405);\">mosel</span> <span style=\"background-color:rgba(135,206,250,0.08683868);\">:</span> <span style=\"background-color:rgba(135,206,250,0.2820973);\">riesling</span> <span style=\"background-color:rgba(135,206,250,0.08610856);\">:</span> <span style=\"background-color:rgba(135,206,250,0.037437692);\">a</span> <span style=\"background-color:rgba(135,206,250,0.075489946);\">light</span> <span style=\"background-color:rgba(135,206,250,0.04081342);\">,</span> <span style=\"background-color:rgba(135,206,250,0.05714329);\">delicate</span> <span style=\"background-color:rgba(135,206,250,0.030427866);\">style</span> <span style=\"background-color:rgba(135,206,250,0.020740878);\">of</span> <span style=\"background-color:rgba(135,206,250,0.07628038);\">riesling</span> <span style=\"background-color:rgba(135,206,250,0.034130856);\">,</span> <span style=\"background-color:rgba(135,206,250,0.024073122);\">with</span> <span style=\"background-color:rgba(135,206,250,0.02555525);\">a</span> <span style=\"background-color:rgba(135,206,250,0.11449653);\">shower</span> <span style=\"background-color:rgba(135,206,250,0.020764647);\">of</span> <span style=\"background-color:rgba(135,206,250,0.071632795);\">lemon</span> <span style=\"background-color:rgba(135,206,250,0.019534603);\">-</span> <span style=\"background-color:rgba(135,206,250,0.07847222);\">lime</span> <span style=\"background-color:rgba(135,206,250,0.15320511);\">acidity</span> <span style=\"background-color:rgba(135,206,250,0.041466407);\">,</span> <span style=\"background-color:rgba(135,206,250,0.0928077);\">mineral</span> <span style=\"background-color:rgba(135,206,250,0.044194207);\">,</span> <span style=\"background-color:rgba(135,206,250,0.059841994);\">dried</span> <span style=\"background-color:rgba(135,206,250,0.08872561);\">herb</span> <span style=\"background-color:rgba(135,206,250,0.047908243);\">and</span> <span style=\"background-color:rgba(135,206,250,0.116546154);\">mineral</span> <span style=\"background-color:rgba(135,206,250,0.17980781);\">tones</span> <span style=\"background-color:rgba(135,206,250,0.15565223);\">.</span> <span style=\"background-color:rgba(135,206,250,0.06551182);\">it</span> <span style=\"background-color:rgba(135,206,250,0.029355653);\">'</span> <span style=\"background-color:rgba(135,206,250,0.08140107);\">s</span> <span style=\"background-color:rgba(135,206,250,0.09632857);\">a</span> <span style=\"background-color:rgba(135,206,250,0.091621436);\">bit</span> <span style=\"background-color:rgba(135,206,250,0.25668788);\">lean</span> <span style=\"background-color:rgba(135,206,250,0.1964139);\">,</span> <span style=\"background-color:rgba(135,206,250,0.366143);\">but</span> <span style=\"background-color:rgba(135,206,250,0.17320219);\">the</span> <span style=\"background-color:rgba(135,206,250,0.5205392);\">finish</span> <span style=\"background-color:rgba(135,206,250,0.25694785);\">is</span> <span style=\"background-color:rgba(135,206,250,1.0);\">brisk</span> <span style=\"background-color:rgba(135,206,250,0.79903704);\">,</span> <span style=\"background-color:rgba(135,206,250,0.44721225);\">with</span>"
      ],
      "text/plain": [
       "<IPython.core.display.HTML object>"
      ]
     },
     "metadata": {},
     "output_type": "display_data"
    },
    {
     "name": "stdout",
     "output_type": "stream",
     "text": [
      "a:   \t94.77%\n",
      "acidity:   \t0.82%\n",
      "bracing:   \t0.66%\n",
      "an:   \t0.49%\n",
      "zesty:   \t0.42%\n",
      "--------\n",
      "\n"
     ]
    },
    {
     "data": {
      "text/html": [
       "<span style=\"background-color:rgba(135,206,250,0.025718829);\">wine</span> <span style=\"background-color:rgba(135,206,250,0.04564613);\">review</span> <span style=\"background-color:rgba(135,206,250,0.074122824);\">:</span> <span style=\"background-color:rgba(135,206,250,0.21513869);\">germany</span> <span style=\"background-color:rgba(135,206,250,0.08353032);\">:</span> <span style=\"background-color:rgba(135,206,250,0.12207481);\">mosel</span> <span style=\"background-color:rgba(135,206,250,0.041319095);\">:</span> <span style=\"background-color:rgba(135,206,250,0.22740209);\">riesling</span> <span style=\"background-color:rgba(135,206,250,0.049996078);\">:</span> <span style=\"background-color:rgba(135,206,250,0.01860816);\">a</span> <span style=\"background-color:rgba(135,206,250,0.017878946);\">light</span> <span style=\"background-color:rgba(135,206,250,0.021451537);\">,</span> <span style=\"background-color:rgba(135,206,250,0.010556135);\">delicate</span> <span style=\"background-color:rgba(135,206,250,0.010267761);\">style</span> <span style=\"background-color:rgba(135,206,250,0.008085466);\">of</span> <span style=\"background-color:rgba(135,206,250,0.05037932);\">riesling</span> <span style=\"background-color:rgba(135,206,250,0.019243699);\">,</span> <span style=\"background-color:rgba(135,206,250,0.01178188);\">with</span> <span style=\"background-color:rgba(135,206,250,0.010153592);\">a</span> <span style=\"background-color:rgba(135,206,250,0.044459786);\">shower</span> <span style=\"background-color:rgba(135,206,250,0.0077281366);\">of</span> <span style=\"background-color:rgba(135,206,250,0.024294814);\">lemon</span> <span style=\"background-color:rgba(135,206,250,0.0065954975);\">-</span> <span style=\"background-color:rgba(135,206,250,0.025685847);\">lime</span> <span style=\"background-color:rgba(135,206,250,0.04255199);\">acidity</span> <span style=\"background-color:rgba(135,206,250,0.0228647);\">,</span> <span style=\"background-color:rgba(135,206,250,0.024254039);\">mineral</span> <span style=\"background-color:rgba(135,206,250,0.02288472);\">,</span> <span style=\"background-color:rgba(135,206,250,0.015578984);\">dried</span> <span style=\"background-color:rgba(135,206,250,0.027676234);\">herb</span> <span style=\"background-color:rgba(135,206,250,0.03201489);\">and</span> <span style=\"background-color:rgba(135,206,250,0.03181165);\">mineral</span> <span style=\"background-color:rgba(135,206,250,0.05336515);\">tones</span> <span style=\"background-color:rgba(135,206,250,0.07288938);\">.</span> <span style=\"background-color:rgba(135,206,250,0.031055253);\">it</span> <span style=\"background-color:rgba(135,206,250,0.013962045);\">'</span> <span style=\"background-color:rgba(135,206,250,0.048214838);\">s</span> <span style=\"background-color:rgba(135,206,250,0.03895337);\">a</span> <span style=\"background-color:rgba(135,206,250,0.05101393);\">bit</span> <span style=\"background-color:rgba(135,206,250,0.048425775);\">lean</span> <span style=\"background-color:rgba(135,206,250,0.0672666);\">,</span> <span style=\"background-color:rgba(135,206,250,0.086681664);\">but</span> <span style=\"background-color:rgba(135,206,250,0.11898574);\">the</span> <span style=\"background-color:rgba(135,206,250,0.3225098);\">finish</span> <span style=\"background-color:rgba(135,206,250,0.26060876);\">is</span> <span style=\"background-color:rgba(135,206,250,0.10261543);\">brisk</span> <span style=\"background-color:rgba(135,206,250,0.25893328);\">,</span> <span style=\"background-color:rgba(135,206,250,1.0);\">with</span> <span style=\"background-color:rgba(135,206,250,0.15737084);\">sour</span>"
      ],
      "text/plain": [
       "<IPython.core.display.HTML object>"
      ]
     },
     "metadata": {},
     "output_type": "display_data"
    },
    {
     "name": "stdout",
     "output_type": "stream",
     "text": [
      "lime:   \t36.18%\n",
      "lemon:   \t26.02%\n",
      "tangerine:   \t8.99%\n",
      "-:   \t6.16%\n",
      "orange:   \t6.08%\n",
      "--------\n",
      "\n"
     ]
    },
    {
     "data": {
      "text/html": [
       "<span style=\"background-color:rgba(135,206,250,0.06273027);\">wine</span> <span style=\"background-color:rgba(135,206,250,0.098119386);\">review</span> <span style=\"background-color:rgba(135,206,250,0.103203565);\">:</span> <span style=\"background-color:rgba(135,206,250,0.39681104);\">germany</span> <span style=\"background-color:rgba(135,206,250,0.25922048);\">:</span> <span style=\"background-color:rgba(135,206,250,0.1335451);\">mosel</span> <span style=\"background-color:rgba(135,206,250,0.086849295);\">:</span> <span style=\"background-color:rgba(135,206,250,0.11842173);\">riesling</span> <span style=\"background-color:rgba(135,206,250,0.07262625);\">:</span> <span style=\"background-color:rgba(135,206,250,0.030183746);\">a</span> <span style=\"background-color:rgba(135,206,250,0.049022626);\">light</span> <span style=\"background-color:rgba(135,206,250,0.039208684);\">,</span> <span style=\"background-color:rgba(135,206,250,0.039243694);\">delicate</span> <span style=\"background-color:rgba(135,206,250,0.023761127);\">style</span> <span style=\"background-color:rgba(135,206,250,0.028535813);\">of</span> <span style=\"background-color:rgba(135,206,250,0.054626886);\">riesling</span> <span style=\"background-color:rgba(135,206,250,0.035585273);\">,</span> <span style=\"background-color:rgba(135,206,250,0.048146613);\">with</span> <span style=\"background-color:rgba(135,206,250,0.026902182);\">a</span> <span style=\"background-color:rgba(135,206,250,0.113203175);\">shower</span> <span style=\"background-color:rgba(135,206,250,0.026456237);\">of</span> <span style=\"background-color:rgba(135,206,250,0.035674423);\">lemon</span> <span style=\"background-color:rgba(135,206,250,0.021001685);\">-</span> <span style=\"background-color:rgba(135,206,250,0.03804527);\">lime</span> <span style=\"background-color:rgba(135,206,250,0.08922404);\">acidity</span> <span style=\"background-color:rgba(135,206,250,0.042481694);\">,</span> <span style=\"background-color:rgba(135,206,250,0.04976438);\">mineral</span> <span style=\"background-color:rgba(135,206,250,0.044067457);\">,</span> <span style=\"background-color:rgba(135,206,250,0.04623954);\">dried</span> <span style=\"background-color:rgba(135,206,250,0.059273545);\">herb</span> <span style=\"background-color:rgba(135,206,250,0.043734975);\">and</span> <span style=\"background-color:rgba(135,206,250,0.06574612);\">mineral</span> <span style=\"background-color:rgba(135,206,250,0.15284826);\">tones</span> <span style=\"background-color:rgba(135,206,250,0.16740145);\">.</span> <span style=\"background-color:rgba(135,206,250,0.06866699);\">it</span> <span style=\"background-color:rgba(135,206,250,0.029843364);\">'</span> <span style=\"background-color:rgba(135,206,250,0.11387101);\">s</span> <span style=\"background-color:rgba(135,206,250,0.10217025);\">a</span> <span style=\"background-color:rgba(135,206,250,0.13370597);\">bit</span> <span style=\"background-color:rgba(135,206,250,0.1436384);\">lean</span> <span style=\"background-color:rgba(135,206,250,0.15238295);\">,</span> <span style=\"background-color:rgba(135,206,250,0.25829786);\">but</span> <span style=\"background-color:rgba(135,206,250,0.24405985);\">the</span> <span style=\"background-color:rgba(135,206,250,0.66612893);\">finish</span> <span style=\"background-color:rgba(135,206,250,0.35803342);\">is</span> <span style=\"background-color:rgba(135,206,250,0.34356967);\">brisk</span> <span style=\"background-color:rgba(135,206,250,0.49046475);\">,</span> <span style=\"background-color:rgba(135,206,250,1.0);\">with</span> <span style=\"background-color:rgba(135,206,250,0.9787525);\">sour</span> <span style=\"background-color:rgba(135,206,250,0.33624572);\">lemon</span>"
      ],
      "text/plain": [
       "<IPython.core.display.HTML object>"
      ]
     },
     "metadata": {},
     "output_type": "display_data"
    },
    {
     "name": "stdout",
     "output_type": "stream",
     "text": [
      "and:   \t78.64%\n",
      "acidity:   \t6.86%\n",
      ",:   \t6.59%\n",
      "-:   \t6.19%\n",
      "zest:   \t0.75%\n",
      "--------\n",
      "\n"
     ]
    },
    {
     "data": {
      "text/html": [
       "<span style=\"background-color:rgba(135,206,250,0.033216078);\">wine</span> <span style=\"background-color:rgba(135,206,250,0.07053594);\">review</span> <span style=\"background-color:rgba(135,206,250,0.0731416);\">:</span> <span style=\"background-color:rgba(135,206,250,0.1940076);\">germany</span> <span style=\"background-color:rgba(135,206,250,0.15729228);\">:</span> <span style=\"background-color:rgba(135,206,250,0.067632645);\">mosel</span> <span style=\"background-color:rgba(135,206,250,0.04657897);\">:</span> <span style=\"background-color:rgba(135,206,250,0.08115771);\">riesling</span> <span style=\"background-color:rgba(135,206,250,0.04934613);\">:</span> <span style=\"background-color:rgba(135,206,250,0.016731832);\">a</span> <span style=\"background-color:rgba(135,206,250,0.018971898);\">light</span> <span style=\"background-color:rgba(135,206,250,0.02060784);\">,</span> <span style=\"background-color:rgba(135,206,250,0.014774621);\">delicate</span> <span style=\"background-color:rgba(135,206,250,0.009101393);\">style</span> <span style=\"background-color:rgba(135,206,250,0.015302098);\">of</span> <span style=\"background-color:rgba(135,206,250,0.038537838);\">riesling</span> <span style=\"background-color:rgba(135,206,250,0.018011093);\">,</span> <span style=\"background-color:rgba(135,206,250,0.053280342);\">with</span> <span style=\"background-color:rgba(135,206,250,0.012584266);\">a</span> <span style=\"background-color:rgba(135,206,250,0.06583658);\">shower</span> <span style=\"background-color:rgba(135,206,250,0.015538517);\">of</span> <span style=\"background-color:rgba(135,206,250,0.019741677);\">lemon</span> <span style=\"background-color:rgba(135,206,250,0.014067423);\">-</span> <span style=\"background-color:rgba(135,206,250,0.020605244);\">lime</span> <span style=\"background-color:rgba(135,206,250,0.024857014);\">acidity</span> <span style=\"background-color:rgba(135,206,250,0.02568999);\">,</span> <span style=\"background-color:rgba(135,206,250,0.018306855);\">mineral</span> <span style=\"background-color:rgba(135,206,250,0.028364722);\">,</span> <span style=\"background-color:rgba(135,206,250,0.021979371);\">dried</span> <span style=\"background-color:rgba(135,206,250,0.03125086);\">herb</span> <span style=\"background-color:rgba(135,206,250,0.034685604);\">and</span> <span style=\"background-color:rgba(135,206,250,0.025302118);\">mineral</span> <span style=\"background-color:rgba(135,206,250,0.08412964);\">tones</span> <span style=\"background-color:rgba(135,206,250,0.15787482);\">.</span> <span style=\"background-color:rgba(135,206,250,0.10551275);\">it</span> <span style=\"background-color:rgba(135,206,250,0.022553204);\">'</span> <span style=\"background-color:rgba(135,206,250,0.08925843);\">s</span> <span style=\"background-color:rgba(135,206,250,0.06031602);\">a</span> <span style=\"background-color:rgba(135,206,250,0.0693473);\">bit</span> <span style=\"background-color:rgba(135,206,250,0.076173134);\">lean</span> <span style=\"background-color:rgba(135,206,250,0.12925856);\">,</span> <span style=\"background-color:rgba(135,206,250,0.20653035);\">but</span> <span style=\"background-color:rgba(135,206,250,0.1944994);\">the</span> <span style=\"background-color:rgba(135,206,250,0.3771942);\">finish</span> <span style=\"background-color:rgba(135,206,250,0.35529712);\">is</span> <span style=\"background-color:rgba(135,206,250,0.12077556);\">brisk</span> <span style=\"background-color:rgba(135,206,250,0.4224277);\">,</span> <span style=\"background-color:rgba(135,206,250,1.0);\">with</span> <span style=\"background-color:rgba(135,206,250,0.42809924);\">sour</span> <span style=\"background-color:rgba(135,206,250,0.29735625);\">lemon</span> <span style=\"background-color:rgba(135,206,250,0.3980146);\">acidity</span>"
      ],
      "text/plain": [
       "<IPython.core.display.HTML object>"
      ]
     },
     "metadata": {},
     "output_type": "display_data"
    },
    {
     "name": "stdout",
     "output_type": "stream",
     "text": [
      ".:   \t62.63%\n",
      "and:   \t36.32%\n",
      "that:   \t0.85%\n",
      ",:   \t0.16%\n",
      "to:   \t0.01%\n",
      "--------\n",
      "\n"
     ]
    },
    {
     "data": {
      "text/html": [
       "<span style=\"background-color:rgba(135,206,250,0.06274307);\">wine</span> <span style=\"background-color:rgba(135,206,250,0.1813267);\">review</span> <span style=\"background-color:rgba(135,206,250,0.39386073);\">:</span> <span style=\"background-color:rgba(135,206,250,1.0);\">germany</span> <span style=\"background-color:rgba(135,206,250,0.98621154);\">:</span> <span style=\"background-color:rgba(135,206,250,0.31545156);\">mosel</span> <span style=\"background-color:rgba(135,206,250,0.3414423);\">:</span> <span style=\"background-color:rgba(135,206,250,0.4713009);\">riesling</span> <span style=\"background-color:rgba(135,206,250,0.1704089);\">:</span> <span style=\"background-color:rgba(135,206,250,0.047657013);\">a</span> <span style=\"background-color:rgba(135,206,250,0.081751466);\">light</span> <span style=\"background-color:rgba(135,206,250,0.058512993);\">,</span> <span style=\"background-color:rgba(135,206,250,0.054119147);\">delicate</span> <span style=\"background-color:rgba(135,206,250,0.027606195);\">style</span> <span style=\"background-color:rgba(135,206,250,0.026200676);\">of</span> <span style=\"background-color:rgba(135,206,250,0.10200728);\">riesling</span> <span style=\"background-color:rgba(135,206,250,0.041525304);\">,</span> <span style=\"background-color:rgba(135,206,250,0.054754946);\">with</span> <span style=\"background-color:rgba(135,206,250,0.02826629);\">a</span> <span style=\"background-color:rgba(135,206,250,0.1492292);\">shower</span> <span style=\"background-color:rgba(135,206,250,0.023949489);\">of</span> <span style=\"background-color:rgba(135,206,250,0.06452808);\">lemon</span> <span style=\"background-color:rgba(135,206,250,0.023299221);\">-</span> <span style=\"background-color:rgba(135,206,250,0.07242942);\">lime</span> <span style=\"background-color:rgba(135,206,250,0.102473706);\">acidity</span> <span style=\"background-color:rgba(135,206,250,0.04641348);\">,</span> <span style=\"background-color:rgba(135,206,250,0.062538214);\">mineral</span> <span style=\"background-color:rgba(135,206,250,0.047504142);\">,</span> <span style=\"background-color:rgba(135,206,250,0.045831136);\">dried</span> <span style=\"background-color:rgba(135,206,250,0.06948971);\">herb</span> <span style=\"background-color:rgba(135,206,250,0.047426812);\">and</span> <span style=\"background-color:rgba(135,206,250,0.07579814);\">mineral</span> <span style=\"background-color:rgba(135,206,250,0.15783972);\">tones</span> <span style=\"background-color:rgba(135,206,250,0.135941);\">.</span> <span style=\"background-color:rgba(135,206,250,0.080463395);\">it</span> <span style=\"background-color:rgba(135,206,250,0.026453877);\">'</span> <span style=\"background-color:rgba(135,206,250,0.075702116);\">s</span> <span style=\"background-color:rgba(135,206,250,0.057240125);\">a</span> <span style=\"background-color:rgba(135,206,250,0.09993169);\">bit</span> <span style=\"background-color:rgba(135,206,250,0.15565257);\">lean</span> <span style=\"background-color:rgba(135,206,250,0.11156355);\">,</span> <span style=\"background-color:rgba(135,206,250,0.13139258);\">but</span> <span style=\"background-color:rgba(135,206,250,0.08346526);\">the</span> <span style=\"background-color:rgba(135,206,250,0.54061556);\">finish</span> <span style=\"background-color:rgba(135,206,250,0.16779695);\">is</span> <span style=\"background-color:rgba(135,206,250,0.12047881);\">brisk</span> <span style=\"background-color:rgba(135,206,250,0.2541137);\">,</span> <span style=\"background-color:rgba(135,206,250,0.37732083);\">with</span> <span style=\"background-color:rgba(135,206,250,0.3601254);\">sour</span> <span style=\"background-color:rgba(135,206,250,0.3045508);\">lemon</span> <span style=\"background-color:rgba(135,206,250,0.5648777);\">acidity</span> <span style=\"background-color:rgba(135,206,250,0.6366154);\">.</span>"
      ],
      "text/plain": [
       "<IPython.core.display.HTML object>"
      ]
     },
     "metadata": {},
     "output_type": "display_data"
    },
    {
     "name": "stdout",
     "output_type": "stream",
     "text": [
      ":   \t98.59%\n",
      "drink:   \t1.1%\n",
      "it:   \t0.21%\n",
      "a:   \t0.06%\n",
      "the:   \t0.02%\n",
      "--------\n",
      "\n"
     ]
    }
   ],
   "source": [
    "info = text_generator.generate(\n",
    "    \"wine review : germany\", max_tokens=80, temperature=0.5\n",
    ")\n",
    "print_probs(info, vocab)"
   ]
  },
  {
   "cell_type": "code",
   "execution_count": null,
   "id": "fcc7a7c0-6c64-47d3-acee-96e48f025e01",
   "metadata": {},
   "outputs": [],
   "source": []
  },
  {
   "cell_type": "code",
   "execution_count": null,
   "id": "4122154c-9e41-44ba-8c5f-fe88a55fe977",
   "metadata": {},
   "outputs": [],
   "source": []
  }
 ],
 "metadata": {
  "kernelspec": {
   "display_name": "Python 3 (ipykernel)",
   "language": "python",
   "name": "python3"
  },
  "language_info": {
   "codemirror_mode": {
    "name": "ipython",
    "version": 3
   },
   "file_extension": ".py",
   "mimetype": "text/x-python",
   "name": "python",
   "nbconvert_exporter": "python",
   "pygments_lexer": "ipython3",
   "version": "3.8.19"
  },
  "vscode": {
   "interpreter": {
    "hash": "31f2aee4e71d21fbe5cf8b01ff0e069b9275f58929596ceb00d14d90e3e16cd6"
   }
  }
 },
 "nbformat": 4,
 "nbformat_minor": 5
}
