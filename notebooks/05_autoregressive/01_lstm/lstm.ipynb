{
 "cells": [
  {
   "cell_type": "markdown",
   "id": "b076bd1a-b236-4fbc-953d-8295b25122ae",
   "metadata": {},
   "source": [
    "# 🥙 LSTM on Recipe Data"
   ]
  },
  {
   "cell_type": "markdown",
   "id": "658a95da-9645-4bcf-bd9d-4b95a4b6f582",
   "metadata": {},
   "source": [
    "In this notebook, we'll walk through the steps required to train your own LSTM on the recipes dataset"
   ]
  },
  {
   "cell_type": "code",
   "execution_count": 1,
   "id": "4e0d56cc-4773-4029-97d8-26f882ba79c9",
   "metadata": {},
   "outputs": [],
   "source": [
    "%load_ext autoreload\n",
    "%autoreload 2\n",
    "\n",
    "import numpy as np\n",
    "import json\n",
    "import re\n",
    "import string\n",
    "\n",
    "import tensorflow as tf\n",
    "from tensorflow.keras import layers, models, callbacks, losses"
   ]
  },
  {
   "cell_type": "markdown",
   "id": "339e6268-ebd7-4feb-86db-1fe7abccdbe5",
   "metadata": {},
   "source": [
    "## 0. Parameters <a name=\"parameters\"></a>"
   ]
  },
  {
   "cell_type": "code",
   "execution_count": 2,
   "id": "2d8352af-343e-4c2e-8c91-95f8bac1c8a1",
   "metadata": {},
   "outputs": [],
   "source": [
    "VOCAB_SIZE = 10000\n",
    "MAX_LEN = 200\n",
    "EMBEDDING_DIM = 100\n",
    "N_UNITS = 128\n",
    "VALIDATION_SPLIT = 0.2\n",
    "SEED = 42\n",
    "LOAD_MODEL = False\n",
    "BATCH_SIZE = 32\n",
    "EPOCHS = 25"
   ]
  },
  {
   "cell_type": "markdown",
   "id": "b7716fac-0010-49b0-b98e-53be2259edde",
   "metadata": {},
   "source": [
    "## 1. Load the data <a name=\"load\"></a>"
   ]
  },
  {
   "cell_type": "code",
   "execution_count": 3,
   "id": "93cf6b0f-9667-4146-8911-763a8a2925d3",
   "metadata": {
    "tags": []
   },
   "outputs": [],
   "source": [
    "# Load the full dataset\n",
    "with open(\"..\\\\..\\\\..\\\\data\\\\epirecipes\\\\full_format_recipes.json\", encoding='utf-8',  errors='ignore') as json_data:\n",
    "    recipe_data = json.load(json_data)"
   ]
  },
  {
   "cell_type": "code",
   "execution_count": 4,
   "id": "e9f1c48b-b2ff-4691-949a-23ac3c7c61de",
   "metadata": {},
   "outputs": [
    {
     "data": {
      "text/plain": [
       "{'directions': ['1. Place the stock, lentils, celery, carrot, thyme, and salt in a medium saucepan and bring to a boil. Reduce heat to low and simmer until the lentils are tender, about 30 minutes, depending on the lentils. (If they begin to dry out, add water as needed.) Remove and discard the thyme. Drain and transfer the mixture to a bowl; let cool.',\n",
       "  '2. Fold in the tomato, apple, lemon juice, and olive oil. Season with the pepper.',\n",
       "  '3. To assemble a wrap, place 1 lavash sheet on a clean work surface. Spread some of the lentil mixture on the end nearest you, leaving a 1-inch border. Top with several slices of turkey, then some of the lettuce. Roll up the lavash, slice crosswise, and serve. If using tortillas, spread the lentils in the center, top with the turkey and lettuce, and fold up the bottom, left side, and right side before rolling away from you.'],\n",
       " 'fat': 7.0,\n",
       " 'date': '2006-09-01T04:00:00.000Z',\n",
       " 'categories': ['Sandwich',\n",
       "  'Bean',\n",
       "  'Fruit',\n",
       "  'Tomato',\n",
       "  'turkey',\n",
       "  'Vegetable',\n",
       "  'Kid-Friendly',\n",
       "  'Apple',\n",
       "  'Lentil',\n",
       "  'Lettuce',\n",
       "  'Cookie'],\n",
       " 'calories': 426.0,\n",
       " 'desc': None,\n",
       " 'protein': 30.0,\n",
       " 'rating': 2.5,\n",
       " 'title': 'Lentil, Apple, and Turkey Wrap ',\n",
       " 'ingredients': ['4 cups low-sodium vegetable or chicken stock',\n",
       "  '1 cup dried brown lentils',\n",
       "  '1/2 cup dried French green lentils',\n",
       "  '2 stalks celery, chopped',\n",
       "  '1 large carrot, peeled and chopped',\n",
       "  '1 sprig fresh thyme',\n",
       "  '1 teaspoon kosher salt',\n",
       "  '1 medium tomato, cored, seeded, and diced',\n",
       "  '1 small Fuji apple, cored and diced',\n",
       "  '1 tablespoon freshly squeezed lemon juice',\n",
       "  '2 teaspoons extra-virgin olive oil',\n",
       "  'Freshly ground black pepper to taste',\n",
       "  '3 sheets whole-wheat lavash, cut in half crosswise, or 6 (12-inch) flour tortillas',\n",
       "  '3/4 pound turkey breast, thinly sliced',\n",
       "  '1/2 head Bibb lettuce'],\n",
       " 'sodium': 559.0}"
      ]
     },
     "execution_count": 4,
     "metadata": {},
     "output_type": "execute_result"
    }
   ],
   "source": [
    "recipe_data[0]"
   ]
  },
  {
   "cell_type": "code",
   "execution_count": 5,
   "id": "23a74eca-f1b7-4a46-9a1f-b5806a4ed361",
   "metadata": {
    "tags": []
   },
   "outputs": [],
   "source": [
    "# Filter the dataset\n",
    "filtered_data = [\n",
    "    \"Recipe for \" + x[\"title\"] + \" | \" + \" \".join(x[\"directions\"])\n",
    "    for x in recipe_data\n",
    "    if \"title\" in x\n",
    "    and x[\"title\"] is not None\n",
    "    and \"directions\" in x\n",
    "    and x[\"directions\"] is not None\n",
    "]"
   ]
  },
  {
   "cell_type": "code",
   "execution_count": 6,
   "id": "389c20de-0422-4c48-a7b4-6ee12a7bf0e2",
   "metadata": {
    "tags": []
   },
   "outputs": [
    {
     "name": "stdout",
     "output_type": "stream",
     "text": [
      "20111 recipes loaded\n"
     ]
    }
   ],
   "source": [
    "# Count the recipes\n",
    "n_recipes = len(filtered_data)\n",
    "print(f\"{n_recipes} recipes loaded\")"
   ]
  },
  {
   "cell_type": "code",
   "execution_count": 7,
   "id": "1b2e3cf7-e416-460e-874a-0dd9637bca36",
   "metadata": {},
   "outputs": [
    {
     "name": "stdout",
     "output_type": "stream",
     "text": [
      "Recipe for Lentil, Apple, and Turkey Wrap  | 1. Place the stock, lentils, celery, carrot, thyme, and salt in a medium saucepan and bring to a boil. Reduce heat to low and simmer until the lentils are tender, about 30 minutes, depending on the lentils. (If they begin to dry out, add water as needed.) Remove and discard the thyme. Drain and transfer the mixture to a bowl; let cool. 2. Fold in the tomato, apple, lemon juice, and olive oil. Season with the pepper. 3. To assemble a wrap, place 1 lavash sheet on a clean work surface. Spread some of the lentil mixture on the end nearest you, leaving a 1-inch border. Top with several slices of turkey, then some of the lettuce. Roll up the lavash, slice crosswise, and serve. If using tortillas, spread the lentils in the center, top with the turkey and lettuce, and fold up the bottom, left side, and right side before rolling away from you.\n"
     ]
    }
   ],
   "source": [
    "example = filtered_data[0]\n",
    "print(example)"
   ]
  },
  {
   "cell_type": "markdown",
   "id": "3f871aaf-d873-41c7-8946-e4eef7ac17c1",
   "metadata": {},
   "source": [
    "## 2. Tokenise the data"
   ]
  },
  {
   "cell_type": "code",
   "execution_count": 8,
   "id": "5b2064fb-5dcc-4657-b470-0928d10e2ddc",
   "metadata": {
    "tags": []
   },
   "outputs": [],
   "source": [
    "# Pad the punctuation, to treat them as separate 'words'\n",
    "def pad_punctuation(s):\n",
    "    s = re.sub(f\"([{string.punctuation}])\", r\" \\1 \", s)\n",
    "    s = re.sub(\" +\", \" \", s)\n",
    "    return s\n",
    "\n",
    "\n",
    "text_data = [pad_punctuation(x) for x in filtered_data]"
   ]
  },
  {
   "cell_type": "code",
   "execution_count": 9,
   "id": "b87d7c65-9a46-492a-a5c0-a043b0d252f3",
   "metadata": {},
   "outputs": [
    {
     "data": {
      "text/plain": [
       "'Recipe for Lentil , Apple , and Turkey Wrap | 1 . Place the stock , lentils , celery , carrot , thyme , and salt in a medium saucepan and bring to a boil . Reduce heat to low and simmer until the lentils are tender , about 30 minutes , depending on the lentils . ( If they begin to dry out , add water as needed . ) Remove and discard the thyme . Drain and transfer the mixture to a bowl ; let cool . 2 . Fold in the tomato , apple , lemon juice , and olive oil . Season with the pepper . 3 . To assemble a wrap , place 1 lavash sheet on a clean work surface . Spread some of the lentil mixture on the end nearest you , leaving a 1 - inch border . Top with several slices of turkey , then some of the lettuce . Roll up the lavash , slice crosswise , and serve . If using tortillas , spread the lentils in the center , top with the turkey and lettuce , and fold up the bottom , left side , and right side before rolling away from you . '"
      ]
     },
     "execution_count": 9,
     "metadata": {},
     "output_type": "execute_result"
    }
   ],
   "source": [
    "# Display an example of a recipe\n",
    "example_data = text_data[0]\n",
    "example_data"
   ]
  },
  {
   "cell_type": "code",
   "execution_count": 10,
   "id": "9834f916-b21a-4104-acc9-f28d3bd7a8c1",
   "metadata": {
    "tags": []
   },
   "outputs": [],
   "source": [
    "# Convert to a Tensorflow Dataset\n",
    "text_ds = (\n",
    "    tf.data.Dataset.from_tensor_slices(text_data)\n",
    "    .batch(BATCH_SIZE)\n",
    "    .shuffle(1000)\n",
    ")"
   ]
  },
  {
   "cell_type": "code",
   "execution_count": 11,
   "id": "884c0bcb-0807-45a1-8f7e-a32f2c6fa4de",
   "metadata": {},
   "outputs": [],
   "source": [
    "# Create a vectorisation layer\n",
    "vectorize_layer = layers.TextVectorization(\n",
    "    standardize=\"lower\",\n",
    "    max_tokens=VOCAB_SIZE,\n",
    "    output_mode=\"int\",\n",
    "    output_sequence_length=MAX_LEN + 1,\n",
    ")"
   ]
  },
  {
   "cell_type": "code",
   "execution_count": 12,
   "id": "4d6dd34a-d905-497b-926a-405380ebcf98",
   "metadata": {},
   "outputs": [],
   "source": [
    "# Adapt the layer to the training set\n",
    "vectorize_layer.adapt(text_ds)\n",
    "vocab = vectorize_layer.get_vocabulary()"
   ]
  },
  {
   "cell_type": "code",
   "execution_count": 13,
   "id": "f6c1c7ce-3cf0-40d4-a3dc-ab7090f69f2f",
   "metadata": {},
   "outputs": [
    {
     "name": "stdout",
     "output_type": "stream",
     "text": [
      "0: \n",
      "1: [UNK]\n",
      "2: .\n",
      "3: ,\n",
      "4: and\n",
      "5: to\n",
      "6: in\n",
      "7: the\n",
      "8: with\n",
      "9: a\n"
     ]
    }
   ],
   "source": [
    "# Display some token:word mappings\n",
    "for i, word in enumerate(vocab[:10]):\n",
    "    print(f\"{i}: {word}\")"
   ]
  },
  {
   "cell_type": "code",
   "execution_count": 14,
   "id": "1cc30186-7ec6-4eb6-b29a-65df6714d321",
   "metadata": {},
   "outputs": [
    {
     "name": "stdout",
     "output_type": "stream",
     "text": [
      "[  26   16 1733    3  428    3    4  221  212   27   11    2   64    7\n",
      "  300    3  924    3  353    3  576    3  307    3    4   24    6    9\n",
      "   29   80    4   84    5    9   69    2  153   17    5  134    4   70\n",
      "   10    7  924   79   85    3   19  126   12    3 1135   28    7  924\n",
      "    2   34   92  316  601    5  162  124    3   18   39  151  542    2\n",
      "   35   71    4  206    7  307    2  120    4   40    7   31    5    9\n",
      "   21   22   67   60    2   15    2  255    6    7  265    3  428    3\n",
      "  109  104    3    4  252   37    2   63    8    7   33    2   36    2\n",
      "    5 1567    9  212    3   64   11 2863  105   28    9  370  387  207\n",
      "    2  166  256   14    7 1733   31   28    7  613 1908  215    3  447\n",
      "    9   11   13   53  813    2   72    8  688  160   14  221    3   46\n",
      "  256   14    7  711    2  263   99    7 2863    3  284  446    3    4\n",
      "   68    2   92   87  704    3  166    7  924    6    7  168    3   72\n",
      "    8    7  221    4  711    3    4  255   99    7  169    3 1286   96\n",
      "    3    4 1072   96  165]\n"
     ]
    }
   ],
   "source": [
    "# Display the same example converted to ints\n",
    "example_tokenised = vectorize_layer(example_data)\n",
    "print(example_tokenised.numpy())"
   ]
  },
  {
   "cell_type": "markdown",
   "id": "8c195efb-84c6-4be0-a989-a7542188ad35",
   "metadata": {},
   "source": [
    "## 3. Create the Training Set"
   ]
  },
  {
   "cell_type": "code",
   "execution_count": 15,
   "id": "740294a1-1a6b-4c89-92f2-036d7d1b788b",
   "metadata": {},
   "outputs": [],
   "source": [
    "# Create the training set of recipes and the same text shifted by one word\n",
    "def prepare_inputs(text):\n",
    "    text = tf.expand_dims(text, -1)\n",
    "    tokenized_sentences = vectorize_layer(text)\n",
    "    x = tokenized_sentences[:, :-1]\n",
    "    y = tokenized_sentences[:, 1:]\n",
    "    return x, y\n",
    "\n",
    "\n",
    "train_ds = text_ds.map(prepare_inputs)"
   ]
  },
  {
   "cell_type": "markdown",
   "id": "aff50401-3abe-4c10-bba8-b35bc13ad7d5",
   "metadata": {
    "tags": []
   },
   "source": [
    "## 4. Build the LSTM <a name=\"build\"></a>"
   ]
  },
  {
   "cell_type": "code",
   "execution_count": 16,
   "id": "9230b5bf-b4a8-48d5-b73b-6899a598f296",
   "metadata": {},
   "outputs": [
    {
     "name": "stdout",
     "output_type": "stream",
     "text": [
      "Model: \"model\"\n",
      "_________________________________________________________________\n",
      " Layer (type)                Output Shape              Param #   \n",
      "=================================================================\n",
      " input_1 (InputLayer)        [(None, None)]            0         \n",
      "                                                                 \n",
      " embedding (Embedding)       (None, None, 100)         1000000   \n",
      "                                                                 \n",
      " lstm (LSTM)                 (None, None, 128)         117248    \n",
      "                                                                 \n",
      " dense (Dense)               (None, None, 10000)       1290000   \n",
      "                                                                 \n",
      "=================================================================\n",
      "Total params: 2,407,248\n",
      "Trainable params: 2,407,248\n",
      "Non-trainable params: 0\n",
      "_________________________________________________________________\n"
     ]
    }
   ],
   "source": [
    "inputs = layers.Input(shape=(None,), dtype=\"int32\")\n",
    "x = layers.Embedding(VOCAB_SIZE, EMBEDDING_DIM)(inputs)\n",
    "x = layers.LSTM(N_UNITS, return_sequences=True)(x)\n",
    "outputs = layers.Dense(VOCAB_SIZE, activation=\"softmax\")(x)\n",
    "lstm = models.Model(inputs, outputs)\n",
    "lstm.summary()"
   ]
  },
  {
   "cell_type": "code",
   "execution_count": 17,
   "id": "800a3c6e-fb11-4792-b6bc-9a43a7c977ad",
   "metadata": {
    "tags": []
   },
   "outputs": [],
   "source": [
    "if LOAD_MODEL:\n",
    "    # model.load_weights('./models/model')\n",
    "    lstm = models.load_model(\"./models/lstm\", compile=False)"
   ]
  },
  {
   "cell_type": "markdown",
   "id": "35b14665-4359-447b-be58-3fd58ba69084",
   "metadata": {},
   "source": [
    "## 5. Train the LSTM <a name=\"train\"></a>"
   ]
  },
  {
   "cell_type": "code",
   "execution_count": 18,
   "id": "ffb1bd3b-6fd9-4536-973e-6375bbcbf16d",
   "metadata": {},
   "outputs": [],
   "source": [
    "loss_fn = losses.SparseCategoricalCrossentropy()\n",
    "lstm.compile(\"adam\", loss_fn)"
   ]
  },
  {
   "cell_type": "code",
   "execution_count": 19,
   "id": "3ddcff5f-829d-4449-99d2-9a3cb68f7d72",
   "metadata": {},
   "outputs": [],
   "source": [
    "# Create a TextGenerator checkpoint\n",
    "class TextGenerator(callbacks.Callback):\n",
    "    def __init__(self, index_to_word, top_k=10):\n",
    "        self.index_to_word = index_to_word\n",
    "        self.word_to_index = {\n",
    "            word: index for index, word in enumerate(index_to_word)\n",
    "        }  # <1>\n",
    "\n",
    "    def sample_from(self, probs, temperature):  # <2>\n",
    "        probs = probs ** (1 / temperature)\n",
    "        probs = probs / np.sum(probs)\n",
    "        return np.random.choice(len(probs), p=probs), probs\n",
    "\n",
    "    def generate(self, start_prompt, max_tokens, temperature):\n",
    "        start_tokens = [\n",
    "            self.word_to_index.get(x, 1) for x in start_prompt.split()\n",
    "        ]  # <3>\n",
    "        sample_token = None\n",
    "        info = []\n",
    "        while len(start_tokens) < max_tokens and sample_token != 0:  # <4>\n",
    "            x = np.array([start_tokens])\n",
    "            y = self.model.predict(x, verbose=0)  # <5>\n",
    "            sample_token, probs = self.sample_from(y[0][-1], temperature)  # <6>\n",
    "            info.append({\"prompt\": start_prompt, \"word_probs\": probs})\n",
    "            start_tokens.append(sample_token)  # <7>\n",
    "            start_prompt = start_prompt + \" \" + self.index_to_word[sample_token]\n",
    "        print(f\"\\ngenerated text:\\n{start_prompt}\\n\")\n",
    "        return info\n",
    "\n",
    "    def on_epoch_end(self, epoch, logs=None):\n",
    "        self.generate(\"recipe for\", max_tokens=100, temperature=1.0)"
   ]
  },
  {
   "cell_type": "code",
   "execution_count": 20,
   "id": "349865fe-ffbe-450e-97be-043ae1740e78",
   "metadata": {},
   "outputs": [],
   "source": [
    "# Create a model save checkpoint\n",
    "model_checkpoint_callback = callbacks.ModelCheckpoint(\n",
    "    filepath=\"./checkpoint/checkpoint.ckpt\",\n",
    "    save_weights_only=True,\n",
    "    save_freq=\"epoch\",\n",
    "    verbose=0,\n",
    ")\n",
    "\n",
    "tensorboard_callback = callbacks.TensorBoard(log_dir=\"./logs\")\n",
    "\n",
    "# Tokenize starting prompt\n",
    "text_generator = TextGenerator(vocab)"
   ]
  },
  {
   "cell_type": "code",
   "execution_count": 21,
   "id": "461c2b3e-b5ae-4def-8bd9-e7bab8c63d8e",
   "metadata": {
    "tags": []
   },
   "outputs": [
    {
     "name": "stdout",
     "output_type": "stream",
     "text": [
      "Epoch 1/25\n",
      "628/629 [============================>.] - ETA: 0s - loss: 4.4237\n",
      "generated text:\n",
      "recipe for tarts glass steamed the covered | food set in ready from covered , large 2 mango in cover it to next hour with serve on sundaes with high , 1 and whisk . stir . chiles until chilled rice to a bowls . size , chicken , pan , 5 heat in medium do lifted and add saucepan until high and baking nonstick vibrantly tent with coat ; pepper . \n",
      "\n",
      "629/629 [==============================] - 18s 21ms/step - loss: 4.4224\n",
      "Epoch 2/25\n",
      "629/629 [==============================] - ETA: 0s - loss: 3.0769\n",
      "generated text:\n",
      "recipe for pepper chicken with dill | cook garlic in large bowl and cook seconds . roll potatoes into cheesecloth ( ( do not needed with kept 2 minutes and beat in a bowl , and chop . whisk 1 powder in boiling water until going with batches from 1 / 4 - quart heavy large pot over low heat until slightly , then lay pan into a pitcher in 10 minutes . place yams and let stand 5 minutes . turn markets without then then let stand 30 minutes . fold and onion to a deep bowl . do\n",
      "\n",
      "629/629 [==============================] - 14s 22ms/step - loss: 3.0769\n",
      "Epoch 3/25\n",
      "628/629 [============================>.] - ETA: 0s - loss: 2.5209\n",
      "generated text:\n",
      "recipe for rice and bean chicken with dill in country greque | cook noodle into 2 / 4 - inch , 3 . morels over medium heat , stirring until just heat , about 1 minute . return to pot ; \n",
      "\n",
      "629/629 [==============================] - 12s 20ms/step - loss: 2.5201\n",
      "Epoch 4/25\n",
      "627/629 [============================>.] - ETA: 0s - loss: 2.2629\n",
      "generated text:\n",
      "recipe for curry - fruit salad | stir together the parsley , , bell pepper , and up well ( use ) for medium - high mixture for another use for . add the the frangelico and fish the cream , nutmeg , and the freezer until the about just cooks . spoon the canned cream into the the basil powder , \n",
      "\n",
      "629/629 [==============================] - 13s 20ms/step - loss: 2.2627\n",
      "Epoch 5/25\n",
      "627/629 [============================>.] - ETA: 0s - loss: 2.1083\n",
      "generated text:\n",
      "recipe for spinach ' s widest marinated figs with green peppers | whisk first 3 1 / 4 cup blackberries , 2 tablespoons sugar in processor until soft , about 7 seconds . purée mixture to pot over . season with salt and pepper and serve cakes with remaining 1 / 2 / 3 cup stock . \n",
      "\n",
      "629/629 [==============================] - 13s 21ms/step - loss: 2.1084\n",
      "Epoch 6/25\n",
      "629/629 [==============================] - ETA: 0s - loss: 2.0065\n",
      "generated text:\n",
      "recipe for tuscan chicken paneer and chive pork | 1 . on layers with an electric mixer , beat butter , buttermilk , soy sauce , sugar , 2 piece at a shallow serving every 5 - boiled flour . dust with grapeseed oil and whisk to coat it with more , tomato sauce , and parsley leaves . serve the soup separately , then www and garnish to fill . \n",
      "\n",
      "629/629 [==============================] - 13s 21ms/step - loss: 2.0065\n",
      "Epoch 7/25\n",
      "629/629 [==============================] - ETA: 0s - loss: 1.9335\n",
      "generated text:\n",
      "recipe for chilled salsa available eggs and cheddar salad | in olive oil bowl with a silpat and cook for the ice , stirring , until a thin is 48 to package directions ; drain , 10–12 to 2 hours . add to a simmer thoroughly , whisking frequently , or peel until very light yellow thick . drain and keep warm . in a large bowl arrange on a bowl of cheese warm layer with top of pans with orange . combine yogurt , coconut , mustard , 1 / 2 cup garlic , parsley , and cumin .\n",
      "\n",
      "629/629 [==============================] - 14s 23ms/step - loss: 1.9335\n",
      "Epoch 8/25\n",
      "629/629 [==============================] - ETA: 0s - loss: 1.8769\n",
      "generated text:\n",
      "recipe for potato and potato pancakes in [UNK] | combine unsalted butter , 2 cups broth , chocolate cider , rum , and sugar in processor . add 1 / 4 cup cilantro . sprinkle gelatin over ; stir and 1 tablespoon honey mixture , 1 / 4 cup sugar , milk and remaining syrup until blended in small bowl . mix in pine nuts , 2 tablespoons vodka , herbs , then serve salad in sauce . garnish with remaining glasses . \n",
      "\n",
      "629/629 [==============================] - 13s 21ms/step - loss: 1.8769\n",
      "Epoch 9/25\n",
      "629/629 [==============================] - ETA: 0s - loss: 1.8304\n",
      "generated text:\n",
      "recipe for cardamom in oatmeal apple custard | line orange fine paper towel with cold running water ; set aside in chocolate cold running water . using electric mixer , beat flour until just combined . gather dough into ball and gently fold overhang under to form into ball disk . chill until ready to base for up mixture . transfer to a a bowl and toss with remaining champagne . \n",
      "\n",
      "629/629 [==============================] - 13s 21ms/step - loss: 1.8304\n",
      "Epoch 10/25\n",
      "628/629 [============================>.] - ETA: 0s - loss: 1.7919\n",
      "generated text:\n",
      "recipe for buttermilk veal mix - corn muffins | preheat oven to 1 . fill a serving platter with the remaining quarter of olive oil . squeeze the fish into tamales . prepare the freezer for pickles . \n",
      "\n",
      "629/629 [==============================] - 12s 19ms/step - loss: 1.7919\n",
      "Epoch 11/25\n",
      "629/629 [==============================] - ETA: 0s - loss: 1.7589\n",
      "generated text:\n",
      "recipe for green chile - ginger chicken | heat oil in a large pot over medium heat . meanwhile , heat oil in a shallow skillet over medium - high heat . cook beans and lemon in 1 / 2 teaspoon thyme , stirring , until golden , about 5 minutes . add onions and bell pepper and sauté until soft , about 10 minutes . reduce heat to low and simmer , cover , and surround with sea salt . working into a foil - flavored roast 1 week . \n",
      "\n",
      "629/629 [==============================] - 13s 21ms/step - loss: 1.7589\n",
      "Epoch 12/25\n",
      "629/629 [==============================] - ETA: 0s - loss: 1.7300\n",
      "generated text:\n",
      "recipe for turkey with streusel pies | 1 . whisk together the sugar and salt in a heavy saucepan and bring to a boil over it . cover the pan and braise , covered and for 2 hours , for a before using a little . to remove of the shell from the tongue , then refrigerate the 20 minutes or until an instant - read thermometer registers handled . the chop is naturally duck . transfer them to a very blender and strain the shredded dressing into a pilsner or nonstick glass and cover with tip of a glass\n",
      "\n",
      "629/629 [==============================] - 14s 22ms/step - loss: 1.7300\n",
      "Epoch 13/25\n",
      "628/629 [============================>.] - ETA: 0s - loss: 1.7043\n",
      "generated text:\n",
      "recipe for roasted ginger - glazed kielbasa with citrus cola | rinse turkey and soak 10 minutes with tongs to medium - high ; squeeze greens in bowl . using slotted spoon , transfer chicken to bowl . cut endive with 1 1 / 2 cups flour bulb ( by 11 / 4 - inch cloves chunks in stemmed ) . gently stir 2 tablespoons butter into each of mustard mixture ; mix 2 seconds . season with salt and pepper . garnish with mint . \n",
      "\n",
      "629/629 [==============================] - 13s 21ms/step - loss: 1.7045\n",
      "Epoch 14/25\n",
      "628/629 [============================>.] - ETA: 0s - loss: 1.6817\n",
      "generated text:\n",
      "recipe for jalapeño - pumpkin seeds | combine all ingredients in large bowl . boil mixture gradually whisk in broth mixture until thick and onion wilts . season with soaking liquid and coarsely chop vegetables . serve tomato mixture warm or olive paste or sangria over steaks . \n",
      "\n",
      "629/629 [==============================] - 12s 20ms/step - loss: 1.6814\n",
      "Epoch 15/25\n",
      "629/629 [==============================] - ETA: 0s - loss: 1.6610\n",
      "generated text:\n",
      "recipe for shrimp on baby grain sauce | combine first 4 ingredients in processor . stir until heated through . transfer processor ; puree until finely ground . place lettuce on large rimmed baking sheet . heat 1 1 / 2 cups sherry oil in large nonstick skillet over medium - high heat . add calamari ; whisk 2 minutes . season rabbit with salt and pepper ; add mussels . cover and simmer until beef is wilted , stirring occasionally , about 25 minutes . remove clams from potatoes and reserve skillet . place eggplant , vegetables , mushrooms\n",
      "\n",
      "629/629 [==============================] - 14s 22ms/step - loss: 1.6610\n",
      "Epoch 16/25\n",
      "627/629 [============================>.] - ETA: 0s - loss: 1.6430\n",
      "generated text:\n",
      "recipe for honey - glazed semolina scones | preheat oven to 325°f . line 13 x sheet of foil with cookie sheets , then invert phyllo sides of turkey with egg tomato mixture from bottom of pan . bake puffs until brown and mixture has lightly browned , about 20 minutes . cool in pan 15 minutes . cool brownies completely in pan or pie weights or small cup crust well . spread half of bread mixture in center of six 3 / 2x2 3 / 4 - inch - diameter springform pan . arrange cookies on buttered sides paper\n",
      "\n",
      "629/629 [==============================] - 14s 22ms/step - loss: 1.6424\n",
      "Epoch 17/25\n",
      "629/629 [==============================] - ETA: 0s - loss: 1.6255\n",
      "generated text:\n",
      "recipe for tomato ( norwegian fresh green all greens ) | preheat oven to 425°f . bring lemon juice , water , fennel seeds , and garlic to a boil in a 13 - 8 - sided roasting pan . whisk together milk , mustard , dill , 1 1 / 2 tsp . salt , and 1 / 4 tsp . nutmeg in a medium bowl to blend . stir in apricot mixture ingredients . spoon vinaigrette over , then sprinkle with potatoes and spoon on your own sprinkle with any crackers . serve ( do not get )\n",
      "\n",
      "629/629 [==============================] - 14s 22ms/step - loss: 1.6255\n",
      "Epoch 18/25\n",
      "626/629 [============================>.] - ETA: 0s - loss: 1.6095\n",
      "generated text:\n",
      "recipe for peach - marinated noodle chutney | preheat oven to 300°f . spray dates and heavy large pot of boiling water with olive oil , basil , thyme , honey , and peppercorns and cumin seeds in a small saucepan over medium heat , stirring occasionally , shortening , and salt until dissolved . increase heat and boil gently until most of mixture begins to fall through , 30 to 40 minutes . cool slightly . in a 13 - by 12 - inch shallow baking dish , with bacon florets or large enough water to 350°f ( if\n",
      "\n",
      "629/629 [==============================] - 14s 22ms/step - loss: 1.6100\n",
      "Epoch 19/25\n",
      "627/629 [============================>.] - ETA: 0s - loss: 1.5956\n",
      "generated text:\n",
      "recipe for masa tasting with mushroom - drippings and - dumplings | bring a covered large pot of salted salted water to dissolve all the water . stir in the carrot and the cloves from the from , white beans and the cilantro , and 2 cups water ( the farro will so discard the the very tight - leaves and flavor remove any that do not burn . 1 hour and loosen the flavor as it pressing as possible . transfer the sausages to a serving plate and let cool . to take about 10 - 10 minutes .\n",
      "\n",
      "629/629 [==============================] - 14s 22ms/step - loss: 1.5957\n",
      "Epoch 20/25\n",
      "626/629 [============================>.] - ETA: 0s - loss: 1.5830\n",
      "generated text:\n",
      "recipe for pineapple - fig tartlets | line baking sheet with parchment paper . pierce rice with fork ; set aside . add water in heavy small - bottomed 3 - quart saucepan ; stir gently to combine . cook until very tender , about 20 minutes . add broth , orange peel , dill , nutmeg and salt and pepper to taste . ( can be made 1 day ahead . cover and chill . ) \n",
      "\n",
      "629/629 [==============================] - 13s 21ms/step - loss: 1.5825\n",
      "Epoch 21/25\n",
      "628/629 [============================>.] - ETA: 0s - loss: 1.5703\n",
      "generated text:\n",
      "recipe for pear and almond crisp cookies with star anise sandwiches | preheat oven to 350°f . butter 11 - inch - diameter springform pan . whisk first 5 ingredients in a bowl and mix well . add melted butter and drizzle with remaining 2 tablespoons olive oil and whisk until dough begins to form . beat egg whites in another large bowl to dough chilled , then transfer mixture to a bowl and using a spoon , into a larger bowl of ice and cold water and let stand 1–2 minutes . cut between membranes to release segments into\n",
      "\n",
      "629/629 [==============================] - 14s 22ms/step - loss: 1.5702\n",
      "Epoch 22/25\n",
      "627/629 [============================>.] - ETA: 0s - loss: 1.5587\n",
      "generated text:\n",
      "recipe for tagliatelle with warm clam stock | pat steaks with about 2 rings and bay leaves in a roasting pan and add to brine and roast in a dry spots , basting occasionally with a fork every 2 - inch , 25 every 30 minutes , until crisp and pan on all their sides , for 15 minutes . transfer pork to a cutting board and let stand 10 minutes . peel beet segments , then diagonally cut cauliflower into wedges and place in a medium bowl . add to coarsely chopped avocado , with lemon juice and remaining\n",
      "\n",
      "629/629 [==============================] - 14s 22ms/step - loss: 1.5588\n",
      "Epoch 23/25\n",
      "627/629 [============================>.] - ETA: 0s - loss: 1.5483\n",
      "generated text:\n",
      "recipe for fiesta tomato shells | pat chicken dry and season with salt and pepper . heat oil in a 10 - inch nonstick skillet over moderately high heat until hot but not smoking , then add onion and celery , then sauté , stirring , 18 minutes . add water , reduce heat to medium - low , cover , and cook , turning noodles , turning occasionally , 6 minutes , and until skin is just opaque throughout , 20 to 25 minutes . transfer shrimp with a slotted spoon to a colander and reserve cooking in a\n",
      "\n",
      "629/629 [==============================] - 14s 22ms/step - loss: 1.5481\n",
      "Epoch 24/25\n",
      "627/629 [============================>.] - ETA: 0s - loss: 1.5379\n",
      "generated text:\n",
      "recipe for toasted spice meringue brisket | 1 . halve the pit chiles , cut the rounds into 4 balls . place baguette wedges on an 8 - by 4 - inch baking dish . ( or use a 1 / 2 - cup muffin cups additional yogurt in the hot crème fraîche and then lightly dust with the grains and sprinkle just on the grill , then add the buttermilk and onion mixture . the broil pork on grill halfway , turning it , until crisp on the skins , about 4 minutes . place the husks on a\n",
      "\n",
      "629/629 [==============================] - 14s 22ms/step - loss: 1.5380\n",
      "Epoch 25/25\n",
      "629/629 [==============================] - ETA: 0s - loss: 1.5286\n",
      "generated text:\n",
      "recipe for coconut - blts cheeseburgers with mango and honey dressing | for saté : combine the ketchup , the mirin , vinegar , sunflower seeds , cayenne , allspice , and pickapeppa in a large bowl to cover slurry . stir in it , stir together the tomato paste , and chili powder . store it in a warm spot on an oiled rack set over indirect heat to high and proof hot for 2 minutes . 2 . combine the 3 lettuce and lemons in their sides ( for a salad ) . starting with the asparagus slice\n",
      "\n",
      "629/629 [==============================] - 14s 22ms/step - loss: 1.5286\n"
     ]
    },
    {
     "data": {
      "text/plain": [
       "<keras.callbacks.History at 0x132aed3d850>"
      ]
     },
     "execution_count": 21,
     "metadata": {},
     "output_type": "execute_result"
    }
   ],
   "source": [
    "lstm.fit(\n",
    "    train_ds,\n",
    "    epochs=EPOCHS,\n",
    "    callbacks=[model_checkpoint_callback, tensorboard_callback, text_generator],\n",
    ")"
   ]
  },
  {
   "cell_type": "code",
   "execution_count": 22,
   "id": "369bde44-2e39-4bc6-8549-a3a27ecce55c",
   "metadata": {
    "tags": []
   },
   "outputs": [
    {
     "name": "stderr",
     "output_type": "stream",
     "text": [
      "WARNING:absl:Found untraced functions such as lstm_cell_layer_call_fn, lstm_cell_layer_call_and_return_conditional_losses while saving (showing 2 of 2). These functions will not be directly callable after loading.\n"
     ]
    },
    {
     "name": "stdout",
     "output_type": "stream",
     "text": [
      "INFO:tensorflow:Assets written to: ./models/lstm\\assets\n"
     ]
    },
    {
     "name": "stderr",
     "output_type": "stream",
     "text": [
      "INFO:tensorflow:Assets written to: ./models/lstm\\assets\n"
     ]
    }
   ],
   "source": [
    "# Save the final model\n",
    "lstm.save(\"./models/lstm\")"
   ]
  },
  {
   "cell_type": "markdown",
   "id": "d64e02d2-84dc-40c8-8446-40c09adf1e20",
   "metadata": {},
   "source": [
    "## 6. Generate text using the LSTM"
   ]
  },
  {
   "cell_type": "code",
   "execution_count": 23,
   "id": "4ad23adb-3ec9-4e9a-9a59-b9f9bafca649",
   "metadata": {},
   "outputs": [],
   "source": [
    "def print_probs(info, vocab, top_k=5):\n",
    "    for i in info:\n",
    "        print(f\"\\nPROMPT: {i['prompt']}\")\n",
    "        word_probs = i[\"word_probs\"]\n",
    "        p_sorted = np.sort(word_probs)[::-1][:top_k]\n",
    "        i_sorted = np.argsort(word_probs)[::-1][:top_k]\n",
    "        for p, i in zip(p_sorted, i_sorted):\n",
    "            print(f\"{vocab[i]}:   \\t{np.round(100*p,2)}%\")\n",
    "        print(\"--------\\n\")"
   ]
  },
  {
   "cell_type": "code",
   "execution_count": 24,
   "id": "3cf25578-d47c-4b26-8252-fcdf2316a4ac",
   "metadata": {},
   "outputs": [
    {
     "name": "stdout",
     "output_type": "stream",
     "text": [
      "\n",
      "generated text:\n",
      "recipe for roasted vegetables | chop 1 / 2 teaspoon\n",
      "\n"
     ]
    }
   ],
   "source": [
    "info = text_generator.generate(\n",
    "    \"recipe for roasted vegetables | chop 1 /\", max_tokens=10, temperature=1.0\n",
    ")"
   ]
  },
  {
   "cell_type": "code",
   "execution_count": 25,
   "id": "9df72866-b483-4489-8e26-d5e1466410fa",
   "metadata": {
    "tags": []
   },
   "outputs": [
    {
     "name": "stdout",
     "output_type": "stream",
     "text": [
      "\n",
      "PROMPT: recipe for roasted vegetables | chop 1 /\n",
      "2:   \t51.73%\n",
      "4:   \t35.83%\n",
      "3:   \t9.25%\n",
      "8:   \t1.47%\n",
      "1:   \t0.28%\n",
      "--------\n",
      "\n",
      "\n",
      "PROMPT: recipe for roasted vegetables | chop 1 / 2\n",
      "cup:   \t40.06%\n",
      "teaspoon:   \t19.98%\n",
      "inch:   \t7.95%\n",
      "-:   \t5.68%\n",
      "tsp:   \t5.42%\n",
      "--------\n",
      "\n"
     ]
    }
   ],
   "source": [
    "print_probs(info, vocab)"
   ]
  },
  {
   "cell_type": "code",
   "execution_count": 26,
   "id": "562e1fe8-cbcb-438f-9637-2f2a6279c924",
   "metadata": {},
   "outputs": [
    {
     "name": "stdout",
     "output_type": "stream",
     "text": [
      "\n",
      "generated text:\n",
      "recipe for roasted vegetables | chop 1 / 2 cup\n",
      "\n"
     ]
    }
   ],
   "source": [
    "info = text_generator.generate(\n",
    "    \"recipe for roasted vegetables | chop 1 /\", max_tokens=10, temperature=0.2\n",
    ")"
   ]
  },
  {
   "cell_type": "code",
   "execution_count": 27,
   "id": "56356f21-04ac-40e5-94ff-291eca6a7054",
   "metadata": {},
   "outputs": [
    {
     "name": "stdout",
     "output_type": "stream",
     "text": [
      "\n",
      "PROMPT: recipe for roasted vegetables | chop 1 /\n",
      "2:   \t86.23%\n",
      "4:   \t13.75%\n",
      "3:   \t0.02%\n",
      "8:   \t0.0%\n",
      "1:   \t0.0%\n",
      "--------\n",
      "\n",
      "\n",
      "PROMPT: recipe for roasted vegetables | chop 1 / 2\n",
      "cup:   \t96.97%\n",
      "teaspoon:   \t2.99%\n",
      "inch:   \t0.03%\n",
      "-:   \t0.01%\n",
      "tsp:   \t0.0%\n",
      "--------\n",
      "\n"
     ]
    }
   ],
   "source": [
    "print_probs(info, vocab)"
   ]
  },
  {
   "cell_type": "code",
   "execution_count": 28,
   "id": "2e434497-07f3-4989-a68d-3e31cf8fa4fe",
   "metadata": {},
   "outputs": [
    {
     "name": "stdout",
     "output_type": "stream",
     "text": [
      "\n",
      "generated text:\n",
      "recipe for chocolate ice cream | 1\n",
      "\n",
      "\n",
      "PROMPT: recipe for chocolate ice cream |\n",
      "bring:   \t14.33%\n",
      "in:   \t13.89%\n",
      "stir:   \t10.48%\n",
      "combine:   \t7.44%\n",
      "heat:   \t4.37%\n",
      "--------\n",
      "\n"
     ]
    }
   ],
   "source": [
    "info = text_generator.generate(\n",
    "    \"recipe for chocolate ice cream |\", max_tokens=7, temperature=1.0\n",
    ")\n",
    "print_probs(info, vocab)"
   ]
  },
  {
   "cell_type": "code",
   "execution_count": 29,
   "id": "011cd0e0-956c-4a63-8ec3-f7dfed31764e",
   "metadata": {},
   "outputs": [
    {
     "name": "stdout",
     "output_type": "stream",
     "text": [
      "\n",
      "generated text:\n",
      "recipe for chocolate ice cream | in\n",
      "\n",
      "\n",
      "PROMPT: recipe for chocolate ice cream |\n",
      "bring:   \t47.39%\n",
      "in:   \t40.52%\n",
      "stir:   \t9.93%\n",
      "combine:   \t1.79%\n",
      "heat:   \t0.13%\n",
      "--------\n",
      "\n"
     ]
    }
   ],
   "source": [
    "info = text_generator.generate(\n",
    "    \"recipe for chocolate ice cream |\", max_tokens=7, temperature=0.2\n",
    ")\n",
    "print_probs(info, vocab)"
   ]
  },
  {
   "cell_type": "code",
   "execution_count": 31,
   "id": "dcc5d16d-cfd1-4eb9-960d-82dd3282fbe3",
   "metadata": {},
   "outputs": [
    {
     "name": "stdout",
     "output_type": "stream",
     "text": [
      "\n",
      "generated text:\n",
      "recipe for roasted vegetables |  preheat oven to 400°f . smash garlic cloves and spices in processor . add potatoes and rub around pork breast to 8 intervals to hold pork . refrigerate chicken 30 minutes . meanwhile , combine shrimp sauce , barley , radicchio and bacon in large bowl . add remaining ingredients ; toss to coat . season salad to taste with salt and pepper and mix well . spoon syrup over fish . add sauce in raisins ; season to taste with salt and pepper . ( can be made 1 day ahead . cool slightly\n",
      "\n"
     ]
    }
   ],
   "source": [
    "info = text_generator.generate(\n",
    "    \"recipe for roasted vegetables | \", max_tokens=100, temperature=1.0\n",
    ")"
   ]
  },
  {
   "cell_type": "code",
   "execution_count": 32,
   "id": "20116c73-31f7-4591-8d5d-e1374791e0b4",
   "metadata": {},
   "outputs": [
    {
     "name": "stdout",
     "output_type": "stream",
     "text": [
      "\n",
      "generated text:\n",
      "recipe for roasted vegetables |  preheat oven to 400°f . place 1 / 2 cup oil in heavy large pot . add 1 cup water to pan . cover and cook until tender , about 15 minutes . uncover and simmer until vegetables are tender , about 15 minutes longer . season with salt and pepper . meanwhile , cook pasta in large pot of boiling salted water until tender , about 5 minutes . drain . return to pot . add 1 cup water and bring to boil . reduce heat to medium - low and simmer until liquid\n",
      "\n"
     ]
    }
   ],
   "source": [
    "info = text_generator.generate(\n",
    "    \"recipe for roasted vegetables | \", max_tokens=100, temperature=0.2\n",
    ")"
   ]
  },
  {
   "cell_type": "code",
   "execution_count": null,
   "id": "5f31c6d6-eb92-47e3-b263-1d11ac91f71a",
   "metadata": {},
   "outputs": [],
   "source": []
  }
 ],
 "metadata": {
  "kernelspec": {
   "display_name": "Python 3 (ipykernel)",
   "language": "python",
   "name": "python3"
  },
  "language_info": {
   "codemirror_mode": {
    "name": "ipython",
    "version": 3
   },
   "file_extension": ".py",
   "mimetype": "text/x-python",
   "name": "python",
   "nbconvert_exporter": "python",
   "pygments_lexer": "ipython3",
   "version": "3.8.19"
  }
 },
 "nbformat": 4,
 "nbformat_minor": 5
}
